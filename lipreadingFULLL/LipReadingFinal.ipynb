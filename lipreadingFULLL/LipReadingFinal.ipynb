{
 "cells": [
  {
   "cell_type": "markdown",
   "metadata": {
    "id": "XUsHudU_9Po4"
   },
   "source": [
    "# Lip Reading in TensorFlow\n",
    "\n",
    "An attempt at using TensorFlow to analyse pixels in video files (without sound) of someone talking and produce an estimation of their speech.\n",
    "\n",
    "I decided to use the GRID dataset, which has a good variety of speakers, although the sentence format is quite formulaic. Though this may result in a degree of overfitting, human speech is a very wide dataset and focusing on just one speaker and sentence format enabled me to create a more effective model.\n",
    "\n",
    "I based my Neural Network on the one described in LipNet, which can be found here -\n",
    "\n",
    "https://arxiv.org/pdf/1611.01599\n",
    "\n",
    "\n",
    "The dataset can be downloaded here (speaker 20) -\n",
    "\n",
    "https://spandh.dcs.shef.ac.uk/gridcorpus/\n",
    "\n",
    "The video clips come in the format command(4) + colour(4) + preposition(4) + letter(25) + digit(10) + adverb(4) (Where each number denotes how many choices there are for each category). For example \"place green at i four please\", or \"set blue in k nine now\". This yields 64000 possible sentences. See this video for an example of speaker 20.\n",
    "\n",
    "\n"
   ]
  },
  {
   "cell_type": "markdown",
   "metadata": {},
   "source": [
    "<video controls src=\"s20vids/swwa7p.mpg\">"
   ]
  },
  {
   "cell_type": "markdown",
   "metadata": {},
   "source": [
    "The alignments (or subtitles) for the videos come in the format: <br>\n",
    "\n",
    "0 11500 sil <br>\n",
    "11500 22500 set <br>\n",
    "22500 30500 white <br>\n",
    "30500 33000 with <br>\n",
    "33000 34750 a <br>\n",
    "34750 44750 seven <br>\n",
    "44750 57000 please <br>\n",
    "57000 74500 sil <br>\n",
    "\n",
    "Where the two numbers correspond to the frames in which the word is being said and \"sil\" indicates silence.\n"
   ]
  },
  {
   "cell_type": "markdown",
   "metadata": {},
   "source": [
    "This task represents a temporal classification task, where the model is challenged with corresponding movements in the speakers mouth to a list of vocabulary. We enable this using CTC (Connectionist Temporal Classification) loss, a method devised by Alex Graves in 2006. CTC allows for a probabilistic mapping of input sequences to output sequences without requiring explicit alignment. Each input frame can mapt to either a label in the vocabulary or a blank token, which is then transformed to an alignment when we remove the blank tokens and repeated labels. For example, a video of a person saying hello may be encoded as <br>\"------hhhheeelllo---\", <br>and then turned into \"hello\". The loss is calculated as -log P(Y∣X) where X is the input sequence and Y is the output sequence. The advantages of this method are that there is no need for explicit correspondence between input and output (this is good because lip movements may be slightly different even when speaking the same word), and it works well with variable length sequences (such as sentences)."
   ]
  },
  {
   "cell_type": "markdown",
   "metadata": {},
   "source": [
    "![alt text](LipnetCTC.jpg)\n",
    "<br>An example of CTC, taken from the LipNet paper"
   ]
  },
  {
   "cell_type": "markdown",
   "metadata": {},
   "source": [
    "My aim for this project is to get consistently good results on the speaker I chose to train on, then attempt to test on another speaker just to see if the model has any generalisation capability"
   ]
  },
  {
   "cell_type": "code",
   "execution_count": 47,
   "metadata": {
    "id": "UukwPghV9J8P"
   },
   "outputs": [],
   "source": [
    "import os\n",
    "import numpy as np\n",
    "import cv2\n",
    "import tensorflow as tf\n",
    "import matplotlib.pyplot as plt\n",
    "from typing import List\n",
    "from typing import Tuple\n",
    "\n",
    "from tensorflow.keras.models import Sequential\n",
    "from tensorflow.keras.initializers import Orthogonal\n",
    "from tensorflow.keras.layers import Conv3D, LSTM, Dense, Dropout, Bidirectional, MaxPool3D, Activation, Reshape, SpatialDropout3D, BatchNormalization, TimeDistributed, Flatten, Lambda\n",
    "from tensorflow.keras.callbacks import LearningRateScheduler, ModelCheckpoint\n",
    "from tensorflow.keras.optimizers import Adam"
   ]
  },
  {
   "cell_type": "code",
   "execution_count": 48,
   "metadata": {
    "colab": {
     "base_uri": "https://localhost:8080/"
    },
    "id": "KicQFHIZt3IC",
    "outputId": "048bb689-ab0e-4a96-e7e3-e9c21429e698"
   },
   "outputs": [],
   "source": [
    "tf.config.list_physical_devices('GPU')\n",
    "os.environ[\"OPENCV_LOG_LEVEL\"] = \"SILENT\" "
   ]
  },
  {
   "cell_type": "markdown",
   "metadata": {},
   "source": [
    "Using GPU was crucial for this task, as it is very computationally expensive. On my laptop, epochs had an eta of 2 hours on CPU and 3 minutes on GPU. When training for over 50 epochs, CPU computation is not an option. I have a NVIDIA RTX4060 Laptop GPU and am using Ubuntu 24.04, with CUDA 12.1, CUDNN 8.9 and TensorRT 8.6. This setup works with Tensorflow 2.15."
   ]
  },
  {
   "cell_type": "code",
   "execution_count": 49,
   "metadata": {
    "colab": {
     "base_uri": "https://localhost:8080/"
    },
    "id": "Wb0Fbr0PZh0N",
    "outputId": "df0b4a67-5c22-4ac2-a120-db291d7dad82"
   },
   "outputs": [
    {
     "name": "stdout",
     "output_type": "stream",
     "text": [
      "GPU configured successfully\n"
     ]
    }
   ],
   "source": [
    "physical_devices = tf.config.list_physical_devices('GPU')\n",
    "if physical_devices:\n",
    "    tf.config.experimental.set_memory_growth(physical_devices[0], True)\n",
    "    print(\"GPU configured successfully\")\n",
    "else:\n",
    "    print(\"No GPU found, using CPU\")"
   ]
  },
  {
   "cell_type": "markdown",
   "metadata": {
    "id": "9EqJKdBOEYl-"
   },
   "source": [
    "# Data Loading and Preprocessing"
   ]
  },
  {
   "cell_type": "markdown",
   "metadata": {},
   "source": [
    "Here we implement functions to load the videos and alignments and one to return the two matched files. We implement a mappable function that takes the file path and returns a tuple of tensors containing the frames and alignments, which we then use in the data pipeline to create our dataset."
   ]
  },
  {
   "cell_type": "code",
   "execution_count": 24,
   "metadata": {
    "id": "rH71Oul7LsFh"
   },
   "outputs": [],
   "source": [
    "def load_video(path: str) -> List[float]: # function to load a video as frames from a path, returns a  lsit of frames\n",
    "    cap = cv2.VideoCapture(path)\n",
    "    frames = []\n",
    "    for _ in range(int(cap.get(cv2.CAP_PROP_FRAME_COUNT))):\n",
    "        ret, frame = cap.read()\n",
    "        if not ret:\n",
    "            break\n",
    "        frame = tf.image.rgb_to_grayscale(frame)\n",
    "        # Check the shape of the frame before slicing\n",
    "        if frame.shape[0] >= 236 and frame.shape[1] >= 250:\n",
    "            frames.append(frame[190:236, 110:250, :])\n",
    "        else:\n",
    "            print(f\"Skipping frame with shape {frame.shape} from video {path} as it is too small for slicing\")\n",
    "            continue\n",
    "    cap.release()\n",
    "\n",
    "    if not frames:\n",
    "        raise ValueError(\"No valid frames found in the video\")\n",
    "\n",
    "    mean = tf.math.reduce_mean(frames)\n",
    "    std = tf.math.reduce_std(tf.cast(frames, tf.float32))\n",
    "    return tf.cast((frames - mean), tf.float32) / std # divide by standard deviation to normalize the frames\n"
   ]
  },
  {
   "cell_type": "markdown",
   "metadata": {
    "id": "rYHrkRTUN_9i"
   },
   "source": [
    "These conversion functions are taken from https://keras.io/examples/audio/ctc_asr/ <br>\n",
    "They enable us to convert between the array of numbers signifying the letters and the sentence in chars."
   ]
  },
  {
   "cell_type": "code",
   "execution_count": 25,
   "metadata": {
    "colab": {
     "base_uri": "https://localhost:8080/"
    },
    "collapsed": true,
    "id": "vvMPnd_QM9t3",
    "outputId": "961adbd3-3efc-4661-efc8-1dba9c2723a0"
   },
   "outputs": [
    {
     "name": "stdout",
     "output_type": "stream",
     "text": [
      "The vocabulary is: ['', 'a', 'b', 'c', 'd', 'e', 'f', 'g', 'h', 'i', 'j', 'k', 'l', 'm', 'n', 'o', 'p', 'q', 'r', 's', 't', 'u', 'v', 'w', 'x', 'y', 'z', \"'\", '?', '!', '1', '2', '3', '4', '5', '6', '7', '8', '9', ' '] (size =40)\n"
     ]
    }
   ],
   "source": [
    "characters = [x for x in \"abcdefghijklmnopqrstuvwxyz'?!123456789 \"] # create vocabulary\n",
    "\n",
    "char_to_num = tf.keras.layers.StringLookup(vocabulary=characters, oov_token=\"\")\n",
    "num_to_char = tf.keras.layers.StringLookup(\n",
    "    vocabulary=char_to_num.get_vocabulary(), oov_token=\"\", invert=True\n",
    ")\n",
    "\n",
    "print(\n",
    "    f\"The vocabulary is: {char_to_num.get_vocabulary()} \"\n",
    "    f\"(size ={char_to_num.vocabulary_size()})\"\n",
    ")"
   ]
  },
  {
   "cell_type": "code",
   "execution_count": 26,
   "metadata": {
    "id": "_WVHLXo8PUD_"
   },
   "outputs": [],
   "source": [
    "def load_alignments(path:str) -> List[str]: # function to load the corresponding alignment\n",
    "    with open(path, 'r') as f:\n",
    "        lines = f.readlines()\n",
    "    tokens = []\n",
    "    for line in lines:\n",
    "        line = line.split()\n",
    "        if line[2] != 'sil':  # all lines that are not \"silence\"\n",
    "            tokens = [*tokens,' ',line[2]]\n",
    "    return char_to_num(tf.reshape(tf.strings.unicode_split(tokens, input_encoding='UTF-8'), (-1)))[1:]\n",
    "     # add to tokens array as numbers (using conversion function)"
   ]
  },
  {
   "cell_type": "code",
   "execution_count": 27,
   "metadata": {},
   "outputs": [],
   "source": [
    "def load_data(path: str):\n",
    "    path = bytes.decode(path.numpy())\n",
    "    file_name = path.split('/')[-1].split('.')[0]\n",
    "    video_path = os.path.join('.', 's20vids', f'{file_name}.mpg')\n",
    "    alignment_path = os.path.join('.', 'align', f'{file_name}.align')\n",
    "    \n",
    "    if not os.path.exists(video_path):\n",
    "        raise FileNotFoundError(f\"Video file not found: {video_path}\")\n",
    "    if not os.path.exists(alignment_path):\n",
    "        raise FileNotFoundError(f\"Alignment file not found: {alignment_path}\")\n",
    "    \n",
    "    frames = load_video(video_path)\n",
    "    alignments = load_alignments(alignment_path)\n",
    "    return frames, alignments"
   ]
  },
  {
   "cell_type": "code",
   "execution_count": 11,
   "metadata": {
    "id": "bZri1tW0QE6I"
   },
   "outputs": [],
   "source": [
    "testing = './s20vids/swwa7p.mpg'"
   ]
  },
  {
   "cell_type": "markdown",
   "metadata": {},
   "source": [
    "Below is essentially what the neural net sees, a tensor of shape (75, 46, 140, 1), where 75 is the amount of frames, 46/140 is the height/width of the sliced frame, and 1 is the grayscale value. There is then a tensor of shape (29,), which is a variable length tensor that corresponds to the letters in the alignment using our vocabulary"
   ]
  },
  {
   "cell_type": "code",
   "execution_count": 12,
   "metadata": {
    "colab": {
     "base_uri": "https://localhost:8080/"
    },
    "id": "WcC4dlwDQS5C",
    "outputId": "ba8921f4-5a19-458d-82be-9d5dd307f51d"
   },
   "outputs": [
    {
     "name": "stdout",
     "output_type": "stream",
     "text": [
      "(<tf.Tensor: shape=(75, 46, 140, 1), dtype=float32, numpy=\n",
      "array([[[[1.368082  ],\n",
      "         [1.3422692 ],\n",
      "         [0.8001989 ],\n",
      "         ...,\n",
      "         [5.6013923 ],\n",
      "         [5.678831  ],\n",
      "         [5.523954  ]],\n",
      "\n",
      "        [[1.3422692 ],\n",
      "         [1.3422692 ],\n",
      "         [0.8001989 ],\n",
      "         ...,\n",
      "         [5.6013923 ],\n",
      "         [5.678831  ],\n",
      "         [5.523954  ]],\n",
      "\n",
      "        [[1.368082  ],\n",
      "         [1.368082  ],\n",
      "         [0.77438605],\n",
      "         ...,\n",
      "         [5.5755796 ],\n",
      "         [5.6272054 ],\n",
      "         [5.5755796 ]],\n",
      "\n",
      "        ...,\n",
      "\n",
      "        [[0.6195088 ],\n",
      "         [0.6195088 ],\n",
      "         [0.38719302],\n",
      "         ...,\n",
      "         [5.317451  ],\n",
      "         [5.2658253 ],\n",
      "         [5.2658253 ]],\n",
      "\n",
      "        [[0.59369594],\n",
      "         [0.5678831 ],\n",
      "         [0.38719302],\n",
      "         ...,\n",
      "         [5.317451  ],\n",
      "         [5.2658253 ],\n",
      "         [5.2658253 ]],\n",
      "\n",
      "        [[0.59369594],\n",
      "         [0.5420702 ],\n",
      "         [0.36138016],\n",
      "         ...,\n",
      "         [5.3432636 ],\n",
      "         [5.2658253 ],\n",
      "         [5.2658253 ]]],\n",
      "\n",
      "\n",
      "       [[[1.368082  ],\n",
      "         [1.3422692 ],\n",
      "         [0.90345037],\n",
      "         ...,\n",
      "         [5.5755796 ],\n",
      "         [5.678831  ],\n",
      "         [5.498141  ]],\n",
      "\n",
      "        [[1.3422692 ],\n",
      "         [1.3422692 ],\n",
      "         [0.90345037],\n",
      "         ...,\n",
      "         [5.5755796 ],\n",
      "         [5.678831  ],\n",
      "         [5.498141  ]],\n",
      "\n",
      "        [[1.368082  ],\n",
      "         [1.368082  ],\n",
      "         [0.8001989 ],\n",
      "         ...,\n",
      "         [5.5497665 ],\n",
      "         [5.678831  ],\n",
      "         [5.6013923 ]],\n",
      "\n",
      "        ...,\n",
      "\n",
      "        [[0.6195088 ],\n",
      "         [0.5678831 ],\n",
      "         [0.38719302],\n",
      "         ...,\n",
      "         [5.317451  ],\n",
      "         [5.2658253 ],\n",
      "         [5.2658253 ]],\n",
      "\n",
      "        [[0.59369594],\n",
      "         [0.5420702 ],\n",
      "         [0.4130059 ],\n",
      "         ...,\n",
      "         [5.317451  ],\n",
      "         [5.2658253 ],\n",
      "         [5.240012  ]],\n",
      "\n",
      "        [[0.5678831 ],\n",
      "         [0.5678831 ],\n",
      "         [0.4130059 ],\n",
      "         ...,\n",
      "         [5.317451  ],\n",
      "         [5.2658253 ],\n",
      "         [5.240012  ]]],\n",
      "\n",
      "\n",
      "       [[[1.368082  ],\n",
      "         [1.3422692 ],\n",
      "         [0.92926323],\n",
      "         ...,\n",
      "         [5.5755796 ],\n",
      "         [5.678831  ],\n",
      "         [5.523954  ]],\n",
      "\n",
      "        [[1.3422692 ],\n",
      "         [1.3422692 ],\n",
      "         [0.8776375 ],\n",
      "         ...,\n",
      "         [5.5497665 ],\n",
      "         [5.678831  ],\n",
      "         [5.523954  ]],\n",
      "\n",
      "        [[1.3422692 ],\n",
      "         [1.3422692 ],\n",
      "         [0.77438605],\n",
      "         ...,\n",
      "         [5.498141  ],\n",
      "         [5.6013923 ],\n",
      "         [5.5755796 ]],\n",
      "\n",
      "        ...,\n",
      "\n",
      "        [[0.6453217 ],\n",
      "         [0.5420702 ],\n",
      "         [0.38719302],\n",
      "         ...,\n",
      "         [5.2658253 ],\n",
      "         [5.240012  ],\n",
      "         [5.2658253 ]],\n",
      "\n",
      "        [[0.59369594],\n",
      "         [0.51625735],\n",
      "         [0.38719302],\n",
      "         ...,\n",
      "         [5.317451  ],\n",
      "         [5.240012  ],\n",
      "         [5.2658253 ]],\n",
      "\n",
      "        [[0.5678831 ],\n",
      "         [0.5420702 ],\n",
      "         [0.38719302],\n",
      "         ...,\n",
      "         [5.317451  ],\n",
      "         [5.240012  ],\n",
      "         [5.240012  ]]],\n",
      "\n",
      "\n",
      "       ...,\n",
      "\n",
      "\n",
      "       [[[1.4971464 ],\n",
      "         [1.4971464 ],\n",
      "         [1.0325147 ],\n",
      "         ...,\n",
      "         [5.1367607 ],\n",
      "         [5.498141  ],\n",
      "         [5.4207025 ]],\n",
      "\n",
      "        [[1.4971464 ],\n",
      "         [1.4971464 ],\n",
      "         [1.0325147 ],\n",
      "         ...,\n",
      "         [5.1367607 ],\n",
      "         [5.523954  ],\n",
      "         [5.4207025 ]],\n",
      "\n",
      "        [[1.4455206 ],\n",
      "         [1.4455206 ],\n",
      "         [1.0067018 ],\n",
      "         ...,\n",
      "         [5.162574  ],\n",
      "         [5.498141  ],\n",
      "         [5.523954  ]],\n",
      "\n",
      "        ...,\n",
      "\n",
      "        [[0.6195088 ],\n",
      "         [0.6195088 ],\n",
      "         [0.3355673 ],\n",
      "         ...,\n",
      "         [5.4207025 ],\n",
      "         [5.291638  ],\n",
      "         [5.2658253 ]],\n",
      "\n",
      "        [[0.5678831 ],\n",
      "         [0.59369594],\n",
      "         [0.3355673 ],\n",
      "         ...,\n",
      "         [5.3948894 ],\n",
      "         [5.291638  ],\n",
      "         [5.2658253 ]],\n",
      "\n",
      "        [[0.5678831 ],\n",
      "         [0.5678831 ],\n",
      "         [0.3355673 ],\n",
      "         ...,\n",
      "         [5.3948894 ],\n",
      "         [5.291638  ],\n",
      "         [5.2658253 ]]],\n",
      "\n",
      "\n",
      "       [[[1.4713335 ],\n",
      "         [1.4713335 ],\n",
      "         [1.0325147 ],\n",
      "         ...,\n",
      "         [5.1367607 ],\n",
      "         [5.523954  ],\n",
      "         [5.4207025 ]],\n",
      "\n",
      "        [[1.4713335 ],\n",
      "         [1.4713335 ],\n",
      "         [1.0325147 ],\n",
      "         ...,\n",
      "         [5.1883864 ],\n",
      "         [5.523954  ],\n",
      "         [5.498141  ]],\n",
      "\n",
      "        [[1.4713335 ],\n",
      "         [1.4713335 ],\n",
      "         [1.0325147 ],\n",
      "         ...,\n",
      "         [5.162574  ],\n",
      "         [5.498141  ],\n",
      "         [5.498141  ]],\n",
      "\n",
      "        ...,\n",
      "\n",
      "        [[0.6195088 ],\n",
      "         [0.6453217 ],\n",
      "         [0.25812867],\n",
      "         ...,\n",
      "         [5.446515  ],\n",
      "         [5.2658253 ],\n",
      "         [5.317451  ]],\n",
      "\n",
      "        [[0.5420702 ],\n",
      "         [0.6453217 ],\n",
      "         [0.28394154],\n",
      "         ...,\n",
      "         [5.3948894 ],\n",
      "         [5.2658253 ],\n",
      "         [5.2658253 ]],\n",
      "\n",
      "        [[0.49044448],\n",
      "         [0.59369594],\n",
      "         [0.28394154],\n",
      "         ...,\n",
      "         [5.3690767 ],\n",
      "         [5.2658253 ],\n",
      "         [5.240012  ]]],\n",
      "\n",
      "\n",
      "       [[[1.4971464 ],\n",
      "         [1.4713335 ],\n",
      "         [1.0841404 ],\n",
      "         ...,\n",
      "         [5.1367607 ],\n",
      "         [5.498141  ],\n",
      "         [5.446515  ]],\n",
      "\n",
      "        [[1.4971464 ],\n",
      "         [1.4713335 ],\n",
      "         [1.0841404 ],\n",
      "         ...,\n",
      "         [5.1883864 ],\n",
      "         [5.498141  ],\n",
      "         [5.523954  ]],\n",
      "\n",
      "        [[1.4713335 ],\n",
      "         [1.4713335 ],\n",
      "         [1.0583276 ],\n",
      "         ...,\n",
      "         [5.1883864 ],\n",
      "         [5.472328  ],\n",
      "         [5.498141  ]],\n",
      "\n",
      "        ...,\n",
      "\n",
      "        [[0.6195088 ],\n",
      "         [0.6453217 ],\n",
      "         [0.25812867],\n",
      "         ...,\n",
      "         [5.4207025 ],\n",
      "         [5.240012  ],\n",
      "         [5.2658253 ]],\n",
      "\n",
      "        [[0.5678831 ],\n",
      "         [0.59369594],\n",
      "         [0.23231581],\n",
      "         ...,\n",
      "         [5.3690767 ],\n",
      "         [5.2141995 ],\n",
      "         [5.240012  ]],\n",
      "\n",
      "        [[0.59369594],\n",
      "         [0.5420702 ],\n",
      "         [0.25812867],\n",
      "         ...,\n",
      "         [5.3432636 ],\n",
      "         [5.240012  ],\n",
      "         [5.2141995 ]]]], dtype=float32)>, <tf.Tensor: shape=(29,), dtype=int64, numpy=\n",
      "array([19,  5, 20, 39, 23,  8,  9, 20,  5, 39, 23,  9, 20,  8, 39,  1, 39,\n",
      "       19,  5, 22,  5, 14, 39, 16, 12,  5,  1, 19,  5])>)\n"
     ]
    }
   ],
   "source": [
    "print(load_data(tf.convert_to_tensor(testing))) \n",
    "                                      "
   ]
  },
  {
   "cell_type": "code",
   "execution_count": 13,
   "metadata": {
    "id": "nK2c8uangJt7"
   },
   "outputs": [],
   "source": [
    "def mappable_function(path:str) ->Tuple[tf.Tensor, tf.Tensor]: # function takes in a path and returns the frames and alignments\n",
    "      result = tf.py_function(load_data, [path], (tf.float32, tf.int64)) # load_data returns a tuple of two tensors\n",
    "      return result"
   ]
  },
  {
   "cell_type": "markdown",
   "metadata": {
    "id": "NZg1IZnZSl_J"
   },
   "source": [
    "### Using MatPlotLib to visualise frames\n",
    "\n",
    "As you can see, MPL can be used to show what the NN sees. I used this (and trial + error on as many clips as I had patience for ) to center the mouth in the image, as this is the only part of the face we are interested in."
   ]
  },
  {
   "cell_type": "code",
   "execution_count": 12,
   "metadata": {
    "colab": {
     "base_uri": "https://localhost:8080/",
     "height": 244
    },
    "id": "NMj_qwUqUTEH",
    "outputId": "c6afeed7-edf0-48f9-d87a-112544d7dc54"
   },
   "outputs": [
    {
     "data": {
      "text/plain": [
       "<matplotlib.image.AxesImage at 0x76edfe3778b0>"
      ]
     },
     "execution_count": 12,
     "metadata": {},
     "output_type": "execute_result"
    },
    {
     "data": {
      "image/png": "[encoded data removed]",
      "text/plain": [
       "<Figure size 640x480 with 1 Axes>"
      ]
     },
     "metadata": {},
     "output_type": "display_data"
    }
   ],
   "source": [
    "frames, alignments = load_data(tf.convert_to_tensor(testing))\n",
    "plt.imshow(frames[34])"
   ]
  },
  {
   "cell_type": "code",
   "execution_count": 12,
   "metadata": {
    "colab": {
     "base_uri": "https://localhost:8080/"
    },
    "id": "ChnNxAAaoA6B",
    "outputId": "33449548-8766-41b7-fbf8-ffb8fbe1903e"
   },
   "outputs": [
    {
     "data": {
      "text/plain": [
       "<tf.Tensor: shape=(), dtype=string, numpy=b'bin blue with k seven please'>"
      ]
     },
     "execution_count": 12,
     "metadata": {},
     "output_type": "execute_result"
    }
   ],
   "source": [
    "tf.strings.reduce_join([bytes.decode(x) for x in num_to_char(alignments.numpy()).numpy()])"
   ]
  },
  {
   "cell_type": "markdown",
   "metadata": {
    "id": "3TA90gu1fz_Z"
   },
   "source": [
    "# Dataset creation"
   ]
  },
  {
   "cell_type": "markdown",
   "metadata": {},
   "source": [
    "Now it is time to create our dataset. We create batches of 2 videos, and then split our data (after shuffling) into training and testing data for validation. I chose a batch size of 2 where the LipNet researchers used 50 as their batch size, but they were training on a much larger dataset as they used "
   ]
  },
  {
   "cell_type": "code",
   "execution_count": 28,
   "metadata": {
    "id": "OaeQv6x3f6Op"
   },
   "outputs": [],
   "source": [
    "try:\n",
    "    data = tf.data.Dataset.list_files('./s20vids/*.mpg') # all videos in s20 folder\n",
    "    data = data.shuffle(500, reshuffle_each_iteration=False)\n",
    "    data = data.map(mappable_function)\n",
    "    data = data.padded_batch(2, padded_shapes=([75,None,None,None],[40])) # create batches of 2 videos\n",
    "    data = data.prefetch(tf.data.AUTOTUNE)\n",
    "    # split data into training and testing\n",
    "    train = data.take(450)\n",
    "    test = data.skip(450)\n",
    "except Exception as e:\n",
    "    print(\"dataset error\", e)"
   ]
  },
  {
   "cell_type": "code",
   "execution_count": 29,
   "metadata": {
    "id": "yNEBPQpYkeWq"
   },
   "outputs": [],
   "source": [
    "frames, alignments = data.as_numpy_iterator().next()"
   ]
  },
  {
   "cell_type": "code",
   "execution_count": 15,
   "metadata": {},
   "outputs": [],
   "source": [
    "vis = data.as_numpy_iterator()"
   ]
  },
  {
   "cell_type": "code",
   "execution_count": 16,
   "metadata": {
    "colab": {
     "base_uri": "https://localhost:8080/"
    },
    "collapsed": true,
    "id": "mtj0N2UAlBqp",
    "outputId": "0f72a04d-03c4-4a94-bd20-4f04ab2ad3be"
   },
   "outputs": [
    {
     "data": {
      "text/plain": [
       "array([[[[[0.4164586 ],\n",
       "          [0.05552781],\n",
       "          [6.774393  ],\n",
       "          ...,\n",
       "          [5.8581843 ],\n",
       "          [5.6083093 ],\n",
       "          [5.636073  ]],\n",
       "\n",
       "         [[0.4164586 ],\n",
       "          [0.05552781],\n",
       "          [6.746629  ],\n",
       "          ...,\n",
       "          [5.8581843 ],\n",
       "          [5.663837  ],\n",
       "          [5.691601  ]],\n",
       "\n",
       "         [[0.27763906],\n",
       "          [7.052032  ],\n",
       "          [6.746629  ],\n",
       "          ...,\n",
       "          [5.7748923 ],\n",
       "          [5.7471285 ],\n",
       "          [5.7193646 ]],\n",
       "\n",
       "         ...,\n",
       "\n",
       "         [[6.857685  ],\n",
       "          [6.829921  ],\n",
       "          [6.829921  ],\n",
       "          ...,\n",
       "          [5.580545  ],\n",
       "          [5.4694896 ],\n",
       "          [5.580545  ]],\n",
       "\n",
       "         [[6.857685  ],\n",
       "          [6.829921  ],\n",
       "          [6.829921  ],\n",
       "          ...,\n",
       "          [5.580545  ],\n",
       "          [5.4694896 ],\n",
       "          [5.580545  ]],\n",
       "\n",
       "         [[6.829921  ],\n",
       "          [6.829921  ],\n",
       "          [6.829921  ],\n",
       "          ...,\n",
       "          [5.552781  ],\n",
       "          [5.4694896 ],\n",
       "          [5.580545  ]]],\n",
       "\n",
       "\n",
       "        [[[0.4164586 ],\n",
       "          [0.        ],\n",
       "          [6.746629  ],\n",
       "          ...,\n",
       "          [5.8026567 ],\n",
       "          [5.6083093 ],\n",
       "          [5.663837  ]],\n",
       "\n",
       "         [[0.4164586 ],\n",
       "          [0.02776391],\n",
       "          [6.6633377 ],\n",
       "          ...,\n",
       "          [5.7748923 ],\n",
       "          [5.7193646 ],\n",
       "          [5.7471285 ]],\n",
       "\n",
       "         [[0.30540296],\n",
       "          [0.02776391],\n",
       "          [6.635574  ],\n",
       "          ...,\n",
       "          [5.8304205 ],\n",
       "          [5.6083093 ],\n",
       "          [5.663837  ]],\n",
       "\n",
       "         ...,\n",
       "\n",
       "         [[6.857685  ],\n",
       "          [6.774393  ],\n",
       "          [6.829921  ],\n",
       "          ...,\n",
       "          [5.580545  ],\n",
       "          [5.413962  ],\n",
       "          [5.5250173 ]],\n",
       "\n",
       "         [[6.829921  ],\n",
       "          [6.774393  ],\n",
       "          [6.802157  ],\n",
       "          ...,\n",
       "          [5.580545  ],\n",
       "          [5.4694896 ],\n",
       "          [5.552781  ]],\n",
       "\n",
       "         [[6.802157  ],\n",
       "          [6.802157  ],\n",
       "          [6.802157  ],\n",
       "          ...,\n",
       "          [5.5250173 ],\n",
       "          [5.4694896 ],\n",
       "          [5.552781  ]]],\n",
       "\n",
       "\n",
       "        [[[0.3886947 ],\n",
       "          [7.0797963 ],\n",
       "          [6.635574  ],\n",
       "          ...,\n",
       "          [5.8304205 ],\n",
       "          [5.552781  ],\n",
       "          [5.636073  ]],\n",
       "\n",
       "         [[0.3886947 ],\n",
       "          [0.        ],\n",
       "          [6.635574  ],\n",
       "          ...,\n",
       "          [5.8026567 ],\n",
       "          [5.636073  ],\n",
       "          [5.7471285 ]],\n",
       "\n",
       "         [[0.30540296],\n",
       "          [7.0797963 ],\n",
       "          [6.6078095 ],\n",
       "          ...,\n",
       "          [5.8026567 ],\n",
       "          [5.6083093 ],\n",
       "          [5.663837  ]],\n",
       "\n",
       "         ...,\n",
       "\n",
       "         [[6.829921  ],\n",
       "          [6.774393  ],\n",
       "          [6.746629  ],\n",
       "          ...,\n",
       "          [5.552781  ],\n",
       "          [5.413962  ],\n",
       "          [5.5250173 ]],\n",
       "\n",
       "         [[6.829921  ],\n",
       "          [6.774393  ],\n",
       "          [6.6911016 ],\n",
       "          ...,\n",
       "          [5.552781  ],\n",
       "          [5.4972534 ],\n",
       "          [5.580545  ]],\n",
       "\n",
       "         [[6.802157  ],\n",
       "          [6.802157  ],\n",
       "          [6.746629  ],\n",
       "          ...,\n",
       "          [5.5250173 ],\n",
       "          [5.4972534 ],\n",
       "          [5.580545  ]]],\n",
       "\n",
       "\n",
       "        ...,\n",
       "\n",
       "\n",
       "        [[[0.8329172 ],\n",
       "          [0.69409764],\n",
       "          [0.6108059 ],\n",
       "          ...,\n",
       "          [5.580545  ],\n",
       "          [5.4972534 ],\n",
       "          [5.3584337 ]],\n",
       "\n",
       "         [[0.8329172 ],\n",
       "          [0.72186154],\n",
       "          [0.5552781 ],\n",
       "          ...,\n",
       "          [5.6083093 ],\n",
       "          [5.4972534 ],\n",
       "          [5.3584337 ]],\n",
       "\n",
       "         [[0.69409764],\n",
       "          [0.69409764],\n",
       "          [0.6108059 ],\n",
       "          ...,\n",
       "          [5.580545  ],\n",
       "          [5.580545  ],\n",
       "          [5.413962  ]],\n",
       "\n",
       "         ...,\n",
       "\n",
       "         [[0.05552781],\n",
       "          [6.9965043 ],\n",
       "          [6.802157  ],\n",
       "          ...,\n",
       "          [5.691601  ],\n",
       "          [5.7193646 ],\n",
       "          [5.7193646 ]],\n",
       "\n",
       "         [[0.05552781],\n",
       "          [6.9965043 ],\n",
       "          [6.774393  ],\n",
       "          ...,\n",
       "          [5.691601  ],\n",
       "          [5.7193646 ],\n",
       "          [5.7193646 ]],\n",
       "\n",
       "         [[0.02776391],\n",
       "          [6.9965043 ],\n",
       "          [6.774393  ],\n",
       "          ...,\n",
       "          [5.7193646 ],\n",
       "          [5.7471285 ],\n",
       "          [5.7193646 ]]],\n",
       "\n",
       "\n",
       "        [[[0.8329172 ],\n",
       "          [0.66633373],\n",
       "          [0.5275142 ],\n",
       "          ...,\n",
       "          [5.6083093 ],\n",
       "          [5.580545  ],\n",
       "          [5.413962  ]],\n",
       "\n",
       "         [[0.8329172 ],\n",
       "          [0.69409764],\n",
       "          [0.5275142 ],\n",
       "          ...,\n",
       "          [5.6083093 ],\n",
       "          [5.691601  ],\n",
       "          [5.386198  ]],\n",
       "\n",
       "         [[0.69409764],\n",
       "          [0.583042  ],\n",
       "          [0.63856983],\n",
       "          ...,\n",
       "          [5.6083093 ],\n",
       "          [5.636073  ],\n",
       "          [5.413962  ]],\n",
       "\n",
       "         ...,\n",
       "\n",
       "         [[0.08329172],\n",
       "          [6.9965043 ],\n",
       "          [6.802157  ],\n",
       "          ...,\n",
       "          [5.636073  ],\n",
       "          [5.636073  ],\n",
       "          [5.7748923 ]],\n",
       "\n",
       "         [[0.08329172],\n",
       "          [6.9965043 ],\n",
       "          [6.774393  ],\n",
       "          ...,\n",
       "          [5.636073  ],\n",
       "          [5.691601  ],\n",
       "          [5.7471285 ]],\n",
       "\n",
       "         [[0.05552781],\n",
       "          [6.9965043 ],\n",
       "          [6.746629  ],\n",
       "          ...,\n",
       "          [5.7193646 ],\n",
       "          [5.7193646 ],\n",
       "          [5.7471285 ]]],\n",
       "\n",
       "\n",
       "        [[[0.8329172 ],\n",
       "          [0.66633373],\n",
       "          [0.5275142 ],\n",
       "          ...,\n",
       "          [5.636073  ],\n",
       "          [5.552781  ],\n",
       "          [5.386198  ]],\n",
       "\n",
       "         [[0.8051533 ],\n",
       "          [0.69409764],\n",
       "          [0.583042  ],\n",
       "          ...,\n",
       "          [5.636073  ],\n",
       "          [5.636073  ],\n",
       "          [5.413962  ]],\n",
       "\n",
       "         [[0.74962544],\n",
       "          [0.63856983],\n",
       "          [0.6108059 ],\n",
       "          ...,\n",
       "          [5.6083093 ],\n",
       "          [5.663837  ],\n",
       "          [5.4417257 ]],\n",
       "\n",
       "         ...,\n",
       "\n",
       "         [[0.11105563],\n",
       "          [6.9687405 ],\n",
       "          [6.802157  ],\n",
       "          ...,\n",
       "          [5.636073  ],\n",
       "          [5.691601  ],\n",
       "          [5.7471285 ]],\n",
       "\n",
       "         [[0.08329172],\n",
       "          [6.9965043 ],\n",
       "          [6.802157  ],\n",
       "          ...,\n",
       "          [5.636073  ],\n",
       "          [5.691601  ],\n",
       "          [5.7193646 ]],\n",
       "\n",
       "         [[0.05552781],\n",
       "          [6.9965043 ],\n",
       "          [6.774393  ],\n",
       "          ...,\n",
       "          [5.7193646 ],\n",
       "          [5.7193646 ],\n",
       "          [5.7471285 ]]]],\n",
       "\n",
       "\n",
       "\n",
       "       [[[[1.4850215 ],\n",
       "          [1.4850215 ],\n",
       "          [1.1590412 ],\n",
       "          ...,\n",
       "          [8.620369  ],\n",
       "          [8.511708  ],\n",
       "          [7.7510877 ]],\n",
       "\n",
       "         [[1.4850215 ],\n",
       "          [1.4850215 ],\n",
       "          [1.1590412 ],\n",
       "          ...,\n",
       "          [8.729029  ],\n",
       "          [8.511708  ],\n",
       "          [7.859748  ]],\n",
       "\n",
       "         [[1.3763614 ],\n",
       "          [1.3763614 ],\n",
       "          [1.0866011 ],\n",
       "          ...,\n",
       "          [8.982569  ],\n",
       "          [7.968408  ],\n",
       "          [8.547929  ]],\n",
       "\n",
       "         ...,\n",
       "\n",
       "         [[0.8692809 ],\n",
       "          [0.8692809 ],\n",
       "          [0.8692809 ],\n",
       "          ...,\n",
       "          [8.366829  ],\n",
       "          [8.547929  ],\n",
       "          [8.547929  ]],\n",
       "\n",
       "         [[0.7968408 ],\n",
       "          [0.7968408 ],\n",
       "          [0.83306086],\n",
       "          ...,\n",
       "          [8.330608  ],\n",
       "          [8.475489  ],\n",
       "          [8.4030485 ]],\n",
       "\n",
       "         [[0.7968408 ],\n",
       "          [0.7968408 ],\n",
       "          [0.7968408 ],\n",
       "          ...,\n",
       "          [8.185728  ],\n",
       "          [8.511708  ],\n",
       "          [8.330608  ]]],\n",
       "\n",
       "\n",
       "        [[[1.3763614 ],\n",
       "          [1.3763614 ],\n",
       "          [1.1952612 ],\n",
       "          ...,\n",
       "          [8.801469  ],\n",
       "          [8.692809  ],\n",
       "          [7.7148676 ]],\n",
       "\n",
       "         [[1.3763614 ],\n",
       "          [1.3763614 ],\n",
       "          [1.1952612 ],\n",
       "          ...,\n",
       "          [8.910129  ],\n",
       "          [8.584148  ],\n",
       "          [8.113288  ]],\n",
       "\n",
       "         [[1.4125814 ],\n",
       "          [1.4125814 ],\n",
       "          [1.1590412 ],\n",
       "          ...,\n",
       "          [9.018789  ],\n",
       "          [8.040848  ],\n",
       "          [8.366829  ]],\n",
       "\n",
       "         ...,\n",
       "\n",
       "         [[0.83306086],\n",
       "          [0.83306086],\n",
       "          [0.7968408 ],\n",
       "          ...,\n",
       "          [8.439268  ],\n",
       "          [8.547929  ],\n",
       "          [8.584148  ]],\n",
       "\n",
       "         [[0.83306086],\n",
       "          [0.83306086],\n",
       "          [0.7968408 ],\n",
       "          ...,\n",
       "          [8.475489  ],\n",
       "          [8.439268  ],\n",
       "          [8.439268  ]],\n",
       "\n",
       "         [[0.83306086],\n",
       "          [0.83306086],\n",
       "          [0.7606208 ],\n",
       "          ...,\n",
       "          [8.366829  ],\n",
       "          [8.511708  ],\n",
       "          [8.4030485 ]]],\n",
       "\n",
       "\n",
       "        [[[1.3763614 ],\n",
       "          [1.3763614 ],\n",
       "          [1.1952612 ],\n",
       "          ...,\n",
       "          [8.729029  ],\n",
       "          [8.692809  ],\n",
       "          [7.7873077 ]],\n",
       "\n",
       "         [[1.3763614 ],\n",
       "          [1.3763614 ],\n",
       "          [1.1952612 ],\n",
       "          ...,\n",
       "          [8.910129  ],\n",
       "          [8.692809  ],\n",
       "          [8.221949  ]],\n",
       "\n",
       "         [[1.3763614 ],\n",
       "          [1.3763614 ],\n",
       "          [1.1952612 ],\n",
       "          ...,\n",
       "          [9.055009  ],\n",
       "          [8.221949  ],\n",
       "          [8.330608  ]],\n",
       "\n",
       "         ...,\n",
       "\n",
       "         [[0.83306086],\n",
       "          [0.83306086],\n",
       "          [0.7968408 ],\n",
       "          ...,\n",
       "          [8.366829  ],\n",
       "          [8.584148  ],\n",
       "          [8.584148  ]],\n",
       "\n",
       "         [[0.8692809 ],\n",
       "          [0.8692809 ],\n",
       "          [0.7606208 ],\n",
       "          ...,\n",
       "          [8.475489  ],\n",
       "          [8.439268  ],\n",
       "          [8.547929  ]],\n",
       "\n",
       "         [[0.8692809 ],\n",
       "          [0.8692809 ],\n",
       "          [0.72440076],\n",
       "          ...,\n",
       "          [8.4030485 ],\n",
       "          [8.4030485 ],\n",
       "          [8.475489  ]]],\n",
       "\n",
       "\n",
       "        ...,\n",
       "\n",
       "\n",
       "        [[[1.4125814 ],\n",
       "          [1.4125814 ],\n",
       "          [1.1590412 ],\n",
       "          ...,\n",
       "          [7.280227  ],\n",
       "          [6.954247  ],\n",
       "          [7.026687  ]],\n",
       "\n",
       "         [[1.3401413 ],\n",
       "          [1.3401413 ],\n",
       "          [1.1590412 ],\n",
       "          ...,\n",
       "          [7.3164473 ],\n",
       "          [7.026687  ],\n",
       "          [7.062907  ]],\n",
       "\n",
       "         [[1.3039213 ],\n",
       "          [1.3039213 ],\n",
       "          [1.1228211 ],\n",
       "          ...,\n",
       "          [7.1715674 ],\n",
       "          [6.918027  ],\n",
       "          [7.026687  ]],\n",
       "\n",
       "         ...,\n",
       "\n",
       "         [[0.8692809 ],\n",
       "          [0.8692809 ],\n",
       "          [0.6881807 ],\n",
       "          ...,\n",
       "          [7.4975476 ],\n",
       "          [7.3526673 ],\n",
       "          [7.4251075 ]],\n",
       "\n",
       "         [[0.8692809 ],\n",
       "          [0.8692809 ],\n",
       "          [0.6881807 ],\n",
       "          ...,\n",
       "          [7.3526673 ],\n",
       "          [7.3526673 ],\n",
       "          [7.4251075 ]],\n",
       "\n",
       "         [[0.83306086],\n",
       "          [0.83306086],\n",
       "          [0.6881807 ],\n",
       "          ...,\n",
       "          [7.280227  ],\n",
       "          [7.280227  ],\n",
       "          [7.4613276 ]]],\n",
       "\n",
       "\n",
       "        [[[1.3763614 ],\n",
       "          [1.3763614 ],\n",
       "          [1.0866011 ],\n",
       "          ...,\n",
       "          [6.8093667 ],\n",
       "          [7.026687  ],\n",
       "          [7.4975476 ]],\n",
       "\n",
       "         [[1.3039213 ],\n",
       "          [1.3039213 ],\n",
       "          [1.0866011 ],\n",
       "          ...,\n",
       "          [7.026687  ],\n",
       "          [7.1715674 ],\n",
       "          [7.4251075 ]],\n",
       "\n",
       "         [[1.1590412 ],\n",
       "          [1.2314812 ],\n",
       "          [0.94172096],\n",
       "          ...,\n",
       "          [6.954247  ],\n",
       "          [6.8093667 ],\n",
       "          [7.280227  ]],\n",
       "\n",
       "         ...,\n",
       "\n",
       "         [[0.83306086],\n",
       "          [0.83306086],\n",
       "          [0.6157406 ],\n",
       "          ...,\n",
       "          [7.4251075 ],\n",
       "          [7.3888874 ],\n",
       "          [7.642428  ]],\n",
       "\n",
       "         [[0.83306086],\n",
       "          [0.83306086],\n",
       "          [0.6157406 ],\n",
       "          ...,\n",
       "          [7.3526673 ],\n",
       "          [7.3888874 ],\n",
       "          [7.606208  ]],\n",
       "\n",
       "         [[0.7968408 ],\n",
       "          [0.7968408 ],\n",
       "          [0.6157406 ],\n",
       "          ...,\n",
       "          [7.280227  ],\n",
       "          [7.3888874 ],\n",
       "          [7.606208  ]]],\n",
       "\n",
       "\n",
       "        [[[1.1952612 ],\n",
       "          [1.1952612 ],\n",
       "          [0.8692809 ],\n",
       "          ...,\n",
       "          [6.990467  ],\n",
       "          [7.4613276 ],\n",
       "          [7.7148676 ]],\n",
       "\n",
       "         [[1.1228211 ],\n",
       "          [1.1952612 ],\n",
       "          [0.8692809 ],\n",
       "          ...,\n",
       "          [6.918027  ],\n",
       "          [7.4251075 ],\n",
       "          [7.678648  ]],\n",
       "\n",
       "         [[1.1590412 ],\n",
       "          [1.2314812 ],\n",
       "          [0.7968408 ],\n",
       "          ...,\n",
       "          [6.664487  ],\n",
       "          [7.1715674 ],\n",
       "          [7.678648  ]],\n",
       "\n",
       "         ...,\n",
       "\n",
       "         [[0.72440076],\n",
       "          [0.72440076],\n",
       "          [0.47086048],\n",
       "          ...,\n",
       "          [7.3888874 ],\n",
       "          [7.5337677 ],\n",
       "          [7.7873077 ]],\n",
       "\n",
       "         [[0.72440076],\n",
       "          [0.72440076],\n",
       "          [0.47086048],\n",
       "          ...,\n",
       "          [7.244007  ],\n",
       "          [7.5337677 ],\n",
       "          [7.7873077 ]],\n",
       "\n",
       "         [[0.6881807 ],\n",
       "          [0.6881807 ],\n",
       "          [0.43464044],\n",
       "          ...,\n",
       "          [7.244007  ],\n",
       "          [7.5337677 ],\n",
       "          [7.823528  ]]]]], dtype=float32)"
      ]
     },
     "execution_count": 16,
     "metadata": {},
     "output_type": "execute_result"
    }
   ],
   "source": [
    "val = vis.next(); val[0]"
   ]
  },
  {
   "cell_type": "markdown",
   "metadata": {
    "id": "Gxm2wxwanY4H"
   },
   "source": [
    "Here is a visualisation of frame 0, 10, 20, 30, 40 and 50. It shows the changes in the video as the speaker moved their mouth."
   ]
  },
  {
   "cell_type": "code",
   "execution_count": 17,
   "metadata": {
    "colab": {
     "base_uri": "https://localhost:8080/"
    },
    "id": "wbxZlW6ump8v",
    "outputId": "f0454186-46f3-4df2-fde8-f4163b8eb0c1"
   },
   "outputs": [
    {
     "data": {
      "image/png": "[encoded data removed]",
      "text/plain": [
       "<Figure size 1500x1000 with 6 Axes>"
      ]
     },
     "metadata": {},
     "output_type": "display_data"
    }
   ],
   "source": [
    "fig, axes = plt.subplots(2, 3, figsize=(15, 10))\n",
    "axes = axes.flatten()\n",
    "\n",
    "for i in range(6):  # 6 frames total\n",
    "    frame_idx = i * 10  # Show every 10th frame (0,10,20,30,40,50)\n",
    "    axes[i].imshow(val[0][0][frame_idx])\n",
    "    axes[i].set_title(f'Frame {frame_idx}')\n",
    "    axes[i].axis('off')\n",
    "\n",
    "plt.tight_layout()\n",
    "plt.show()"
   ]
  },
  {
   "cell_type": "markdown",
   "metadata": {
    "id": "Y5mrKdDXndq4"
   },
   "source": [
    "This is a transcript of the video. Notice how we use the num_to_char function to convert the array to a sentence."
   ]
  },
  {
   "cell_type": "code",
   "execution_count": 18,
   "metadata": {
    "colab": {
     "base_uri": "https://localhost:8080/"
    },
    "id": "OoFaPUJsnXSl",
    "outputId": "7da69ced-6fff-49ed-c023-d312e32a313f"
   },
   "outputs": [
    {
     "data": {
      "text/plain": [
       "<tf.Tensor: shape=(), dtype=string, numpy=b'place green at i four soon'>"
      ]
     },
     "execution_count": 18,
     "metadata": {},
     "output_type": "execute_result"
    }
   ],
   "source": [
    "tf.strings.reduce_join([num_to_char(word) for word in val[1][0]])"
   ]
  },
  {
   "cell_type": "markdown",
   "metadata": {},
   "source": [
    "# Non-Neural Baselines"
   ]
  },
  {
   "cell_type": "markdown",
   "metadata": {},
   "source": [
    "Interestingly, in the LipNet paper, researchers used hearing-impaired people who can lipread as a baseline. They achieved a word error rate of 47.7% (Although one subject achieved as high as 57.3%) on 300 random videos from the dataset after being exposed to 10 minutes of annotated videos. This outperformed every other model they tested apart from the LSTM model, which is a reason I chose to use LSTM in my model."
   ]
  },
  {
   "cell_type": "markdown",
   "metadata": {},
   "source": [
    "For our non-neural common sense baseline, I attempted to find the most common word in all the alignments in our train dataset, then repeat this for the average length the alignments. This is actually cheating really, because we are using the \"answer sheet\" (the alignments set) to calculate our answer. However I then use a basic loss function that compares the characters in a random test alignment to our prediction."
   ]
  },
  {
   "cell_type": "code",
   "execution_count": 30,
   "metadata": {},
   "outputs": [],
   "source": [
    "def create_baseline_stats(train_data):\n",
    "    # Initialize counters\n",
    "    total_words = 0\n",
    "    total_chars = 0\n",
    "    word_counts = {}\n",
    "    num_samples = 0\n",
    "    \n",
    "    # Iterate through training data\n",
    "    for batch in train_data:\n",
    "        alignments = batch[1]\n",
    "        \n",
    "        # Convert alignments to text\n",
    "        for alignment in alignments:\n",
    "            text = tf.strings.reduce_join(\n",
    "                num_to_char(alignment)\n",
    "            ).numpy().decode('utf-8').strip()\n",
    "            \n",
    "            words = text.split()\n",
    "            \n",
    "            # Count words\n",
    "            for word in words:\n",
    "                word_counts[word] = word_counts.get(word, 0) + 1\n",
    "                    \n",
    "            total_words += len(words)\n",
    "            total_chars += len(text)\n",
    "            num_samples += 1\n",
    "            \n",
    "    # Calculate stats\n",
    "    avg_word_length = total_words / num_samples \n",
    "    avg_char_length = total_chars / num_samples\n",
    "    most_common = max(word_counts.items(), key=lambda x: x[1])[0]\n",
    "    \n",
    "    print(f\"Most common word: {most_common}\")\n",
    "    print(f\"Average words per sample: {avg_word_length:.2f}\")\n",
    "    print(f\"Average characters per sample: {avg_char_length:.2f}\")\n",
    "    \n",
    "    return most_common, int(avg_word_length), int(avg_char_length)"
   ]
  },
  {
   "cell_type": "code",
   "execution_count": 35,
   "metadata": {},
   "outputs": [],
   "source": [
    "def baseline_loss(test_data, pred):\n",
    "    # Get random test sample\n",
    "    test_batch = next(test_data.as_numpy_iterator())\n",
    "    test_alignment = test_batch[1][0]\n",
    "    \n",
    "    # Convert test alignment to text\n",
    "    actual_text = tf.strings.reduce_join(\n",
    "        num_to_char(test_alignment)\n",
    "    ).numpy().decode('utf-8').strip()\n",
    "    \n",
    "    # Calculate character-level loss\n",
    "    char_errors = sum(1 for a, b in zip(pred, actual_text) if a != b)\n",
    "    char_error_rate = char_errors / len(actual_text)\n",
    "    \n",
    "    print(f\"Prediction: {pred}\")\n",
    "    print(f\"Actual: {actual_text}\")\n",
    "    print(f\"Character Error Rate: {char_error_rate:.2%}\")"
   ]
  },
  {
   "cell_type": "code",
   "execution_count": 36,
   "metadata": {},
   "outputs": [
    {
     "name": "stderr",
     "output_type": "stream",
     "text": [
      "[mpeg1video @ 0x724a7801e380] ac-tex damaged at 22 17\n",
      "[mpeg1video @ 0x724a7801e380] Warning MVs not available\n"
     ]
    },
    {
     "name": "stdout",
     "output_type": "stream",
     "text": [
      "Most common word: lay\n",
      "Average words per sample: 6.02\n",
      "Average characters per sample: 24.80\n"
     ]
    },
    {
     "name": "stderr",
     "output_type": "stream",
     "text": [
      "[mpeg1video @ 0x724a840cbd40] ac-tex damaged at 22 17\n",
      "[mpeg1video @ 0x724a840cbd40] Warning MVs not available\n"
     ]
    },
    {
     "name": "stdout",
     "output_type": "stream",
     "text": [
      "Prediction: lay lay lay lay lay lay \n",
      "Actual: lay green at d six soon\n",
      "Character Error Rate: 82.61%\n"
     ]
    }
   ],
   "source": [
    "def word_baseline(most_common: str, avg_word_length: int) -> str:\n",
    "    #Creates baseline using most common word\n",
    "    return (most_common + \" \") * avg_word_length\n",
    "\n",
    "# Test functions\n",
    "most_common, avg_words, avg_chars = create_baseline_stats(train)\n",
    "\n",
    "word_pred = word_baseline(most_common, avg_words)\n",
    "\n",
    "baseline_loss(test, word_pred)\n"
   ]
  },
  {
   "cell_type": "markdown",
   "metadata": {},
   "source": [
    "Ok, as we can see, a pretty terrible prediction, and it took ages to complete. Lets try another method. I will use the most common character in the english language, \"E\", and repeat this for the average length of the alignments. "
   ]
  },
  {
   "cell_type": "code",
   "execution_count": 32,
   "metadata": {},
   "outputs": [
    {
     "name": "stderr",
     "output_type": "stream",
     "text": [
      "[mpeg1video @ 0x724a98046fc0] ac-tex damaged at 22 17\n",
      "[mpeg1video @ 0x724a98046fc0] Warning MVs not available\n"
     ]
    },
    {
     "name": "stdout",
     "output_type": "stream",
     "text": [
      "Prediction: eeeeeeeeeeeeeeeeeeeeeeee\n",
      "Actual: lay green with e six again\n",
      "Character Error Rate: 80.77%\n"
     ]
    }
   ],
   "source": [
    "def char_baseline(avg_char_length: int) -> str:\n",
    "    #Creates baseline using 'e' character\n",
    "    return 'e' * avg_char_length\n",
    "\n",
    "char_pred = char_baseline(avg_chars)\n",
    "\n",
    "baseline_loss(test, char_pred)\n"
   ]
  },
  {
   "cell_type": "markdown",
   "metadata": {},
   "source": [
    "Still pretty awful performance on this attempt. Lets try a deep learning approach instead. "
   ]
  },
  {
   "cell_type": "markdown",
   "metadata": {
    "id": "CBSXuSuLnl1H"
   },
   "source": [
    "# Neural Network Approach"
   ]
  },
  {
   "cell_type": "markdown",
   "metadata": {
    "id": "e9xhKQOwsLE_"
   },
   "source": [
    "## Building the NN"
   ]
  },
  {
   "cell_type": "markdown",
   "metadata": {},
   "source": [
    "I based this model on LipNet. There are various TensorFlow implementations, but I felt this method was the cleanest and most effective. I based it on https://github.com/rizkiarm/LipNet , which implemented in TensorFlow 1.x. I used LSTM's where they and the original LipNet paper used GRU's due to LSTM's advantages on complex tasks, despite the increase in computation. <br><br>I use three 3D Convolutional Layers with size 3x3x3 to extract the spatiotemporal features (with ReLU activation), with MaxPooling Layers to downsample the data to reduce the spatial dimensions while retaining signifigant features. <br><br>As the spatial dimensions shrink, the filters increase from 128 to 256 to extract more complex features, then return to 75 to match the frame size. The result of this is highly compressed spatial representation with meaningful temporal layers. <br><br >We then use a TimeDistributed Flatten Layer, which flattens the spatial features while preserving the temporal structure. <br><br> We then use two Bidirectional LSTM layers, which aim to learn the temporal relationships in both forward and backward directions. This is important because lipreading is heavily dependant on mouth movement, not just mouth position. We add a dropout of 0.5 to both of these layers to prevent overfitting. <br><br> Our final layer is a Dense Layer, classifying each frame into a character with a softmax to output the probability. We are left with a sequence of probabilities for each frame. "
   ]
  },
  {
   "cell_type": "code",
   "execution_count": 38,
   "metadata": {
    "colab": {
     "base_uri": "https://localhost:8080/"
    },
    "id": "nO55HqhnKbEl",
    "outputId": "f659aed8-ad0d-48c8-b834-75994d814673"
   },
   "outputs": [
    {
     "name": "stdout",
     "output_type": "stream",
     "text": [
      "After First Conv3D: (None, 75, 23, 70, 128)\n",
      "After Second Conv3D: (None, 75, 11, 35, 256)\n",
      "After Third Conv3D: (None, 75, 5, 17, 75)\n",
      "After TimeDistributed Flatten: (None, 75, 6375)\n",
      "After First Bidirectional LSTM: (None, 75, 256)\n",
      "After Second Bidirectional LSTM: (None, 75, 256)\n",
      "After Dense Layer: (None, 75, 41)\n"
     ]
    }
   ],
   "source": [
    "\n",
    "model = Sequential()\n",
    "\n",
    "# First Conv3D Layer\n",
    "model.add(Conv3D(128, 3, input_shape=(75, 46, 140, 1), padding='same'))\n",
    "model.add(Activation('relu'))\n",
    "model.add(MaxPool3D((1, 2, 2)))\n",
    "print(f\"After First Conv3D: {model.output_shape}\")\n",
    "\n",
    "# Second Conv3D Layer\n",
    "model.add(Conv3D(256, 3, padding='same'))\n",
    "model.add(Activation('relu'))\n",
    "model.add(MaxPool3D((1, 2, 2)))\n",
    "print(f\"After Second Conv3D: {model.output_shape}\")\n",
    "\n",
    "# Third Conv3D Layer\n",
    "model.add(Conv3D(75, 3, padding='same'))\n",
    "model.add(Activation('relu'))\n",
    "model.add(MaxPool3D((1, 2, 2)))\n",
    "print(f\"After Third Conv3D: {model.output_shape}\")\n",
    "\n",
    "#TimeDistributed Flatten Layer\n",
    "model.add(TimeDistributed(Flatten()))\n",
    "print(f\"After TimeDistributed Flatten: {model.output_shape}\")\n",
    "\n",
    "\n",
    "# First Bidirectional LSTM Layer\n",
    "model.add(Bidirectional(LSTM(128, kernel_initializer=Orthogonal(), return_sequences=True)))\n",
    "print(f\"After First Bidirectional LSTM: {model.output_shape}\")\n",
    "model.add(Dropout(.5))\n",
    "\n",
    "# Second Bidirectional LSTM Layer\n",
    "model.add(Bidirectional(LSTM(128, kernel_initializer= Orthogonal(), return_sequences=True)))\n",
    "print(f\"After Second Bidirectional LSTM: {model.output_shape}\")\n",
    "model.add(Dropout(.5))\n",
    "\n",
    "# Dense Layer\n",
    "model.add(Dense(char_to_num.vocabulary_size() + 1, kernel_initializer='he_normal', activation='softmax'))\n",
    "print(f\"After Dense Layer: {model.output_shape}\")\n"
   ]
  },
  {
   "cell_type": "code",
   "execution_count": 22,
   "metadata": {
    "colab": {
     "base_uri": "https://localhost:8080/"
    },
    "collapsed": true,
    "id": "BCHNjII6pVIv",
    "outputId": "ee863137-1a3c-4d90-f6da-c52f119a8715"
   },
   "outputs": [
    {
     "name": "stdout",
     "output_type": "stream",
     "text": [
      "Model: \"sequential\"\n",
      "_________________________________________________________________\n",
      " Layer (type)                Output Shape              Param #   \n",
      "=================================================================\n",
      " conv3d (Conv3D)             (None, 75, 46, 140, 128   3584      \n",
      "                             )                                   \n",
      "                                                                 \n",
      " activation (Activation)     (None, 75, 46, 140, 128   0         \n",
      "                             )                                   \n",
      "                                                                 \n",
      " max_pooling3d (MaxPooling3  (None, 75, 23, 70, 128)   0         \n",
      " D)                                                              \n",
      "                                                                 \n",
      " conv3d_1 (Conv3D)           (None, 75, 23, 70, 256)   884992    \n",
      "                                                                 \n",
      " activation_1 (Activation)   (None, 75, 23, 70, 256)   0         \n",
      "                                                                 \n",
      " max_pooling3d_1 (MaxPoolin  (None, 75, 11, 35, 256)   0         \n",
      " g3D)                                                            \n",
      "                                                                 \n",
      " conv3d_2 (Conv3D)           (None, 75, 11, 35, 75)    518475    \n",
      "                                                                 \n",
      " activation_2 (Activation)   (None, 75, 11, 35, 75)    0         \n",
      "                                                                 \n",
      " max_pooling3d_2 (MaxPoolin  (None, 75, 5, 17, 75)     0         \n",
      " g3D)                                                            \n",
      "                                                                 \n",
      " time_distributed (TimeDist  (None, 75, 6375)          0         \n",
      " ributed)                                                        \n",
      "                                                                 \n",
      " bidirectional (Bidirection  (None, 75, 256)           6660096   \n",
      " al)                                                             \n",
      "                                                                 \n",
      " dropout (Dropout)           (None, 75, 256)           0         \n",
      "                                                                 \n",
      " bidirectional_1 (Bidirecti  (None, 75, 256)           394240    \n",
      " onal)                                                           \n",
      "                                                                 \n",
      " dropout_1 (Dropout)         (None, 75, 256)           0         \n",
      "                                                                 \n",
      " dense (Dense)               (None, 75, 41)            10537     \n",
      "                                                                 \n",
      "=================================================================\n",
      "Total params: 8471924 (32.32 MB)\n",
      "Trainable params: 8471924 (32.32 MB)\n",
      "Non-trainable params: 0 (0.00 Byte)\n",
      "_________________________________________________________________\n"
     ]
    }
   ],
   "source": [
    "model.summary()\n"
   ]
  },
  {
   "cell_type": "markdown",
   "metadata": {
    "id": "Ks6dgB8fsWHZ"
   },
   "source": [
    "### Untrained prediction"
   ]
  },
  {
   "cell_type": "markdown",
   "metadata": {},
   "source": [
    "First of all, lets make a prediction using the untrained model."
   ]
  },
  {
   "cell_type": "code",
   "execution_count": 23,
   "metadata": {
    "colab": {
     "base_uri": "https://localhost:8080/"
    },
    "id": "Hp4JsDbUopAt",
    "outputId": "4c1fe145-b5e5-4a29-fc25-141a228264d7"
   },
   "outputs": [
    {
     "name": "stderr",
     "output_type": "stream",
     "text": [
      "2025-01-10 12:56:10.367550: I external/local_xla/xla/stream_executor/cuda/cuda_dnn.cc:454] Loaded cuDNN version 8907\n"
     ]
    },
    {
     "name": "stdout",
     "output_type": "stream",
     "text": [
      "1/1 [==============================] - 19s 19s/step\n"
     ]
    }
   ],
   "source": [
    "yhat = model.predict(val[0])"
   ]
  },
  {
   "cell_type": "code",
   "execution_count": 24,
   "metadata": {
    "colab": {
     "base_uri": "https://localhost:8080/"
    },
    "id": "WEjUaysao1Az",
    "outputId": "5e2435e1-6db8-47f4-9c67-cb3992964f8a"
   },
   "outputs": [
    {
     "data": {
      "text/plain": [
       "<tf.Tensor: shape=(), dtype=string, numpy=b'jjjjjjjjjjjjjjjjjjjjjjjjjjjjjjjjjjjjjjjjjjjjjjjjjjjjjjjjjjjjjjjjjjjjjjjjjju'>"
      ]
     },
     "execution_count": 24,
     "metadata": {},
     "output_type": "execute_result"
    }
   ],
   "source": [
    "tf.strings.reduce_join([num_to_char(tf.argmax(x)) for x in yhat[0]])"
   ]
  },
  {
   "cell_type": "markdown",
   "metadata": {
    "id": "seddKs8NsaBn"
   },
   "source": [
    "As you can see, not a very succesful prediction"
   ]
  },
  {
   "cell_type": "markdown",
   "metadata": {
    "id": "Xao8vvYVuZd5"
   },
   "source": [
    "### Learning Rate and Loss Function"
   ]
  },
  {
   "cell_type": "code",
   "execution_count": 41,
   "metadata": {
    "id": "KeunCWVawGUK"
   },
   "outputs": [],
   "source": [
    "def CTCLoss(y_true, y_pred):\n",
    "    batch_len = tf.cast(tf.shape(y_true)[0], dtype=\"int64\")\n",
    "    input_length = tf.cast(tf.shape(y_pred)[1], dtype=\"int64\")\n",
    "    label_length = tf.cast(tf.shape(y_true)[1], dtype=\"int64\")\n",
    "\n",
    "    input_length = input_length * tf.ones(shape=(batch_len, 1), dtype=\"int64\")\n",
    "    label_length = label_length * tf.ones(shape=(batch_len, 1), dtype=\"int64\")\n",
    "\n",
    "    loss = tf.keras.backend.ctc_batch_cost(y_true, y_pred, input_length, label_length)\n",
    "    return loss"
   ]
  },
  {
   "cell_type": "code",
   "execution_count": 42,
   "metadata": {
    "id": "1Jo0GezSxgXc"
   },
   "outputs": [],
   "source": [
    "class ProduceExample(tf.keras.callbacks.Callback):\n",
    "    def __init__(self, dataset) -> None:\n",
    "        self.dataset = dataset.as_numpy_iterator()\n",
    "\n",
    "    def on_epoch_end(self, epoch, logs=None) -> None:\n",
    "        print(f\"Epoch {epoch+1} finished\")\n",
    "        if (epoch+1) % 5 == 0: # produce example every 5 in order to speed up training process \n",
    "            data = self.dataset.next()\n",
    "            yhat = self.model.predict(data[0])\n",
    "            decoded = tf.keras.backend.ctc_decode(yhat, [75,75], greedy=False)[0][0].numpy()\n",
    "            for x in range(len(yhat)):\n",
    "                print('Original:', tf.strings.reduce_join(num_to_char(data[1][x])).numpy().decode('utf-8'))\n",
    "                print('Prediction:', tf.strings.reduce_join(num_to_char(decoded[x])).numpy().decode('utf-8'))\n",
    "                print('~'*100)"
   ]
  },
  {
   "cell_type": "markdown",
   "metadata": {},
   "source": [
    "I chose Adam as an optimizer and a learning rate of 0.0001 as this is what the original Lipnet researchers chose. I considered adding a variable learning rate that would decrease as epochs increased but I reached a good level of accuracy without it and felt it was unnecessary."
   ]
  },
  {
   "cell_type": "code",
   "execution_count": 43,
   "metadata": {
    "id": "0XRDX-Pwx6L1"
   },
   "outputs": [],
   "source": [
    "model.compile(optimizer=Adam(learning_rate=0.0001), loss=CTCLoss)"
   ]
  },
  {
   "cell_type": "code",
   "execution_count": 44,
   "metadata": {
    "id": "zDc94IbvyMxt"
   },
   "outputs": [],
   "source": [
    "checkpoint_path = os.path.join('./models','lipcheckpoint.weights.h5')\n",
    "checkpoint_callback = ModelCheckpoint(filepath=checkpoint_path, monitor='loss', save_best_only=True, save_weights_only=True)"
   ]
  },
  {
   "cell_type": "code",
   "execution_count": 45,
   "metadata": {
    "id": "DF71RUoy3Qtx"
   },
   "outputs": [],
   "source": [
    "example_callback = ProduceExample(test)"
   ]
  },
  {
   "cell_type": "markdown",
   "metadata": {},
   "source": [
    "# Training"
   ]
  },
  {
   "cell_type": "code",
   "execution_count": null,
   "metadata": {
    "colab": {
     "base_uri": "https://localhost:8080/",
     "height": 321
    },
    "id": "VrlOoAfI3V4L",
    "outputId": "1adae8f6-7a22-4612-b9b0-49843cf83744"
   },
   "outputs": [],
   "source": [
    "model.load_weights('models/30epoch.weights.h5')\n",
    "model.fit(train, validation_data=test, epochs = 20, callbacks=[checkpoint_callback, example_callback])"
   ]
  },
  {
   "cell_type": "markdown",
   "metadata": {},
   "source": [
    "The start of epoch 1 had a loss of 170.56. Running for 30 epochs resulted in a training loss of 14.67 and a validation loss of 10.26. I saved this as 30epoch.weights.h5 . <br >It may seem strange that the validation loss is lower than the training loss, and at first i thought this was a sign of data leakage, but it is in fact due to the dropout I included in my model to avoid overfitting. Therefore, I decided to continue training for another 20 epochs and see if the validation loss increases at any point. "
   ]
  },
  {
   "cell_type": "markdown",
   "metadata": {},
   "source": [
    "Training for another 20 epochs resulted in a training loss of 4.05 and a validation loss of 2.39. I saved this as 50epoch.weights.h5."
   ]
  },
  {
   "cell_type": "code",
   "execution_count": null,
   "metadata": {},
   "outputs": [],
   "source": [
    "# Extract training history\n",
    "history = model.history.history\n",
    "\n",
    "# Create the plot\n",
    "plt.figure(figsize=(10, 6))\n",
    "plt.plot(history['loss'], label='Training Loss')\n",
    "plt.plot(history['val_loss'], label='Validation Loss')\n",
    "\n",
    "# Customize the plot\n",
    "plt.title('Model Loss Over Time')\n",
    "plt.xlabel('Epoch')\n",
    "plt.ylabel('Loss')\n",
    "plt.legend()\n",
    "plt.grid(True)\n",
    "\n",
    "# Show the plot\n",
    "plt.show()"
   ]
  },
  {
   "attachments": {
    "20plus30epochgraph.jpg": {
     "image/jpeg": "[encoded data removed]"
    }
   },
   "cell_type": "markdown",
   "metadata": {},
   "source": [
    "![20plus30epochgraph.jpg](attachment:20plus30epochgraph.jpg)"
   ]
  },
  {
   "cell_type": "markdown",
   "metadata": {},
   "source": [
    "I wasn't sure if this small uptick in validation loss was a sign of overfitting or not, so I decided to train for another 10 epochs to see what would happen."
   ]
  },
  {
   "cell_type": "code",
   "execution_count": 46,
   "metadata": {},
   "outputs": [
    {
     "name": "stderr",
     "output_type": "stream",
     "text": [
      "WARNING:absl:Skipping variable loading for optimizer 'Adam', because it has 1 variables whereas the saved optimizer has 41 variables. \n"
     ]
    },
    {
     "name": "stdout",
     "output_type": "stream",
     "text": [
      "Epoch 1/10\n"
     ]
    },
    {
     "name": "stderr",
     "output_type": "stream",
     "text": [
      "2025-01-12 13:16:58.430576: I external/local_xla/xla/stream_executor/cuda/cuda_dnn.cc:454] Loaded cuDNN version 8907\n",
      "2025-01-12 13:17:05.447574: I external/local_xla/xla/service/service.cc:168] XLA service 0x724ba8a610e0 initialized for platform CUDA (this does not guarantee that XLA will be used). Devices:\n",
      "2025-01-12 13:17:05.447594: I external/local_xla/xla/service/service.cc:176]   StreamExecutor device (0): NVIDIA GeForce RTX 4060 Laptop GPU, Compute Capability 8.9\n",
      "2025-01-12 13:17:05.456127: I tensorflow/compiler/mlir/tensorflow/utils/dump_mlir_util.cc:269] disabling MLIR crash reproducer, set env var `MLIR_CRASH_REPRODUCER_DIRECTORY` to enable.\n",
      "WARNING: All log messages before absl::InitializeLog() is called are written to STDERR\n",
      "I0000 00:00:1736687825.537017    4237 device_compiler.h:186] Compiled cluster using XLA!  This line is logged at most once for the lifetime of the process.\n"
     ]
    },
    {
     "name": "stdout",
     "output_type": "stream",
     "text": [
      " 84/450 [====>.........................] - ETA: 2:47 - loss: 3.9455"
     ]
    },
    {
     "name": "stderr",
     "output_type": "stream",
     "text": [
      "[mpeg1video @ 0x7249b8068c00] ac-tex damaged at 22 17\n",
      "[mpeg1video @ 0x7249b8068c00] Warning MVs not available\n"
     ]
    },
    {
     "name": "stdout",
     "output_type": "stream",
     "text": [
      "450/450 [==============================] - ETA: 0s - loss: 3.7709"
     ]
    },
    {
     "name": "stderr",
     "output_type": "stream",
     "text": [
      "[mpeg1video @ 0x724af80582c0] ac-tex damaged at 22 17\n",
      "[mpeg1video @ 0x724af80582c0] Warning MVs not available\n",
      "2025-01-12 13:22:21.743040: W external/local_tsl/tsl/framework/bfc_allocator.cc:366] Garbage collection: deallocate free memory regions (i.e., allocations) so that we can re-allocate a larger region to avoid OOM due to memory fragmentation. If you see this message frequently, you are running near the threshold of the available device memory and re-allocation may incur great performance overhead. You may try smaller batch sizes to observe the performance impact. Set TF_ENABLE_GPU_GARBAGE_COLLECTION=false if you'd like to disable this feature.\n"
     ]
    },
    {
     "name": "stdout",
     "output_type": "stream",
     "text": [
      "Epoch 1 finished\n",
      "450/450 [==============================] - 354s 754ms/step - loss: 3.7709 - val_loss: 1.9708\n",
      "Epoch 2/10\n",
      "450/450 [==============================] - ETA: 0s - loss: 3.6516"
     ]
    },
    {
     "name": "stderr",
     "output_type": "stream",
     "text": [
      "[mpeg1video @ 0x724b4008e6c0] ac-tex damaged at 22 17\n",
      "[mpeg1video @ 0x724b4008e6c0] Warning MVs not available\n"
     ]
    },
    {
     "name": "stdout",
     "output_type": "stream",
     "text": [
      "Epoch 2 finished\n",
      "450/450 [==============================] - 328s 729ms/step - loss: 3.6516 - val_loss: 1.8207\n",
      "Epoch 3/10\n",
      "149/450 [========>.....................] - ETA: 2:20 - loss: 3.6270"
     ]
    },
    {
     "name": "stderr",
     "output_type": "stream",
     "text": [
      "[mpeg1video @ 0x724aa4080440] ac-tex damaged at 22 17\n",
      "[mpeg1video @ 0x724aa4080440] Warning MVs not available\n"
     ]
    },
    {
     "name": "stdout",
     "output_type": "stream",
     "text": [
      "450/450 [==============================] - ETA: 0s - loss: 3.4616"
     ]
    },
    {
     "name": "stderr",
     "output_type": "stream",
     "text": [
      "[mpeg1video @ 0x7249d806ee00] ac-tex damaged at 22 17\n",
      "[mpeg1video @ 0x7249d806ee00] Warning MVs not available\n"
     ]
    },
    {
     "name": "stdout",
     "output_type": "stream",
     "text": [
      "Epoch 3 finished\n",
      "450/450 [==============================] - 325s 723ms/step - loss: 3.4616 - val_loss: 2.5808\n",
      "Epoch 4/10\n",
      "  6/450 [..............................] - ETA: 3:25 - loss: 3.8613"
     ]
    },
    {
     "name": "stderr",
     "output_type": "stream",
     "text": [
      "[mpeg1video @ 0x7249c8094000] ac-tex damaged at 22 17\n",
      "[mpeg1video @ 0x7249c8094000] Warning MVs not available\n"
     ]
    },
    {
     "name": "stdout",
     "output_type": "stream",
     "text": [
      "450/450 [==============================] - ETA: 0s - loss: 3.3662"
     ]
    },
    {
     "name": "stderr",
     "output_type": "stream",
     "text": [
      "[mpeg1video @ 0x724afc11c3c0] ac-tex damaged at 22 17\n",
      "[mpeg1video @ 0x724afc11c3c0] Warning MVs not available\n"
     ]
    },
    {
     "name": "stdout",
     "output_type": "stream",
     "text": [
      "Epoch 4 finished\n",
      "450/450 [==============================] - 322s 717ms/step - loss: 3.3662 - val_loss: 1.3109\n",
      "Epoch 5/10\n",
      "400/450 [=========================>....] - ETA: 22s - loss: 3.0520"
     ]
    },
    {
     "name": "stderr",
     "output_type": "stream",
     "text": [
      "[mpeg1video @ 0x724b10089e00] ac-tex damaged at 22 17\n",
      "[mpeg1video @ 0x724b10089e00] Warning MVs not available\n"
     ]
    },
    {
     "name": "stdout",
     "output_type": "stream",
     "text": [
      "450/450 [==============================] - ETA: 0s - loss: 3.0726"
     ]
    },
    {
     "name": "stderr",
     "output_type": "stream",
     "text": [
      "[mpeg1video @ 0x7249b8169780] ac-tex damaged at 22 17\n",
      "[mpeg1video @ 0x7249b8169780] Warning MVs not available\n"
     ]
    },
    {
     "name": "stdout",
     "output_type": "stream",
     "text": [
      "Epoch 5 finished\n"
     ]
    },
    {
     "name": "stderr",
     "output_type": "stream",
     "text": [
      "[mpeg1video @ 0x724a9801bd00] ac-tex damaged at 22 17\n",
      "[mpeg1video @ 0x724a9801bd00] Warning MVs not available\n"
     ]
    },
    {
     "name": "stdout",
     "output_type": "stream",
     "text": [
      "1/1 [==============================] - 1s 862ms/step\n",
      "Original: bin blue with r zero soon\n",
      "Prediction: bin blue with r zero son\n",
      "~~~~~~~~~~~~~~~~~~~~~~~~~~~~~~~~~~~~~~~~~~~~~~~~~~~~~~~~~~~~~~~~~~~~~~~~~~~~~~~~~~~~~~~~~~~~~~~~~~~~\n",
      "Original: place blue with a nine now\n",
      "Prediction: place blue with a nine now\n",
      "~~~~~~~~~~~~~~~~~~~~~~~~~~~~~~~~~~~~~~~~~~~~~~~~~~~~~~~~~~~~~~~~~~~~~~~~~~~~~~~~~~~~~~~~~~~~~~~~~~~~\n",
      "450/450 [==============================] - 426s 947ms/step - loss: 3.0726 - val_loss: 1.5278\n",
      "Epoch 6/10\n",
      "386/450 [========================>.....] - ETA: 29s - loss: 2.9446"
     ]
    },
    {
     "name": "stderr",
     "output_type": "stream",
     "text": [
      "[mpeg1video @ 0x7249f801c280] ac-tex damaged at 22 17\n",
      "[mpeg1video @ 0x7249f801c280] Warning MVs not available\n"
     ]
    },
    {
     "name": "stdout",
     "output_type": "stream",
     "text": [
      "450/450 [==============================] - ETA: 0s - loss: 2.8990"
     ]
    },
    {
     "name": "stderr",
     "output_type": "stream",
     "text": [
      "[mpeg1video @ 0x7249c0064740] ac-tex damaged at 22 17\n",
      "[mpeg1video @ 0x7249c0064740] Warning MVs not available\n"
     ]
    },
    {
     "name": "stdout",
     "output_type": "stream",
     "text": [
      "Epoch 6 finished\n",
      "450/450 [==============================] - 325s 723ms/step - loss: 2.8990 - val_loss: 0.9726\n",
      "Epoch 7/10\n",
      "172/450 [==========>...................] - ETA: 2:08 - loss: 2.7601"
     ]
    },
    {
     "name": "stderr",
     "output_type": "stream",
     "text": [
      "[mpeg1video @ 0x724b9005ae80] ac-tex damaged at 22 17\n",
      "[mpeg1video @ 0x724b9005ae80] Warning MVs not available\n"
     ]
    },
    {
     "name": "stdout",
     "output_type": "stream",
     "text": [
      "450/450 [==============================] - ETA: 0s - loss: 2.5645"
     ]
    },
    {
     "name": "stderr",
     "output_type": "stream",
     "text": [
      "[mpeg1video @ 0x724aa4007580] ac-tex damaged at 22 17\n",
      "[mpeg1video @ 0x724aa4007580] Warning MVs not available\n"
     ]
    },
    {
     "name": "stdout",
     "output_type": "stream",
     "text": [
      "Epoch 7 finished\n",
      "450/450 [==============================] - 325s 724ms/step - loss: 2.5645 - val_loss: 0.9270\n",
      "Epoch 8/10\n",
      "450/450 [==============================] - ETA: 0s - loss: 2.4520"
     ]
    },
    {
     "name": "stderr",
     "output_type": "stream",
     "text": [
      "[mpeg1video @ 0x724b8809a240] ac-tex damaged at 22 17\n",
      "[mpeg1video @ 0x724b8809a240] Warning MVs not available\n"
     ]
    },
    {
     "name": "stdout",
     "output_type": "stream",
     "text": [
      "Epoch 8 finished\n",
      "450/450 [==============================] - 324s 721ms/step - loss: 2.4520 - val_loss: 0.9838\n",
      "Epoch 9/10\n",
      "318/450 [====================>.........] - ETA: 1:01 - loss: 2.3936"
     ]
    },
    {
     "name": "stderr",
     "output_type": "stream",
     "text": [
      "[mpeg1video @ 0x7249b8012ac0] ac-tex damaged at 22 17\n",
      "[mpeg1video @ 0x7249b8012ac0] Warning MVs not available\n"
     ]
    },
    {
     "name": "stdout",
     "output_type": "stream",
     "text": [
      "450/450 [==============================] - ETA: 0s - loss: 2.3530"
     ]
    },
    {
     "name": "stderr",
     "output_type": "stream",
     "text": [
      "[mpeg1video @ 0x7249e0025f00] ac-tex damaged at 22 17\n",
      "[mpeg1video @ 0x7249e0025f00] Warning MVs not available\n"
     ]
    },
    {
     "name": "stdout",
     "output_type": "stream",
     "text": [
      "Epoch 9 finished\n",
      "450/450 [==============================] - 325s 723ms/step - loss: 2.3530 - val_loss: 0.9818\n",
      "Epoch 10/10\n",
      "280/450 [=================>............] - ETA: 1:18 - loss: 2.3682"
     ]
    },
    {
     "name": "stderr",
     "output_type": "stream",
     "text": [
      "[mpeg1video @ 0x724ae00159c0] ac-tex damaged at 22 17\n",
      "[mpeg1video @ 0x724ae00159c0] Warning MVs not available\n"
     ]
    },
    {
     "name": "stdout",
     "output_type": "stream",
     "text": [
      "450/450 [==============================] - ETA: 0s - loss: 2.2311"
     ]
    },
    {
     "name": "stderr",
     "output_type": "stream",
     "text": [
      "[mpeg1video @ 0x724aec003640] ac-tex damaged at 22 17\n",
      "[mpeg1video @ 0x724aec003640] Warning MVs not available\n"
     ]
    },
    {
     "name": "stdout",
     "output_type": "stream",
     "text": [
      "Epoch 10 finished\n",
      "1/1 [==============================] - 0s 87ms/step\n",
      "Original: bin blue in p nine please\n",
      "Prediction: bin blue in p nine please\n",
      "~~~~~~~~~~~~~~~~~~~~~~~~~~~~~~~~~~~~~~~~~~~~~~~~~~~~~~~~~~~~~~~~~~~~~~~~~~~~~~~~~~~~~~~~~~~~~~~~~~~~\n",
      "Original: bin red by k eight soon\n",
      "Prediction: bin red by k eight son\n",
      "~~~~~~~~~~~~~~~~~~~~~~~~~~~~~~~~~~~~~~~~~~~~~~~~~~~~~~~~~~~~~~~~~~~~~~~~~~~~~~~~~~~~~~~~~~~~~~~~~~~~\n",
      "450/450 [==============================] - 325s 722ms/step - loss: 2.2311 - val_loss: 0.6824\n"
     ]
    },
    {
     "data": {
      "text/plain": [
       "<keras.src.callbacks.History at 0x724cb0deada0>"
      ]
     },
     "execution_count": 46,
     "metadata": {},
     "output_type": "execute_result"
    }
   ],
   "source": [
    "model.load_weights('models/50epoch.weights.h5')\n",
    "model.fit(train, validation_data=test, epochs = 10, callbacks=[checkpoint_callback, example_callback])"
   ]
  },
  {
   "cell_type": "markdown",
   "metadata": {},
   "source": [
    "- Note - I am not sure why I am getting the warnings about ac-tex damaged and MVs not available, I have tried to mute them as they do not seem to hinder training but it has not worked. The fact it happens once during training and once during validation (consistently) tells me some of my files are corrupt, but I have checked them all and they are fine. I think it may be an Ubuntu problem as I did not have these problems when I was working on Windows. I'm sorry it makes it quite ugly to look at."
   ]
  },
  {
   "cell_type": "code",
   "execution_count": 60,
   "metadata": {},
   "outputs": [
    {
     "data": {
      "image/png": "[encoded data removed]",
      "text/plain": [
       "<Figure size 1000x600 with 1 Axes>"
      ]
     },
     "metadata": {},
     "output_type": "display_data"
    }
   ],
   "source": [
    "model.load_weights('models/60epoch.weights.h5')\n",
    "history = model.history.history\n",
    "\n",
    "# Create the plot\n",
    "plt.figure(figsize=(10, 6))\n",
    "plt.plot(history['loss'], label='Training Loss')\n",
    "plt.plot(history['val_loss'], label='Validation Loss')\n",
    "\n",
    "# Customize the plot\n",
    "plt.title('Model Loss Over Time')\n",
    "plt.xlabel('Epoch')\n",
    "plt.ylabel('Loss')\n",
    "plt.legend()\n",
    "plt.grid(True)\n",
    "\n",
    "# Show the plot\n",
    "plt.show()"
   ]
  },
  {
   "cell_type": "markdown",
   "metadata": {},
   "source": [
    "As we can see, we have reached a validation loss of less than one, and we have not yet overfit. Lets try testing on other samples to see how we are performing."
   ]
  },
  {
   "cell_type": "code",
   "execution_count": 35,
   "metadata": {},
   "outputs": [
    {
     "name": "stderr",
     "output_type": "stream",
     "text": [
      "WARNING:absl:Skipping variable loading for optimizer 'Adam', because it has 1 variables whereas the saved optimizer has 41 variables. \n"
     ]
    }
   ],
   "source": [
    "model.load_weights('models/50epoch.weights.h5')"
   ]
  },
  {
   "cell_type": "code",
   "execution_count": 57,
   "metadata": {},
   "outputs": [],
   "source": [
    "sample = load_data(tf.convert_to_tensor('./s20vids/lgbk3n.mpg'), 's20vids', 'align') # load a file from the dataset (feel free to change the file)\n",
    "text = [tf.strings.reduce_join([num_to_char(word) for word in sentence]) for sentence in [sample[1]]] # load the text from the file"
   ]
  },
  {
   "cell_type": "code",
   "execution_count": 50,
   "metadata": {},
   "outputs": [
    {
     "name": "stdout",
     "output_type": "stream",
     "text": [
      "1/1 [==============================] - 0s 79ms/step\n"
     ]
    }
   ],
   "source": [
    "guess = model.predict(tf.expand_dims(sample[0], axis=0))    # predict the text using the video\n",
    "decoded = tf.keras.backend.ctc_decode(guess, input_length=[75], greedy=True)[0][0].numpy()\n",
    "pred = [tf.strings.reduce_join([num_to_char(word) for word in sentence]) for sentence in decoded]"
   ]
  },
  {
   "cell_type": "code",
   "execution_count": 51,
   "metadata": {},
   "outputs": [
    {
     "name": "stdout",
     "output_type": "stream",
     "text": [
      "Video Text = [<tf.Tensor: shape=(), dtype=string, numpy=b'lay green by k three now'>]\n",
      "Predicted Text = [<tf.Tensor: shape=(), dtype=string, numpy=b'lay green by k three now'>]\n"
     ]
    }
   ],
   "source": [
    "print(f\"Video Text = {text}\")   # print both actual text and predicted text\n",
    "print(f\"Predicted Text = {pred}\")"
   ]
  },
  {
   "cell_type": "markdown",
   "metadata": {},
   "source": [
    "Ok, we seem to have good performance, although we sometimes miss the single letter. This is the most difficult part of the task because of how similiar the mouth movements are for single sounds. Just for fun, let's try testing on a different speaker from the corpus. It is wise to choose a speaker with a similiar skin tone as the speaker we trained on, as our method relies on distinguishing light pixels from dark pixels to see mouth movements. This is obviously a flaw in the method but I did not set out with the aim of making this a widely generalisable model, although that is a very exciting prospect. I decided to use speaker 11 to to test the model because they are both white and female. I hoped this would give the model the best chance of generalising."
   ]
  },
  {
   "cell_type": "markdown",
   "metadata": {},
   "source": [
    "# Testing on another speaker"
   ]
  },
  {
   "cell_type": "markdown",
   "metadata": {},
   "source": [
    "I created some new functions here just to maintain functionality in the existing code, I did not want to break anything so I have repeated some code here."
   ]
  },
  {
   "cell_type": "code",
   "execution_count": 85,
   "metadata": {},
   "outputs": [],
   "source": [
    "def load_datas11(path: str):\n",
    "    path = bytes.decode(path.numpy())\n",
    "    file_name = path.split('/')[-1].split('.')[0]\n",
    "    video_path = os.path.join('.', 's11vids', f'{file_name}.mpg')\n",
    "    alignment_path = os.path.join('.', 's11align', f'{file_name}.align')\n",
    "    \n",
    "    if not os.path.exists(video_path):\n",
    "        raise FileNotFoundError(f\"Video file not found: {video_path}\")\n",
    "    if not os.path.exists(alignment_path):\n",
    "        raise FileNotFoundError(f\"Alignment file not found: {alignment_path}\")\n",
    "    \n",
    "    frames = load_video(video_path)\n",
    "    alignments = load_alignments(alignment_path)\n",
    "    return frames, alignments"
   ]
  },
  {
   "cell_type": "code",
   "execution_count": 99,
   "metadata": {},
   "outputs": [],
   "source": [
    "s11testing = './s11vids/bwas4p.mpg'"
   ]
  },
  {
   "cell_type": "code",
   "execution_count": 101,
   "metadata": {},
   "outputs": [
    {
     "data": {
      "text/plain": [
       "<matplotlib.image.AxesImage at 0x7e77fb5fa500>"
      ]
     },
     "execution_count": 101,
     "metadata": {},
     "output_type": "execute_result"
    },
    {
     "data": {
      "image/png": "[encoded data removed]",
      "text/plain": [
       "<Figure size 640x480 with 1 Axes>"
      ]
     },
     "metadata": {},
     "output_type": "display_data"
    }
   ],
   "source": [
    "frames, alignments = load_datas11(tf.convert_to_tensor(s11testing))\n",
    "plt.imshow(frames[34])"
   ]
  },
  {
   "cell_type": "code",
   "execution_count": 102,
   "metadata": {},
   "outputs": [
    {
     "data": {
      "text/plain": [
       "<tf.Tensor: shape=(), dtype=string, numpy=b'bin white at s four please'>"
      ]
     },
     "execution_count": 102,
     "metadata": {},
     "output_type": "execute_result"
    }
   ],
   "source": [
    "tf.strings.reduce_join([bytes.decode(x) for x in num_to_char(alignments.numpy()).numpy()])"
   ]
  },
  {
   "cell_type": "code",
   "execution_count": 106,
   "metadata": {},
   "outputs": [],
   "source": [
    "def s11mappable_function(path:str) ->Tuple[tf.Tensor, tf.Tensor]:\n",
    "      result = tf.py_function(load_datas11, [path], (tf.float32, tf.int64))\n",
    "      return result #format data for tensorflow"
   ]
  },
  {
   "cell_type": "code",
   "execution_count": 114,
   "metadata": {},
   "outputs": [],
   "source": [
    "s11data = tf.data.Dataset.list_files('./s11vids/*.mpg')\n",
    "s11data = s11data.map(s11mappable_function)\n",
    "s11data = s11data.padded_batch(1, padded_shapes=([75,None,None,None],[40]))\n",
    "s11data = s11data.prefetch(tf.data.AUTOTUNE)"
   ]
  },
  {
   "cell_type": "code",
   "execution_count": 115,
   "metadata": {},
   "outputs": [],
   "source": [
    "s11data = s11data.as_numpy_iterator()"
   ]
  },
  {
   "cell_type": "code",
   "execution_count": 116,
   "metadata": {},
   "outputs": [
    {
     "name": "stdout",
     "output_type": "stream",
     "text": [
      "1/1 [==============================] - 0s 69ms/step\n",
      "Original: lay blue with d four now\n",
      "Predicted: lay gre winh g fige noain\n",
      "~~~~~~~~~~~~~~~~~~~~~~~~~~~~~~~~~~~~~~~~~~~~~~~~~~~~~~~~~~~~~~~~~~~~~~~~~~~~~~~~~~~~~~~~~~~~~~~~~~~~\n",
      "1/1 [==============================] - 0s 65ms/step\n",
      "Original: place blue by u eight please\n",
      "Predicted: set blue wit ive sow\n",
      "~~~~~~~~~~~~~~~~~~~~~~~~~~~~~~~~~~~~~~~~~~~~~~~~~~~~~~~~~~~~~~~~~~~~~~~~~~~~~~~~~~~~~~~~~~~~~~~~~~~~\n",
      "1/1 [==============================] - 0s 68ms/step\n",
      "Original: place red in b two now\n",
      "Predicted: lace blue ith i ive ne\n",
      "~~~~~~~~~~~~~~~~~~~~~~~~~~~~~~~~~~~~~~~~~~~~~~~~~~~~~~~~~~~~~~~~~~~~~~~~~~~~~~~~~~~~~~~~~~~~~~~~~~~~\n",
      "1/1 [==============================] - 0s 66ms/step\n",
      "Original: set blue by m seven soon\n",
      "Predicted: la white with h tie again\n",
      "~~~~~~~~~~~~~~~~~~~~~~~~~~~~~~~~~~~~~~~~~~~~~~~~~~~~~~~~~~~~~~~~~~~~~~~~~~~~~~~~~~~~~~~~~~~~~~~~~~~~\n",
      "1/1 [==============================] - 0s 69ms/step\n",
      "Original: lay white in x nine again\n",
      "Predicted: lia blue bay it fie again\n",
      "~~~~~~~~~~~~~~~~~~~~~~~~~~~~~~~~~~~~~~~~~~~~~~~~~~~~~~~~~~~~~~~~~~~~~~~~~~~~~~~~~~~~~~~~~~~~~~~~~~~~\n",
      "1/1 [==============================] - 0s 66ms/step\n",
      "Original: bin blue in d nine soon\n",
      "Predicted: lay white in sie poas\n",
      "~~~~~~~~~~~~~~~~~~~~~~~~~~~~~~~~~~~~~~~~~~~~~~~~~~~~~~~~~~~~~~~~~~~~~~~~~~~~~~~~~~~~~~~~~~~~~~~~~~~~\n",
      "1/1 [==============================] - 0s 68ms/step\n",
      "Original: set white with o two now\n",
      "Predicted: bin gre wit y fix again\n",
      "~~~~~~~~~~~~~~~~~~~~~~~~~~~~~~~~~~~~~~~~~~~~~~~~~~~~~~~~~~~~~~~~~~~~~~~~~~~~~~~~~~~~~~~~~~~~~~~~~~~~\n",
      "1/1 [==============================] - 0s 67ms/step\n",
      "Original: lay blue with q five again\n",
      "Predicted: bin gred it m se sgoin\n",
      "~~~~~~~~~~~~~~~~~~~~~~~~~~~~~~~~~~~~~~~~~~~~~~~~~~~~~~~~~~~~~~~~~~~~~~~~~~~~~~~~~~~~~~~~~~~~~~~~~~~~\n",
      "1/1 [==============================] - 0s 64ms/step\n",
      "Original: lay green with s two please\n",
      "Predicted: plac green by sive sleas\n",
      "~~~~~~~~~~~~~~~~~~~~~~~~~~~~~~~~~~~~~~~~~~~~~~~~~~~~~~~~~~~~~~~~~~~~~~~~~~~~~~~~~~~~~~~~~~~~~~~~~~~~\n",
      "1/1 [==============================] - 0s 67ms/step\n",
      "Original: set blue at g one again\n",
      "Predicted: bin grue it i ig again\n",
      "~~~~~~~~~~~~~~~~~~~~~~~~~~~~~~~~~~~~~~~~~~~~~~~~~~~~~~~~~~~~~~~~~~~~~~~~~~~~~~~~~~~~~~~~~~~~~~~~~~~~\n",
      "1/1 [==============================] - 0s 68ms/step\n",
      "Original: bin white at s four please\n",
      "Predicted: place ghie witn i eive agaie\n",
      "~~~~~~~~~~~~~~~~~~~~~~~~~~~~~~~~~~~~~~~~~~~~~~~~~~~~~~~~~~~~~~~~~~~~~~~~~~~~~~~~~~~~~~~~~~~~~~~~~~~~\n",
      "1/1 [==============================] - 0s 66ms/step\n",
      "Original: place white by v eight now\n",
      "Predicted: plac gree wit ihre sgain\n",
      "~~~~~~~~~~~~~~~~~~~~~~~~~~~~~~~~~~~~~~~~~~~~~~~~~~~~~~~~~~~~~~~~~~~~~~~~~~~~~~~~~~~~~~~~~~~~~~~~~~~~\n",
      "1/1 [==============================] - 0s 68ms/step\n",
      "Original: set blue with n zero now\n",
      "Predicted: la white wit s ive please\n",
      "~~~~~~~~~~~~~~~~~~~~~~~~~~~~~~~~~~~~~~~~~~~~~~~~~~~~~~~~~~~~~~~~~~~~~~~~~~~~~~~~~~~~~~~~~~~~~~~~~~~~\n",
      "1/1 [==============================] - 0s 68ms/step\n",
      "Original: lay green at e six please\n",
      "Predicted: la grie it g tixe again\n",
      "~~~~~~~~~~~~~~~~~~~~~~~~~~~~~~~~~~~~~~~~~~~~~~~~~~~~~~~~~~~~~~~~~~~~~~~~~~~~~~~~~~~~~~~~~~~~~~~~~~~~\n"
     ]
    }
   ],
   "source": [
    "for _ in range(14):  \n",
    "    sample = s11data.next()\n",
    "    guess = model.predict(sample[0])\n",
    "    decoded = tf.keras.backend.ctc_decode(guess, input_length=[75], greedy=True)[0][0].numpy()\n",
    "    \n",
    "    for i in range(len(sample[0])):\n",
    "        print(\"Original:\", tf.strings.reduce_join(num_to_char(sample[1][i])).numpy().decode('utf-8'))\n",
    "        print(\"Predicted:\", tf.strings.reduce_join(num_to_char(decoded[i])).numpy().decode('utf-8'))\n",
    "        print('~' * 100)"
   ]
  },
  {
   "cell_type": "markdown",
   "metadata": {},
   "source": [
    "Looking at these results there is some correct words, although some samples are completely wrong. Whether this is concrete evidence of generalisation is debatable, as the model may just be getting lucky. However, samples such as\n"
   ]
  },
  {
   "cell_type": "markdown",
   "metadata": {},
   "source": [
    "\"Original: lay green at e six please\n",
    "Predicted: la grie it g tixe again\""
   ]
  },
  {
   "cell_type": "markdown",
   "metadata": {},
   "source": [
    "do give me hope as, to me, it seems as though the model is actually trying to read and getting nonsense words that are close to what is being said, instead of just guessing words it already knows. "
   ]
  },
  {
   "cell_type": "markdown",
   "metadata": {},
   "source": [
    "# Conclusion\n",
    "\n",
    "I think I have achieved what I set out to do, I have consistent and reliable lipreading on one speaker, and have some evidence of generalisability. The model could perhaps be trained more, but a validation loss of less than one is acceptable to me. I think I avoided overfitting by using Dropout in my model, and although this may have slowed down training and made the loss values a little confusing it definetely helped avoid overfitting. I learned a lot, not only about movement classification, but also computer vision and lip reading in general. If you have time, I recommend reading the full LipNet paper, it is really interesting and goes deeper into how we create certain sounds and how the machine can interpret these. In future I may try to increase the generalisability of this model, as I believe it can be a really powerful tool. There are, of course, privacy concerns, as companies may use this technology, combined with facial recognition software such as ClearView AI to log peoples conversations and associate them with their identities, leading to a serious privacy violation and, unfortunately, opportunity for more targeted advertising or surveillance. "
   ]
  },
  {
   "cell_type": "markdown",
   "metadata": {},
   "source": [
    "References - <br><br>M. Yannis, B. Shillingford, S. Whiteson, N. de Freitas - \"LipNet: End-to-End Sentence-level Lipreading\", 2016, Google DeepMind, University of Oxford\n",
    "<br><br> A. Graves, S. Fernandez, F. Gomez, J. Schmidhuber - \"Connectionist Temporal Classification: Labelling Unsegmented Sequence Data with Recurrent Neural Networks\", 2006, Istituto Dalle Molle di Studi sull’Intelligenza Artificiale\n",
    "<br><br> F. Chollet - \"Deep Learning with Python\", 2017, Manning Publications, ISBN 9781617294433\n",
    "<br><br> J. Wenger - Artificial Intelligence Notebooks, Goldsmiths, University of London\n",
    "<br><br> M. Rizki - https://github.com/rizkiarm/LipNet\n"
   ]
  }
 ],
 "metadata": {
  "accelerator": "TPU",
  "colab": {
   "collapsed_sections": [
    "9EqJKdBOEYl-",
    "3TA90gu1fz_Z"
   ],
   "gpuType": "V28",
   "provenance": []
  },
  "kernelspec": {
   "display_name": "tf7",
   "language": "python",
   "name": "python3"
  },
  "language_info": {
   "codemirror_mode": {
    "name": "ipython",
    "version": 3
   },
   "file_extension": ".py",
   "mimetype": "text/x-python",
   "name": "python",
   "nbconvert_exporter": "python",
   "pygments_lexer": "ipython3",
   "version": "3.10.16"
  }
 },
 "nbformat": 4,
 "nbformat_minor": 0
}
