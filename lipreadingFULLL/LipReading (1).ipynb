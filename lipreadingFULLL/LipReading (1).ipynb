{
 "cells": [
  {
   "cell_type": "markdown",
   "metadata": {
    "id": "XUsHudU_9Po4"
   },
   "source": [
    "# Lip Reading in TensorFlow\n",
    "\n",
    "An attempt at using TensorFlow to analyse pixels in video files (without sound) of someone talking and produce an estimation of their speech.\n",
    "\n",
    "I decided to use the GRID dataset, which has a good variety of speakers, although the sentence format is quite formulaic. Though this may result in a degree of overfitting, human speech is a very wide dataset and focusing on just one speaker and sentence format enabled me to create a more effective model.\n",
    "\n",
    "The dataset can be downloaded here (speaker 20) -\n",
    "\n",
    "https://spandh.dcs.shef.ac.uk/gridcorpus/\n",
    "\n",
    "And I based my Neural Network on the one described in LipNet, which can be found here -\n",
    "\n",
    "https://arxiv.org/pdf/1611.01599\n",
    "\n"
   ]
  },
  {
   "cell_type": "code",
   "execution_count": 65,
   "metadata": {
    "id": "UukwPghV9J8P"
   },
   "outputs": [],
   "source": [
    "import os\n",
    "import glob\n",
    "import numpy as np\n",
    "import cv2\n",
    "import tensorflow as tf\n",
    "from tensorflow import keras\n",
    "import matplotlib.pyplot as plt\n",
    "from typing import List\n",
    "from typing import Tuple\n",
    "\n",
    "from keras.models import Sequential\n",
    "from keras.initializers import Orthogonal\n",
    "from keras.layers import Conv3D, LSTM, Dense, Dropout, Bidirectional, MaxPool3D, Activation, Reshape, SpatialDropout3D, BatchNormalization, TimeDistributed, Flatten\n",
    "from keras.callbacks import LearningRateScheduler, ModelCheckpoint\n",
    "from keras.optimizers import Adam"
   ]
  },
  {
   "cell_type": "code",
   "execution_count": 66,
   "metadata": {
    "colab": {
     "base_uri": "https://localhost:8080/"
    },
    "id": "KicQFHIZt3IC",
    "outputId": "048bb689-ab0e-4a96-e7e3-e9c21429e698"
   },
   "outputs": [
    {
     "data": {
      "text/plain": [
       "[PhysicalDevice(name='/physical_device:GPU:0', device_type='GPU')]"
      ]
     },
     "execution_count": 66,
     "metadata": {},
     "output_type": "execute_result"
    }
   ],
   "source": [
    "os.environ[\"CUDA_VISIBLE_DEVICES\"] = \"0\"\n",
    "tf.config.list_physical_devices('GPU')"
   ]
  },
  {
   "cell_type": "code",
   "execution_count": 67,
   "metadata": {
    "colab": {
     "base_uri": "https://localhost:8080/"
    },
    "id": "Wb0Fbr0PZh0N",
    "outputId": "df0b4a67-5c22-4ac2-a120-db291d7dad82"
   },
   "outputs": [
    {
     "name": "stdout",
     "output_type": "stream",
     "text": [
      "GPU configured successfully\n"
     ]
    }
   ],
   "source": [
    "physical_devices = tf.config.list_physical_devices('GPU')\n",
    "if physical_devices:\n",
    "    tf.config.experimental.set_memory_growth(physical_devices[0], True)\n",
    "    print(\"GPU configured successfully\")\n",
    "else:\n",
    "    print(\"No GPU found, using CPU\")"
   ]
  },
  {
   "cell_type": "markdown",
   "metadata": {
    "id": "9EqJKdBOEYl-"
   },
   "source": [
    "# Data Loading and Preprocessing"
   ]
  },
  {
   "cell_type": "code",
   "execution_count": 68,
   "metadata": {
    "id": "rH71Oul7LsFh"
   },
   "outputs": [],
   "source": [
    "def load_video(path:str) -> List[float]:\n",
    "\n",
    "    cap = cv2.VideoCapture(path)\n",
    "    frames = []   # create frames array\n",
    "    for _ in range(50):\n",
    "        ret, frame = cap.read()\n",
    "        frame = tf.image.rgb_to_grayscale(frame) # grayscale\n",
    "        frames.append(frame[200:246,110:250,:]) # take only mouth portion (see below for matplotlib visualisation of frames)\n",
    "                                               # i just used trial + error to find the right cutout\n",
    "    cap.release()\n",
    "\n",
    "    mean = tf.math.reduce_mean(frames)\n",
    "    std = tf.math.reduce_std(tf.cast(frames, tf.float32))\n",
    "    return tf.cast((frames - mean), tf.float32) / std # calculate mean and std deviation and scale image"
   ]
  },
  {
   "cell_type": "markdown",
   "metadata": {
    "id": "rYHrkRTUN_9i"
   },
   "source": [
    "Conversion functions taken from\n",
    "https://keras.io/examples/audio/ctc_asr/"
   ]
  },
  {
   "cell_type": "code",
   "execution_count": 69,
   "metadata": {
    "colab": {
     "base_uri": "https://localhost:8080/"
    },
    "collapsed": true,
    "id": "vvMPnd_QM9t3",
    "outputId": "961adbd3-3efc-4661-efc8-1dba9c2723a0"
   },
   "outputs": [
    {
     "name": "stdout",
     "output_type": "stream",
     "text": [
      "The vocabulary is: ['', 'a', 'b', 'c', 'd', 'e', 'f', 'g', 'h', 'i', 'j', 'k', 'l', 'm', 'n', 'o', 'p', 'q', 'r', 's', 't', 'u', 'v', 'w', 'x', 'y', 'z', \"'\", '?', '!', '1', '2', '3', '4', '5', '6', '7', '8', '9', ' '] (size =40)\n"
     ]
    }
   ],
   "source": [
    "characters = [x for x in \"abcdefghijklmnopqrstuvwxyz'?!123456789 \"]\n",
    "\n",
    "char_to_num = tf.keras.layers.StringLookup(vocabulary=characters, oov_token=\"\")\n",
    "num_to_char = tf.keras.layers.StringLookup(\n",
    "    vocabulary=char_to_num.get_vocabulary(), oov_token=\"\", invert=True\n",
    ")\n",
    "\n",
    "print(\n",
    "    f\"The vocabulary is: {char_to_num.get_vocabulary()} \"\n",
    "    f\"(size ={char_to_num.vocabulary_size()})\"\n",
    ")"
   ]
  },
  {
   "cell_type": "code",
   "execution_count": 70,
   "metadata": {
    "id": "_WVHLXo8PUD_"
   },
   "outputs": [],
   "source": [
    "def load_alignments(path:str) -> List[str]:\n",
    "    with open(path, 'r') as f:\n",
    "        lines = f.readlines()\n",
    "    tokens = []\n",
    "    for line in lines:\n",
    "        line = line.split()\n",
    "        if line[2] != 'sil':  # all lines that are not \"silence\"\n",
    "            tokens = [*tokens,' ',line[2]]\n",
    "    return char_to_num(tf.reshape(tf.strings.unicode_split(tokens, input_encoding='UTF-8'), (-1)))[1:]\n",
    "     # add to tokens array as numbers (using conversion function)"
   ]
  },
  {
   "cell_type": "code",
   "execution_count": 71,
   "metadata": {},
   "outputs": [],
   "source": [
    "import os\n",
    "\n",
    "def load_data(path: str):\n",
    "    path = bytes.decode(path.numpy())\n",
    "    file_name = path.split('/')[-1].split('.')[0]\n",
    "    video_path = os.path.join('.', 's20vids', f'{file_name}.mpg')\n",
    "    alignment_path = os.path.join('.', 'align', f'{file_name}.align')\n",
    "    \n",
    "    if not os.path.exists(video_path):\n",
    "        raise FileNotFoundError(f\"Video file not found: {video_path}\")\n",
    "    if not os.path.exists(alignment_path):\n",
    "        raise FileNotFoundError(f\"Alignment file not found: {alignment_path}\")\n",
    "    \n",
    "    frames = load_video(video_path)\n",
    "    alignments = load_alignments(alignment_path)\n",
    "    return frames, alignments"
   ]
  },
  {
   "cell_type": "code",
   "execution_count": 72,
   "metadata": {
    "id": "bZri1tW0QE6I"
   },
   "outputs": [],
   "source": [
    "testing = './s20vids/bbwk7p.mpg'"
   ]
  },
  {
   "cell_type": "code",
   "execution_count": 73,
   "metadata": {
    "colab": {
     "base_uri": "https://localhost:8080/"
    },
    "id": "WcC4dlwDQS5C",
    "outputId": "ba8921f4-5a19-458d-82be-9d5dd307f51d"
   },
   "outputs": [
    {
     "name": "stdout",
     "output_type": "stream",
     "text": [
      "(<tf.Tensor: shape=(50, 46, 140, 1), dtype=float32, numpy=\n",
      "array([[[[0.18361138],\n",
      "         [6.5837793 ],\n",
      "         [6.3477073 ],\n",
      "         ...,\n",
      "         [5.37719   ],\n",
      "         [5.32473   ],\n",
      "         [5.534571  ]],\n",
      "\n",
      "        [[0.15738118],\n",
      "         [6.5837793 ],\n",
      "         [6.3477073 ],\n",
      "         ...,\n",
      "         [5.37719   ],\n",
      "         [5.32473   ],\n",
      "         [5.534571  ]],\n",
      "\n",
      "        [[0.15738118],\n",
      "         [6.5837793 ],\n",
      "         [6.3477073 ],\n",
      "         ...,\n",
      "         [5.37719   ],\n",
      "         [5.32473   ],\n",
      "         [5.534571  ]],\n",
      "\n",
      "        ...,\n",
      "\n",
      "        [[6.4788585 ],\n",
      "         [6.4788585 ],\n",
      "         [6.5313187 ],\n",
      "         ...,\n",
      "         [5.4034204 ],\n",
      "         [5.37719   ],\n",
      "         [5.5608015 ]],\n",
      "\n",
      "        [[6.557549  ],\n",
      "         [6.5313187 ],\n",
      "         [6.5313187 ],\n",
      "         ...,\n",
      "         [5.4034204 ],\n",
      "         [5.37719   ],\n",
      "         [5.5608015 ]],\n",
      "\n",
      "        [[6.557549  ],\n",
      "         [6.557549  ],\n",
      "         [6.4788585 ],\n",
      "         ...,\n",
      "         [5.4034204 ],\n",
      "         [5.4034204 ],\n",
      "         [5.587032  ]]],\n",
      "\n",
      "\n",
      "       [[[0.07869059],\n",
      "         [6.5313187 ],\n",
      "         [6.295247  ],\n",
      "         ...,\n",
      "         [5.35096   ],\n",
      "         [5.35096   ],\n",
      "         [5.5083413 ]],\n",
      "\n",
      "        [[0.0262302 ],\n",
      "         [6.5313187 ],\n",
      "         [6.3477073 ],\n",
      "         ...,\n",
      "         [5.4034204 ],\n",
      "         [5.37719   ],\n",
      "         [5.5083413 ]],\n",
      "\n",
      "        [[0.        ],\n",
      "         [6.5313187 ],\n",
      "         [6.3739376 ],\n",
      "         ...,\n",
      "         [5.4034204 ],\n",
      "         [5.37719   ],\n",
      "         [5.534571  ]],\n",
      "\n",
      "        ...,\n",
      "\n",
      "        [[6.5050883 ],\n",
      "         [6.5050883 ],\n",
      "         [6.610009  ],\n",
      "         ...,\n",
      "         [5.35096   ],\n",
      "         [5.35096   ],\n",
      "         [5.534571  ]],\n",
      "\n",
      "        [[6.5050883 ],\n",
      "         [6.5050883 ],\n",
      "         [6.5837793 ],\n",
      "         ...,\n",
      "         [5.35096   ],\n",
      "         [5.4296503 ],\n",
      "         [5.587032  ]],\n",
      "\n",
      "        [[6.5313187 ],\n",
      "         [6.5313187 ],\n",
      "         [6.557549  ],\n",
      "         ...,\n",
      "         [5.35096   ],\n",
      "         [5.4558806 ],\n",
      "         [5.6132617 ]]],\n",
      "\n",
      "\n",
      "       [[[0.05246039],\n",
      "         [6.5313187 ],\n",
      "         [6.295247  ],\n",
      "         ...,\n",
      "         [5.35096   ],\n",
      "         [5.35096   ],\n",
      "         [5.534571  ]],\n",
      "\n",
      "        [[0.0262302 ],\n",
      "         [6.557549  ],\n",
      "         [6.2690167 ],\n",
      "         ...,\n",
      "         [5.4034204 ],\n",
      "         [5.35096   ],\n",
      "         [5.534571  ]],\n",
      "\n",
      "        [[0.        ],\n",
      "         [6.5050883 ],\n",
      "         [6.295247  ],\n",
      "         ...,\n",
      "         [5.4296503 ],\n",
      "         [5.4034204 ],\n",
      "         [5.5083413 ]],\n",
      "\n",
      "        ...,\n",
      "\n",
      "        [[6.4788585 ],\n",
      "         [6.4788585 ],\n",
      "         [6.6362395 ],\n",
      "         ...,\n",
      "         [5.35096   ],\n",
      "         [5.4034204 ],\n",
      "         [5.6132617 ]],\n",
      "\n",
      "        [[6.5313187 ],\n",
      "         [6.5313187 ],\n",
      "         [6.610009  ],\n",
      "         ...,\n",
      "         [5.35096   ],\n",
      "         [5.5083413 ],\n",
      "         [5.639492  ]],\n",
      "\n",
      "        [[6.5313187 ],\n",
      "         [6.5313187 ],\n",
      "         [6.557549  ],\n",
      "         ...,\n",
      "         [5.35096   ],\n",
      "         [5.5083413 ],\n",
      "         [5.639492  ]]],\n",
      "\n",
      "\n",
      "       ...,\n",
      "\n",
      "\n",
      "       [[[6.5837793 ],\n",
      "         [6.3739376 ],\n",
      "         [6.3477073 ],\n",
      "         ...,\n",
      "         [5.35096   ],\n",
      "         [5.4034204 ],\n",
      "         [5.6657224 ]],\n",
      "\n",
      "        [[6.557549  ],\n",
      "         [6.400168  ],\n",
      "         [6.3477073 ],\n",
      "         ...,\n",
      "         [5.35096   ],\n",
      "         [5.4034204 ],\n",
      "         [5.6132617 ]],\n",
      "\n",
      "        [[6.557549  ],\n",
      "         [6.400168  ],\n",
      "         [6.295247  ],\n",
      "         ...,\n",
      "         [5.35096   ],\n",
      "         [5.482111  ],\n",
      "         [5.6132617 ]],\n",
      "\n",
      "        ...,\n",
      "\n",
      "        [[6.4788585 ],\n",
      "         [6.5837793 ],\n",
      "         [6.5313187 ],\n",
      "         ...,\n",
      "         [5.37719   ],\n",
      "         [5.4558806 ],\n",
      "         [5.639492  ]],\n",
      "\n",
      "        [[6.5313187 ],\n",
      "         [6.610009  ],\n",
      "         [6.4788585 ],\n",
      "         ...,\n",
      "         [5.32473   ],\n",
      "         [5.5608015 ],\n",
      "         [5.587032  ]],\n",
      "\n",
      "        [[6.5313187 ],\n",
      "         [6.557549  ],\n",
      "         [6.400168  ],\n",
      "         ...,\n",
      "         [5.2984996 ],\n",
      "         [5.6132617 ],\n",
      "         [5.587032  ]]],\n",
      "\n",
      "\n",
      "       [[[6.5313187 ],\n",
      "         [6.3477073 ],\n",
      "         [6.2690167 ],\n",
      "         ...,\n",
      "         [5.4034204 ],\n",
      "         [5.4296503 ],\n",
      "         [5.587032  ]],\n",
      "\n",
      "        [[6.5313187 ],\n",
      "         [6.3739376 ],\n",
      "         [6.2690167 ],\n",
      "         ...,\n",
      "         [5.4034204 ],\n",
      "         [5.4558806 ],\n",
      "         [5.587032  ]],\n",
      "\n",
      "        [[6.5050883 ],\n",
      "         [6.3477073 ],\n",
      "         [6.2427864 ],\n",
      "         ...,\n",
      "         [5.4034204 ],\n",
      "         [5.5083413 ],\n",
      "         [5.6132617 ]],\n",
      "\n",
      "        ...,\n",
      "\n",
      "        [[6.557549  ],\n",
      "         [6.5837793 ],\n",
      "         [6.5050883 ],\n",
      "         ...,\n",
      "         [5.32473   ],\n",
      "         [5.482111  ],\n",
      "         [5.5608015 ]],\n",
      "\n",
      "        [[6.557549  ],\n",
      "         [6.5837793 ],\n",
      "         [6.4788585 ],\n",
      "         ...,\n",
      "         [5.32473   ],\n",
      "         [5.5083413 ],\n",
      "         [5.534571  ]],\n",
      "\n",
      "        [[6.5837793 ],\n",
      "         [6.5837793 ],\n",
      "         [6.4788585 ],\n",
      "         ...,\n",
      "         [5.35096   ],\n",
      "         [5.5608015 ],\n",
      "         [5.534571  ]]],\n",
      "\n",
      "\n",
      "       [[[6.557549  ],\n",
      "         [6.400168  ],\n",
      "         [6.3214774 ],\n",
      "         ...,\n",
      "         [5.35096   ],\n",
      "         [5.4034204 ],\n",
      "         [5.6132617 ]],\n",
      "\n",
      "        [[6.557549  ],\n",
      "         [6.426398  ],\n",
      "         [6.3214774 ],\n",
      "         ...,\n",
      "         [5.37719   ],\n",
      "         [5.4296503 ],\n",
      "         [5.6132617 ]],\n",
      "\n",
      "        [[6.5313187 ],\n",
      "         [6.400168  ],\n",
      "         [6.2690167 ],\n",
      "         ...,\n",
      "         [5.4034204 ],\n",
      "         [5.4296503 ],\n",
      "         [5.6132617 ]],\n",
      "\n",
      "        ...,\n",
      "\n",
      "        [[6.5050883 ],\n",
      "         [6.557549  ],\n",
      "         [6.5050883 ],\n",
      "         ...,\n",
      "         [5.32473   ],\n",
      "         [5.5083413 ],\n",
      "         [5.587032  ]],\n",
      "\n",
      "        [[6.5050883 ],\n",
      "         [6.5313187 ],\n",
      "         [6.5050883 ],\n",
      "         ...,\n",
      "         [5.32473   ],\n",
      "         [5.5608015 ],\n",
      "         [5.587032  ]],\n",
      "\n",
      "        [[6.5313187 ],\n",
      "         [6.5313187 ],\n",
      "         [6.452628  ],\n",
      "         ...,\n",
      "         [5.32473   ],\n",
      "         [5.6132617 ],\n",
      "         [5.5608015 ]]]], dtype=float32)>, <tf.Tensor: shape=(28,), dtype=int64, numpy=\n",
      "array([ 2,  9, 14, 39,  2, 12, 21,  5, 39, 23,  9, 20,  8, 39, 11, 39, 19,\n",
      "        5, 22,  5, 14, 39, 16, 12,  5,  1, 19,  5], dtype=int64)>)\n"
     ]
    }
   ],
   "source": [
    "with tf.device('/CPU:0'):\n",
    "    print(load_data(tf.convert_to_tensor(testing))) # this returns the frames and alignments, ready for the NN\n",
    "                                      # note the shape"
   ]
  },
  {
   "cell_type": "code",
   "execution_count": 74,
   "metadata": {
    "id": "nK2c8uangJt7"
   },
   "outputs": [],
   "source": [
    "def mappable_function(path:str) ->Tuple[tf.Tensor, tf.Tensor]:\n",
    "      result = tf.py_function(load_data, [path], (tf.float32, tf.int64))\n",
    "      return result #format data for tensorflow"
   ]
  },
  {
   "cell_type": "markdown",
   "metadata": {
    "id": "NZg1IZnZSl_J"
   },
   "source": [
    "### Using MatPlotLib to visualise frames\n",
    "\n",
    "As you can see, MPL can be used to show what the NN sees. I used this (and trial + error on as many clips as I had patience for ) to center the mouth in the image, as this is the only part of the face we are interested in."
   ]
  },
  {
   "cell_type": "code",
   "execution_count": 75,
   "metadata": {
    "colab": {
     "base_uri": "https://localhost:8080/",
     "height": 244
    },
    "id": "NMj_qwUqUTEH",
    "outputId": "c6afeed7-edf0-48f9-d87a-112544d7dc54"
   },
   "outputs": [
    {
     "data": {
      "image/png": "[encoded data removed]",
      "text/plain": [
       "<Figure size 640x480 with 1 Axes>"
      ]
     },
     "metadata": {},
     "output_type": "display_data"
    }
   ],
   "source": [
    "with tf.device('/CPU:0'):   \n",
    "    frames, alignments = load_data(tf.convert_to_tensor(testing))\n",
    "    plt.imshow(frames[34])"
   ]
  },
  {
   "cell_type": "code",
   "execution_count": 76,
   "metadata": {
    "colab": {
     "base_uri": "https://localhost:8080/"
    },
    "id": "ChnNxAAaoA6B",
    "outputId": "33449548-8766-41b7-fbf8-ffb8fbe1903e"
   },
   "outputs": [
    {
     "data": {
      "text/plain": [
       "<tf.Tensor: shape=(), dtype=string, numpy=b'bin blue with k seven please'>"
      ]
     },
     "execution_count": 76,
     "metadata": {},
     "output_type": "execute_result"
    }
   ],
   "source": [
    "tf.strings.reduce_join([bytes.decode(x) for x in num_to_char(alignments.numpy()).numpy()])"
   ]
  },
  {
   "cell_type": "markdown",
   "metadata": {
    "id": "3TA90gu1fz_Z"
   },
   "source": [
    "# Data Pipeline"
   ]
  },
  {
   "cell_type": "code",
   "execution_count": 77,
   "metadata": {
    "id": "OaeQv6x3f6Op"
   },
   "outputs": [
    {
     "name": "stdout",
     "output_type": "stream",
     "text": [
      "Found 999 video files\n",
      "Dataset file: ./s20vids/bbad3n.mpg\n",
      "Dataset file: ./s20vids/bbad4s.mpg\n",
      "Dataset file: ./s20vids/bbad5p.mpg\n",
      "Dataset file: ./s20vids/bbad6a.mpg\n",
      "Dataset file: ./s20vids/bbaj7n.mpg\n"
     ]
    }
   ],
   "source": [
    "def create_dataset_from_videos(directory):\n",
    "    # List all video files in the directory\n",
    "    video_files = glob.glob(os.path.join(directory, '*.mpg'))\n",
    "    \n",
    "    # Validate that video files are found\n",
    "    if not video_files:\n",
    "        raise FileNotFoundError(f\"No video files found in directory: {directory}\")\n",
    "    \n",
    "    # Convert file paths to Unix-style paths\n",
    "    video_files = [file.replace('\\\\', '/') for file in video_files]\n",
    "    \n",
    "    # Print the list of video files found\n",
    "    print(f\"Found {len(video_files)} video files\")\n",
    "    \n",
    "    # Create a TensorFlow dataset from the list of video files\n",
    "    dataset = tf.data.Dataset.from_tensor_slices(video_files)\n",
    "    \n",
    "    # Validate that the dataset is created correctly\n",
    "    for file in dataset.take(5):\n",
    "        print(f\"Dataset file: {file.numpy().decode('utf-8')}\")\n",
    "    \n",
    "    return dataset\n",
    "# Usage\n",
    "data = create_dataset_from_videos('./s20vids')\n",
    "data = data.shuffle(999, reshuffle_each_iteration=False)  # shuffle them\n",
    "data = data.map(mappable_function)   # use function to map them to TF format\n",
    "\n",
    " # setting data batches, 2 vids of 50 frames, 40 tokens\n",
    "data = data.padded_batch(4, padded_shapes=([50,None,None,None],[40]))\n",
    "data = data.prefetch(tf.data.AUTOTUNE)\n",
    "\n",
    "\n",
    " # split into training and test data\n",
    "train = data.take(200)\n",
    "test = data.skip(950)"
   ]
  },
  {
   "cell_type": "code",
   "execution_count": 79,
   "metadata": {
    "id": "yNEBPQpYkeWq"
   },
   "outputs": [
    {
     "ename": "UnknownError",
     "evalue": "{{function_node __wrapped__IteratorGetNext_output_types_2_device_/job:localhost/replica:0/task:0/device:CPU:0}} UnknownError: {{function_node __wrapped__Sub_device_/job:localhost/replica:0/task:0/device:GPU:0}} JIT compilation failed. [Op:Sub]\nTraceback (most recent call last):\n\n  File \"c:\\Users\\notal\\miniconda3\\envs\\lipreading\\lib\\site-packages\\tensorflow\\python\\ops\\script_ops.py\", line 269, in __call__\n    return func(device, token, args)\n\n  File \"c:\\Users\\notal\\miniconda3\\envs\\lipreading\\lib\\site-packages\\tensorflow\\python\\ops\\script_ops.py\", line 147, in __call__\n    outputs = self._call(device, args)\n\n  File \"c:\\Users\\notal\\miniconda3\\envs\\lipreading\\lib\\site-packages\\tensorflow\\python\\ops\\script_ops.py\", line 154, in _call\n    ret = self._func(*args)\n\n  File \"c:\\Users\\notal\\miniconda3\\envs\\lipreading\\lib\\site-packages\\tensorflow\\python\\autograph\\impl\\api.py\", line 642, in wrapper\n    return func(*args, **kwargs)\n\n  File \"C:\\Users\\notal\\AppData\\Local\\Temp\\ipykernel_13560\\3292283078.py\", line 14, in load_data\n    frames = load_video(video_path)\n\n  File \"C:\\Users\\notal\\AppData\\Local\\Temp\\ipykernel_13560\\1016885618.py\", line 14, in load_video\n    return tf.cast((frames - mean), tf.float32) / std # calculate mean and std deviation and scale image\n\n  File \"c:\\Users\\notal\\miniconda3\\envs\\lipreading\\lib\\site-packages\\tensorflow\\python\\util\\traceback_utils.py\", line 153, in error_handler\n    raise e.with_traceback(filtered_tb) from None\n\n  File \"c:\\Users\\notal\\miniconda3\\envs\\lipreading\\lib\\site-packages\\tensorflow\\python\\framework\\ops.py\", line 7209, in raise_from_not_ok_status\n    raise core._status_to_exception(e) from None  # pylint: disable=protected-access\n\ntensorflow.python.framework.errors_impl.UnknownError: {{function_node __wrapped__Sub_device_/job:localhost/replica:0/task:0/device:GPU:0}} JIT compilation failed. [Op:Sub]\n\n\n\t [[{{node EagerPyFunc}}]] [Op:IteratorGetNext]",
     "output_type": "error",
     "traceback": [
      "\u001b[1;31m---------------------------------------------------------------------------\u001b[0m",
      "\u001b[1;31mUnknownError\u001b[0m                              Traceback (most recent call last)",
      "Cell \u001b[1;32mIn[79], line 2\u001b[0m\n\u001b[0;32m      1\u001b[0m \u001b[38;5;28;01mwith\u001b[39;00m tf\u001b[38;5;241m.\u001b[39mdevice(\u001b[38;5;124m'\u001b[39m\u001b[38;5;124m/CPU:0\u001b[39m\u001b[38;5;124m'\u001b[39m):    \n\u001b[1;32m----> 2\u001b[0m     frames, alignments \u001b[38;5;241m=\u001b[39m \u001b[43mdata\u001b[49m\u001b[38;5;241;43m.\u001b[39;49m\u001b[43mas_numpy_iterator\u001b[49m\u001b[43m(\u001b[49m\u001b[43m)\u001b[49m\u001b[38;5;241;43m.\u001b[39;49m\u001b[43mnext\u001b[49m\u001b[43m(\u001b[49m\u001b[43m)\u001b[49m\n",
      "File \u001b[1;32mc:\\Users\\notal\\miniconda3\\envs\\lipreading\\lib\\site-packages\\tensorflow\\python\\data\\ops\\dataset_ops.py:4638\u001b[0m, in \u001b[0;36m_NumpyIterator.next\u001b[1;34m(self)\u001b[0m\n\u001b[0;32m   4637\u001b[0m \u001b[38;5;28;01mdef\u001b[39;00m \u001b[38;5;21mnext\u001b[39m(\u001b[38;5;28mself\u001b[39m):\n\u001b[1;32m-> 4638\u001b[0m   \u001b[38;5;28;01mreturn\u001b[39;00m \u001b[38;5;28;43mself\u001b[39;49m\u001b[38;5;241;43m.\u001b[39;49m\u001b[38;5;21;43m__next__\u001b[39;49m\u001b[43m(\u001b[49m\u001b[43m)\u001b[49m\n",
      "File \u001b[1;32mc:\\Users\\notal\\miniconda3\\envs\\lipreading\\lib\\site-packages\\tensorflow\\python\\data\\ops\\dataset_ops.py:4635\u001b[0m, in \u001b[0;36m_NumpyIterator.__next__\u001b[1;34m(self)\u001b[0m\n\u001b[0;32m   4632\u001b[0m     numpy\u001b[38;5;241m.\u001b[39msetflags(write\u001b[38;5;241m=\u001b[39m\u001b[38;5;28;01mFalse\u001b[39;00m)\n\u001b[0;32m   4633\u001b[0m   \u001b[38;5;28;01mreturn\u001b[39;00m numpy\n\u001b[1;32m-> 4635\u001b[0m \u001b[38;5;28;01mreturn\u001b[39;00m nest\u001b[38;5;241m.\u001b[39mmap_structure(to_numpy, \u001b[38;5;28;43mnext\u001b[39;49m\u001b[43m(\u001b[49m\u001b[38;5;28;43mself\u001b[39;49m\u001b[38;5;241;43m.\u001b[39;49m\u001b[43m_iterator\u001b[49m\u001b[43m)\u001b[49m)\n",
      "File \u001b[1;32mc:\\Users\\notal\\miniconda3\\envs\\lipreading\\lib\\site-packages\\tensorflow\\python\\data\\ops\\iterator_ops.py:766\u001b[0m, in \u001b[0;36mOwnedIterator.__next__\u001b[1;34m(self)\u001b[0m\n\u001b[0;32m    764\u001b[0m \u001b[38;5;28;01mdef\u001b[39;00m \u001b[38;5;21m__next__\u001b[39m(\u001b[38;5;28mself\u001b[39m):\n\u001b[0;32m    765\u001b[0m   \u001b[38;5;28;01mtry\u001b[39;00m:\n\u001b[1;32m--> 766\u001b[0m     \u001b[38;5;28;01mreturn\u001b[39;00m \u001b[38;5;28;43mself\u001b[39;49m\u001b[38;5;241;43m.\u001b[39;49m\u001b[43m_next_internal\u001b[49m\u001b[43m(\u001b[49m\u001b[43m)\u001b[49m\n\u001b[0;32m    767\u001b[0m   \u001b[38;5;28;01mexcept\u001b[39;00m errors\u001b[38;5;241m.\u001b[39mOutOfRangeError:\n\u001b[0;32m    768\u001b[0m     \u001b[38;5;28;01mraise\u001b[39;00m \u001b[38;5;167;01mStopIteration\u001b[39;00m\n",
      "File \u001b[1;32mc:\\Users\\notal\\miniconda3\\envs\\lipreading\\lib\\site-packages\\tensorflow\\python\\data\\ops\\iterator_ops.py:749\u001b[0m, in \u001b[0;36mOwnedIterator._next_internal\u001b[1;34m(self)\u001b[0m\n\u001b[0;32m    746\u001b[0m \u001b[38;5;66;03m# TODO(b/77291417): This runs in sync mode as iterators use an error status\u001b[39;00m\n\u001b[0;32m    747\u001b[0m \u001b[38;5;66;03m# to communicate that there is no more data to iterate over.\u001b[39;00m\n\u001b[0;32m    748\u001b[0m \u001b[38;5;28;01mwith\u001b[39;00m context\u001b[38;5;241m.\u001b[39mexecution_mode(context\u001b[38;5;241m.\u001b[39mSYNC):\n\u001b[1;32m--> 749\u001b[0m   ret \u001b[38;5;241m=\u001b[39m \u001b[43mgen_dataset_ops\u001b[49m\u001b[38;5;241;43m.\u001b[39;49m\u001b[43miterator_get_next\u001b[49m\u001b[43m(\u001b[49m\n\u001b[0;32m    750\u001b[0m \u001b[43m      \u001b[49m\u001b[38;5;28;43mself\u001b[39;49m\u001b[38;5;241;43m.\u001b[39;49m\u001b[43m_iterator_resource\u001b[49m\u001b[43m,\u001b[49m\n\u001b[0;32m    751\u001b[0m \u001b[43m      \u001b[49m\u001b[43moutput_types\u001b[49m\u001b[38;5;241;43m=\u001b[39;49m\u001b[38;5;28;43mself\u001b[39;49m\u001b[38;5;241;43m.\u001b[39;49m\u001b[43m_flat_output_types\u001b[49m\u001b[43m,\u001b[49m\n\u001b[0;32m    752\u001b[0m \u001b[43m      \u001b[49m\u001b[43moutput_shapes\u001b[49m\u001b[38;5;241;43m=\u001b[39;49m\u001b[38;5;28;43mself\u001b[39;49m\u001b[38;5;241;43m.\u001b[39;49m\u001b[43m_flat_output_shapes\u001b[49m\u001b[43m)\u001b[49m\n\u001b[0;32m    754\u001b[0m   \u001b[38;5;28;01mtry\u001b[39;00m:\n\u001b[0;32m    755\u001b[0m     \u001b[38;5;66;03m# Fast path for the case `self._structure` is not a nested structure.\u001b[39;00m\n\u001b[0;32m    756\u001b[0m     \u001b[38;5;28;01mreturn\u001b[39;00m \u001b[38;5;28mself\u001b[39m\u001b[38;5;241m.\u001b[39m_element_spec\u001b[38;5;241m.\u001b[39m_from_compatible_tensor_list(ret)  \u001b[38;5;66;03m# pylint: disable=protected-access\u001b[39;00m\n",
      "File \u001b[1;32mc:\\Users\\notal\\miniconda3\\envs\\lipreading\\lib\\site-packages\\tensorflow\\python\\ops\\gen_dataset_ops.py:3016\u001b[0m, in \u001b[0;36miterator_get_next\u001b[1;34m(iterator, output_types, output_shapes, name)\u001b[0m\n\u001b[0;32m   3014\u001b[0m   \u001b[38;5;28;01mreturn\u001b[39;00m _result\n\u001b[0;32m   3015\u001b[0m \u001b[38;5;28;01mexcept\u001b[39;00m _core\u001b[38;5;241m.\u001b[39m_NotOkStatusException \u001b[38;5;28;01mas\u001b[39;00m e:\n\u001b[1;32m-> 3016\u001b[0m   \u001b[43m_ops\u001b[49m\u001b[38;5;241;43m.\u001b[39;49m\u001b[43mraise_from_not_ok_status\u001b[49m\u001b[43m(\u001b[49m\u001b[43me\u001b[49m\u001b[43m,\u001b[49m\u001b[43m \u001b[49m\u001b[43mname\u001b[49m\u001b[43m)\u001b[49m\n\u001b[0;32m   3017\u001b[0m \u001b[38;5;28;01mexcept\u001b[39;00m _core\u001b[38;5;241m.\u001b[39m_FallbackException:\n\u001b[0;32m   3018\u001b[0m   \u001b[38;5;28;01mpass\u001b[39;00m\n",
      "File \u001b[1;32mc:\\Users\\notal\\miniconda3\\envs\\lipreading\\lib\\site-packages\\tensorflow\\python\\framework\\ops.py:7209\u001b[0m, in \u001b[0;36mraise_from_not_ok_status\u001b[1;34m(e, name)\u001b[0m\n\u001b[0;32m   7207\u001b[0m \u001b[38;5;28;01mdef\u001b[39;00m \u001b[38;5;21mraise_from_not_ok_status\u001b[39m(e, name):\n\u001b[0;32m   7208\u001b[0m   e\u001b[38;5;241m.\u001b[39mmessage \u001b[38;5;241m+\u001b[39m\u001b[38;5;241m=\u001b[39m (\u001b[38;5;124m\"\u001b[39m\u001b[38;5;124m name: \u001b[39m\u001b[38;5;124m\"\u001b[39m \u001b[38;5;241m+\u001b[39m name \u001b[38;5;28;01mif\u001b[39;00m name \u001b[38;5;129;01mis\u001b[39;00m \u001b[38;5;129;01mnot\u001b[39;00m \u001b[38;5;28;01mNone\u001b[39;00m \u001b[38;5;28;01melse\u001b[39;00m \u001b[38;5;124m\"\u001b[39m\u001b[38;5;124m\"\u001b[39m)\n\u001b[1;32m-> 7209\u001b[0m   \u001b[38;5;28;01mraise\u001b[39;00m core\u001b[38;5;241m.\u001b[39m_status_to_exception(e) \u001b[38;5;28;01mfrom\u001b[39;00m \u001b[38;5;28;01mNone\u001b[39;00m\n",
      "\u001b[1;31mUnknownError\u001b[0m: {{function_node __wrapped__IteratorGetNext_output_types_2_device_/job:localhost/replica:0/task:0/device:CPU:0}} UnknownError: {{function_node __wrapped__Sub_device_/job:localhost/replica:0/task:0/device:GPU:0}} JIT compilation failed. [Op:Sub]\nTraceback (most recent call last):\n\n  File \"c:\\Users\\notal\\miniconda3\\envs\\lipreading\\lib\\site-packages\\tensorflow\\python\\ops\\script_ops.py\", line 269, in __call__\n    return func(device, token, args)\n\n  File \"c:\\Users\\notal\\miniconda3\\envs\\lipreading\\lib\\site-packages\\tensorflow\\python\\ops\\script_ops.py\", line 147, in __call__\n    outputs = self._call(device, args)\n\n  File \"c:\\Users\\notal\\miniconda3\\envs\\lipreading\\lib\\site-packages\\tensorflow\\python\\ops\\script_ops.py\", line 154, in _call\n    ret = self._func(*args)\n\n  File \"c:\\Users\\notal\\miniconda3\\envs\\lipreading\\lib\\site-packages\\tensorflow\\python\\autograph\\impl\\api.py\", line 642, in wrapper\n    return func(*args, **kwargs)\n\n  File \"C:\\Users\\notal\\AppData\\Local\\Temp\\ipykernel_13560\\3292283078.py\", line 14, in load_data\n    frames = load_video(video_path)\n\n  File \"C:\\Users\\notal\\AppData\\Local\\Temp\\ipykernel_13560\\1016885618.py\", line 14, in load_video\n    return tf.cast((frames - mean), tf.float32) / std # calculate mean and std deviation and scale image\n\n  File \"c:\\Users\\notal\\miniconda3\\envs\\lipreading\\lib\\site-packages\\tensorflow\\python\\util\\traceback_utils.py\", line 153, in error_handler\n    raise e.with_traceback(filtered_tb) from None\n\n  File \"c:\\Users\\notal\\miniconda3\\envs\\lipreading\\lib\\site-packages\\tensorflow\\python\\framework\\ops.py\", line 7209, in raise_from_not_ok_status\n    raise core._status_to_exception(e) from None  # pylint: disable=protected-access\n\ntensorflow.python.framework.errors_impl.UnknownError: {{function_node __wrapped__Sub_device_/job:localhost/replica:0/task:0/device:GPU:0}} JIT compilation failed. [Op:Sub]\n\n\n\t [[{{node EagerPyFunc}}]] [Op:IteratorGetNext]"
     ]
    }
   ],
   "source": [
    "with tf.device('/CPU:0'):    \n",
    "    frames, alignments = data.as_numpy_iterator().next()"
   ]
  },
  {
   "cell_type": "code",
   "execution_count": 15,
   "metadata": {
    "id": "fKlmu_F7klJ8"
   },
   "outputs": [],
   "source": [
    "test = data.as_numpy_iterator()"
   ]
  },
  {
   "cell_type": "code",
   "execution_count": 49,
   "metadata": {
    "colab": {
     "base_uri": "https://localhost:8080/"
    },
    "collapsed": true,
    "id": "mtj0N2UAlBqp",
    "outputId": "0f72a04d-03c4-4a94-bd20-4f04ab2ad3be"
   },
   "outputs": [
    {
     "ename": "AttributeError",
     "evalue": "'SkipDataset' object has no attribute 'next'",
     "output_type": "error",
     "traceback": [
      "\u001b[1;31m---------------------------------------------------------------------------\u001b[0m",
      "\u001b[1;31mAttributeError\u001b[0m                            Traceback (most recent call last)",
      "Cell \u001b[1;32mIn[49], line 1\u001b[0m\n\u001b[1;32m----> 1\u001b[0m val \u001b[38;5;241m=\u001b[39m \u001b[43mtest\u001b[49m\u001b[38;5;241;43m.\u001b[39;49m\u001b[43mnext\u001b[49m(); val[\u001b[38;5;241m0\u001b[39m]\n",
      "\u001b[1;31mAttributeError\u001b[0m: 'SkipDataset' object has no attribute 'next'"
     ]
    }
   ],
   "source": [
    "val = test.next(); val[0]"
   ]
  },
  {
   "cell_type": "markdown",
   "metadata": {
    "id": "Gxm2wxwanY4H"
   },
   "source": [
    "Visualisation of video"
   ]
  },
  {
   "cell_type": "code",
   "execution_count": 17,
   "metadata": {
    "colab": {
     "base_uri": "https://localhost:8080/"
    },
    "id": "wbxZlW6ump8v",
    "outputId": "f0454186-46f3-4df2-fde8-f4163b8eb0c1"
   },
   "outputs": [
    {
     "data": {
      "text/plain": [
       "<matplotlib.image.AxesImage at 0x1e7f696f160>"
      ]
     },
     "execution_count": 17,
     "metadata": {},
     "output_type": "execute_result"
    },
    {
     "data": {
      "image/png": "[encoded data removed]",
      "text/plain": [
       "<Figure size 640x480 with 1 Axes>"
      ]
     },
     "metadata": {},
     "output_type": "display_data"
    }
   ],
   "source": [
    "plt.imshow(val[0][0][6])  # 0 for frames not alignments, 0 for video one of two, 6 for frame 6"
   ]
  },
  {
   "cell_type": "markdown",
   "metadata": {
    "id": "Y5mrKdDXndq4"
   },
   "source": [
    "Transcript of video"
   ]
  },
  {
   "cell_type": "code",
   "execution_count": null,
   "metadata": {
    "colab": {
     "base_uri": "https://localhost:8080/"
    },
    "id": "OoFaPUJsnXSl",
    "outputId": "7da69ced-6fff-49ed-c023-d312e32a313f"
   },
   "outputs": [
    {
     "data": {
      "text/plain": [
       "<tf.Tensor: shape=(), dtype=string, numpy=b'lay green by d nine now'>"
      ]
     },
     "execution_count": 18,
     "metadata": {},
     "output_type": "execute_result"
    }
   ],
   "source": [
    "tf.strings.reduce_join([num_to_char(word) for word in val[1][0]])"
   ]
  },
  {
   "cell_type": "markdown",
   "metadata": {
    "id": "CBSXuSuLnl1H"
   },
   "source": [
    "# Deep Learning"
   ]
  },
  {
   "cell_type": "markdown",
   "metadata": {
    "id": "e9xhKQOwsLE_"
   },
   "source": [
    "##Building the NN"
   ]
  },
  {
   "cell_type": "code",
   "execution_count": null,
   "metadata": {
    "colab": {
     "base_uri": "https://localhost:8080/"
    },
    "id": "nO55HqhnKbEl",
    "outputId": "f659aed8-ad0d-48c8-b834-75994d814673"
   },
   "outputs": [
    {
     "name": "stdout",
     "output_type": "stream",
     "text": [
      "After First Conv3D: (None, 50, 23, 70, 128)\n",
      "After Second Conv3D: (None, 50, 11, 35, 256)\n",
      "After Third Conv3D: (None, 50, 5, 17, 50)\n",
      "After TimeDistributed Flatten: (None, 50, 4250)\n",
      "After First Bidirectional LSTM: (None, 50, 256)\n",
      "After Second Bidirectional LSTM: (None, 50, 256)\n",
      "After Dense Layer: (None, 50, 41)\n"
     ]
    }
   ],
   "source": [
    "\n",
    "model = Sequential()\n",
    "\n",
    "# First Conv3D Layer\n",
    "model.add(Conv3D(128, 3, input_shape=(50, 46, 140, 1), padding='same'))\n",
    "model.add(Activation('relu'))\n",
    "model.add(MaxPool3D((1, 2, 2)))\n",
    "print(f\"After First Conv3D: {model.output_shape}\")\n",
    "\n",
    "# Second Conv3D Layer\n",
    "model.add(Conv3D(256, 3, padding='same'))\n",
    "model.add(Activation('relu'))\n",
    "model.add(MaxPool3D((1, 2, 2)))\n",
    "print(f\"After Second Conv3D: {model.output_shape}\")\n",
    "\n",
    "# Third Conv3D Layer\n",
    "model.add(Conv3D(50, 3, padding='same'))\n",
    "model.add(Activation('relu'))\n",
    "model.add(MaxPool3D((1, 2, 2)))\n",
    "print(f\"After Third Conv3D: {model.output_shape}\")\n",
    "\n",
    "# TimeDistributed Flatten Layer\n",
    "model.add(TimeDistributed(Flatten()))\n",
    "print(f\"After TimeDistributed Flatten: {model.output_shape}\")\n",
    "\n",
    "# First Bidirectional LSTM Layer\n",
    "model.add(Bidirectional(LSTM(128, kernel_initializer=Orthogonal(), return_sequences=True)))\n",
    "print(f\"After First Bidirectional LSTM: {model.output_shape}\")\n",
    "model.add(Dropout(.5))\n",
    "\n",
    "# Second Bidirectional LSTM Layer\n",
    "model.add(Bidirectional(LSTM(128, kernel_initializer= Orthogonal(), return_sequences=True)))\n",
    "print(f\"After Second Bidirectional LSTM: {model.output_shape}\")\n",
    "model.add(Dropout(.5))\n",
    "\n",
    "# Dense Layer\n",
    "model.add(Dense(char_to_num.vocabulary_size() + 1, kernel_initializer='he_normal', activation='softmax'))\n",
    "print(f\"After Dense Layer: {model.output_shape}\")\n"
   ]
  },
  {
   "cell_type": "code",
   "execution_count": 20,
   "metadata": {
    "colab": {
     "base_uri": "https://localhost:8080/"
    },
    "collapsed": true,
    "id": "BCHNjII6pVIv",
    "outputId": "ee863137-1a3c-4d90-f6da-c52f119a8715"
   },
   "outputs": [
    {
     "name": "stdout",
     "output_type": "stream",
     "text": [
      "Model: \"sequential\"\n",
      "_________________________________________________________________\n",
      " Layer (type)                Output Shape              Param #   \n",
      "=================================================================\n",
      " conv3d (Conv3D)             (None, 50, 46, 140, 128)  3584      \n",
      "                                                                 \n",
      " activation (Activation)     (None, 50, 46, 140, 128)  0         \n",
      "                                                                 \n",
      " max_pooling3d (MaxPooling3D  (None, 50, 23, 70, 128)  0         \n",
      " )                                                               \n",
      "                                                                 \n",
      " conv3d_1 (Conv3D)           (None, 50, 23, 70, 256)   884992    \n",
      "                                                                 \n",
      " activation_1 (Activation)   (None, 50, 23, 70, 256)   0         \n",
      "                                                                 \n",
      " max_pooling3d_1 (MaxPooling  (None, 50, 11, 35, 256)  0         \n",
      " 3D)                                                             \n",
      "                                                                 \n",
      " conv3d_2 (Conv3D)           (None, 50, 11, 35, 50)    345650    \n",
      "                                                                 \n",
      " activation_2 (Activation)   (None, 50, 11, 35, 50)    0         \n",
      "                                                                 \n",
      " max_pooling3d_2 (MaxPooling  (None, 50, 5, 17, 50)    0         \n",
      " 3D)                                                             \n",
      "                                                                 \n",
      " time_distributed (TimeDistr  (None, 50, 4250)         0         \n",
      " ibuted)                                                         \n",
      "                                                                 \n",
      " bidirectional (Bidirectiona  (None, 50, 256)          4484096   \n",
      " l)                                                              \n",
      "                                                                 \n",
      " dropout (Dropout)           (None, 50, 256)           0         \n",
      "                                                                 \n",
      " bidirectional_1 (Bidirectio  (None, 50, 256)          394240    \n",
      " nal)                                                            \n",
      "                                                                 \n",
      " dropout_1 (Dropout)         (None, 50, 256)           0         \n",
      "                                                                 \n",
      " dense (Dense)               (None, 50, 41)            10537     \n",
      "                                                                 \n",
      "=================================================================\n",
      "Total params: 6,123,099\n",
      "Trainable params: 6,123,099\n",
      "Non-trainable params: 0\n",
      "_________________________________________________________________\n"
     ]
    }
   ],
   "source": [
    "model.summary()\n"
   ]
  },
  {
   "cell_type": "markdown",
   "metadata": {
    "id": "Ks6dgB8fsWHZ"
   },
   "source": [
    "###Untrained prediction"
   ]
  },
  {
   "cell_type": "code",
   "execution_count": null,
   "metadata": {
    "colab": {
     "base_uri": "https://localhost:8080/"
    },
    "id": "Hp4JsDbUopAt",
    "outputId": "4c1fe145-b5e5-4a29-fc25-141a228264d7"
   },
   "outputs": [
    {
     "name": "stdout",
     "output_type": "stream",
     "text": [
      "1/1 [==============================] - 2s 2s/step\n"
     ]
    }
   ],
   "source": [
    "yhat = model.predict(val[0])"
   ]
  },
  {
   "cell_type": "code",
   "execution_count": null,
   "metadata": {
    "colab": {
     "base_uri": "https://localhost:8080/"
    },
    "id": "WEjUaysao1Az",
    "outputId": "5e2435e1-6db8-47f4-9c67-cb3992964f8a"
   },
   "outputs": [
    {
     "data": {
      "text/plain": [
       "<tf.Tensor: shape=(), dtype=string, numpy=b'illrrrrrrrrrrrrrrrrrrrrrrrrrrrrrrrrrrrrrrrrrrrrr44'>"
      ]
     },
     "execution_count": 22,
     "metadata": {},
     "output_type": "execute_result"
    }
   ],
   "source": [
    "tf.strings.reduce_join([num_to_char(tf.argmax(x)) for x in yhat[0]])"
   ]
  },
  {
   "cell_type": "markdown",
   "metadata": {
    "id": "seddKs8NsaBn"
   },
   "source": [
    "As you can see, not a very succesful prediction"
   ]
  },
  {
   "cell_type": "markdown",
   "metadata": {
    "id": "Xao8vvYVuZd5"
   },
   "source": [
    "###Learning Rate and Loss Function"
   ]
  },
  {
   "cell_type": "code",
   "execution_count": 23,
   "metadata": {
    "id": "KTMjrHMkvM6u"
   },
   "outputs": [],
   "source": [
    "def scheduler(epoch, lr):\n",
    "    if epoch < 15:\n",
    "        return lr\n",
    "    else:\n",
    "        return lr * tf.math.exp(-0.1)"
   ]
  },
  {
   "cell_type": "code",
   "execution_count": 24,
   "metadata": {
    "id": "KeunCWVawGUK"
   },
   "outputs": [],
   "source": [
    "def CTCLoss(y_true, y_pred):\n",
    "    batch_len = tf.cast(tf.shape(y_true)[0], dtype=\"int64\")\n",
    "    input_length = tf.cast(tf.shape(y_pred)[1], dtype=\"int64\")\n",
    "    label_length = tf.cast(tf.shape(y_true)[1], dtype=\"int64\")\n",
    "\n",
    "    input_length = input_length * tf.ones(shape=(batch_len, 1), dtype=\"int64\")\n",
    "    label_length = label_length * tf.ones(shape=(batch_len, 1), dtype=\"int64\")\n",
    "\n",
    "    loss = tf.keras.backend.ctc_batch_cost(y_true, y_pred, input_length, label_length)\n",
    "    return loss"
   ]
  },
  {
   "cell_type": "code",
   "execution_count": 25,
   "metadata": {
    "id": "1Jo0GezSxgXc"
   },
   "outputs": [],
   "source": [
    "class ProduceExample(tf.keras.callbacks.Callback):\n",
    "    def __init__(self, dataset) -> None:\n",
    "        self.dataset = dataset.as_numpy_iterator()\n",
    "\n",
    "    def on_epoch_end(self, epoch, logs=None) -> None:\n",
    "        data = self.dataset.next()\n",
    "        yhat = self.model.predict(data[0])\n",
    "        decoded = tf.keras.backend.ctc_decode(yhat, [50,50], greedy=False)[0][0].numpy()\n",
    "        for x in range(len(yhat)):\n",
    "            print('Original:', tf.strings.reduce_join(num_to_char(data[1][x])).numpy().decode('utf-8'))\n",
    "            print('Prediction:', tf.strings.reduce_join(num_to_char(decoded[x])).numpy().decode('utf-8'))\n",
    "            print('~'*100)"
   ]
  },
  {
   "cell_type": "code",
   "execution_count": 26,
   "metadata": {
    "id": "0XRDX-Pwx6L1"
   },
   "outputs": [],
   "source": [
    "model.compile(optimizer=Adam(learning_rate=0.00001), loss=CTCLoss)"
   ]
  },
  {
   "cell_type": "code",
   "execution_count": 27,
   "metadata": {
    "id": "zDc94IbvyMxt"
   },
   "outputs": [],
   "source": [
    "checkpoint_path = os.path.join('/content/drive/My Drive/Colab Notebooks/savedmodels','lipcheckpoint.weights.h5')\n",
    "checkpoint_callback = ModelCheckpoint(filepath=checkpoint_path, monitor='loss', save_best_only=True, save_weights_only=True)"
   ]
  },
  {
   "cell_type": "code",
   "execution_count": 28,
   "metadata": {
    "id": "clro-Wvp3H-5"
   },
   "outputs": [],
   "source": [
    "schedule_callback = LearningRateScheduler(scheduler)"
   ]
  },
  {
   "cell_type": "code",
   "execution_count": null,
   "metadata": {},
   "outputs": [
    {
     "name": "stdout",
     "output_type": "stream",
     "text": [
      "Predictions (y_pred): [[[0.02717535 0.02167123 0.02666856 ... 0.02591068 0.02288024 0.02177408]\n",
      "  [0.02824172 0.02103098 0.02527788 ... 0.02801636 0.02167093 0.02152019]\n",
      "  [0.02899916 0.02066636 0.02391569 ... 0.02956331 0.02075588 0.02144182]\n",
      "  ...\n",
      "  [0.02443854 0.02267385 0.01808587 ... 0.03242362 0.02085231 0.02236978]\n",
      "  [0.02423606 0.02320354 0.0179151  ... 0.03145773 0.02184174 0.02261932]\n",
      "  [0.02391824 0.02383412 0.0179778  ... 0.0300527  0.02331329 0.02302106]]\n",
      "\n",
      " [[0.02644172 0.02204218 0.02687236 ... 0.02715197 0.02282544 0.02178492]\n",
      "  [0.02767215 0.02130296 0.02510599 ... 0.02960268 0.02159065 0.02160343]\n",
      "  [0.02859234 0.02096841 0.0233183  ... 0.03158795 0.02062846 0.02166313]\n",
      "  ...\n",
      "  [0.02452207 0.02395954 0.01802751 ... 0.03233388 0.02091901 0.02349279]\n",
      "  [0.02432618 0.02435618 0.01797505 ... 0.03094592 0.02201428 0.02371645]\n",
      "  [0.02404596 0.02476877 0.01820518 ... 0.02952365 0.02356457 0.02398893]]\n",
      "\n",
      " [[0.02619412 0.02406708 0.02519003 ... 0.02502733 0.02302188 0.02202947]\n",
      "  [0.02633147 0.02336752 0.02510929 ... 0.02645649 0.02234446 0.02179132]\n",
      "  [0.02633122 0.02277596 0.02485652 ... 0.02775352 0.02180858 0.02169289]\n",
      "  ...\n",
      "  [0.02408687 0.02019764 0.02093498 ... 0.03340428 0.02157822 0.02398783]\n",
      "  [0.02374045 0.02072203 0.02087634 ... 0.03237881 0.02226547 0.02423535]\n",
      "  [0.02333894 0.02150028 0.02093093 ... 0.0313771  0.02292786 0.02431361]]\n",
      "\n",
      " [[0.02976377 0.02163598 0.02762759 ... 0.0253669  0.02189046 0.02422691]\n",
      "  [0.03037241 0.0210185  0.02727027 ... 0.02743946 0.02067133 0.02424113]\n",
      "  [0.03098893 0.02079212 0.02684852 ... 0.02910723 0.0199595  0.02424441]\n",
      "  ...\n",
      "  [0.02539667 0.02376185 0.02382381 ... 0.0308458  0.02120954 0.02420859]\n",
      "  [0.02471146 0.02438879 0.0231731  ... 0.02993653 0.02240766 0.02415755]\n",
      "  [0.024192   0.02503699 0.02272001 ... 0.02917027 0.0236825  0.02395797]]]\n",
      "Softmax sum along the last axis (should be 1): [[1.         1.         0.9999999  1.         1.         0.9999999\n",
      "  1.0000001  1.0000001  1.         0.99999994 1.         1.\n",
      "  1.0000001  1.         1.         1.         0.99999994 1.0000001\n",
      "  0.99999994 1.         1.         1.0000001  0.99999994 0.9999999\n",
      "  0.99999994 1.0000001  1.0000001  1.         0.99999994 1.\n",
      "  0.99999994 1.         1.         1.         1.0000001  0.99999994\n",
      "  0.9999999  0.9999999  0.99999994 1.         1.         0.99999994\n",
      "  1.0000001  1.         0.99999994 1.         1.         1.\n",
      "  0.99999994 1.        ]\n",
      " [0.99999994 1.         0.9999999  1.         1.         0.99999994\n",
      "  1.         0.99999994 0.99999994 1.0000001  0.9999999  1.\n",
      "  1.         1.0000001  1.0000001  0.99999994 0.99999994 0.9999999\n",
      "  1.0000001  0.99999994 1.         1.         1.         0.99999994\n",
      "  1.         1.         1.         1.         1.         0.9999999\n",
      "  1.         1.         1.         1.         1.         0.99999994\n",
      "  1.         0.9999999  0.9999999  1.         1.0000001  1.\n",
      "  1.0000001  1.         1.         0.99999994 1.         1.\n",
      "  1.         1.0000001 ]\n",
      " [1.0000001  1.         1.         1.         1.         0.99999994\n",
      "  0.99999994 1.         1.         1.0000001  1.         1.\n",
      "  1.0000001  1.         1.0000001  0.99999994 1.         0.99999994\n",
      "  0.99999994 1.         1.         1.0000001  1.         0.99999994\n",
      "  0.99999994 0.9999999  1.         1.0000001  0.9999999  1.\n",
      "  0.99999994 1.0000001  1.         1.0000001  1.         1.\n",
      "  1.         1.         1.         0.99999994 1.         1.\n",
      "  1.         1.         1.         1.         1.         0.99999994\n",
      "  1.         0.99999994]\n",
      " [1.         1.         1.0000001  1.         1.         1.\n",
      "  1.         1.         0.9999999  1.         0.99999994 1.\n",
      "  0.99999994 1.         1.         0.99999994 1.0000001  1.\n",
      "  0.99999994 1.         1.0000001  0.99999994 0.99999994 1.\n",
      "  1.         1.         0.99999994 1.         0.99999994 0.99999994\n",
      "  1.         1.0000001  1.         1.         1.         1.\n",
      "  1.0000001  1.         1.         0.9999999  0.99999994 1.\n",
      "  1.         1.         1.         1.         1.         1.\n",
      "  1.         1.        ]]\n",
      "No zero probabilities found in y_pred.\n",
      "Batch length: 4\n",
      "Input length (should match y_pred time steps): 50\n",
      "Label length (should match label sequence lengths): 40\n",
      "All label lengths are valid.\n",
      "Loss value for batch: [[inf]\n",
      " [inf]\n",
      " [inf]\n",
      " [inf]]\n"
     ]
    }
   ],
   "source": [
    "for batch in train.take(1):  # Take a single batch for debugging\n",
    "    x_input, y_true = batch\n",
    "    y_pred = model(x_input, training=False)\n",
    "    print(\"Predictions (y_pred):\", y_pred.numpy())  # Inspect predictions\n",
    "\n",
    "    # Check if y_pred sums to 1 along the last axis (softmax verification)\n",
    "    softmax_check = tf.reduce_sum(y_pred, axis=-1)\n",
    "    print(\"Softmax sum along the last axis (should be 1):\", softmax_check.numpy())\n",
    "    \n",
    "    # Check for zero probabilities in y_pred\n",
    "    zero_probs = tf.reduce_any(y_pred == 0, axis=-1)\n",
    "    if tf.reduce_any(zero_probs):\n",
    "        print(\"Found zero probabilities in y_pred!\")\n",
    "    else:\n",
    "        print(\"No zero probabilities found in y_pred.\")\n",
    "\n",
    "    # Debugging CTCLoss inputs\n",
    "    batch_len = tf.cast(tf.shape(y_true)[0], dtype=\"int64\")  # Batch size\n",
    "    input_length = tf.cast(tf.shape(y_pred)[1], dtype=\"int64\")  # Time steps of y_pred\n",
    "    label_length = tf.cast(tf.shape(y_true)[1], dtype=\"int64\")  # True label sequence length\n",
    "\n",
    "    print(\"Batch length:\", batch_len.numpy())\n",
    "    print(\"Input length (should match y_pred time steps):\", input_length.numpy())\n",
    "    print(\"Label length (should match label sequence lengths):\", label_length.numpy())\n",
    "\n",
    "    # Check if label_length <= input_length for all samples\n",
    "    if tf.reduce_any(label_length > input_length):\n",
    "        print(\"Error: Found label_length > input_length!\")\n",
    "    else:\n",
    "        print(\"All label lengths are valid.\")\n",
    "\n",
    "    # Compute the loss value for the batch\n",
    "    loss_value = CTCLoss(y_true, y_pred)\n",
    "    print(\"Loss value for batch:\", loss_value.numpy())"
   ]
  },
  {
   "cell_type": "code",
   "execution_count": 30,
   "metadata": {
    "id": "DF71RUoy3Qtx"
   },
   "outputs": [
    {
     "ename": "",
     "evalue": "",
     "output_type": "error",
     "traceback": [
      "\u001b[1;31mThe Kernel crashed while executing code in the current cell or a previous cell. \n",
      "\u001b[1;31mPlease review the code in the cell(s) to identify a possible cause of the failure. \n",
      "\u001b[1;31mClick <a href='https://aka.ms/vscodeJupyterKernelCrash'>here</a> for more info. \n",
      "\u001b[1;31mView Jupyter <a href='command:jupyter.viewOutput'>log</a> for further details."
     ]
    }
   ],
   "source": [
    "example_callback = ProduceExample(train)"
   ]
  },
  {
   "cell_type": "code",
   "execution_count": null,
   "metadata": {
    "colab": {
     "base_uri": "https://localhost:8080/",
     "height": 321
    },
    "id": "VrlOoAfI3V4L",
    "outputId": "1adae8f6-7a22-4612-b9b0-49843cf83744"
   },
   "outputs": [
    {
     "name": "stdout",
     "output_type": "stream",
     "text": [
      "Epoch 1/5\n"
     ]
    }
   ],
   "source": [
    "model.fit(train, validation_data=test, epochs = 5, callbacks=[schedule_callback, example_callback])"
   ]
  }
 ],
 "metadata": {
  "accelerator": "TPU",
  "colab": {
   "collapsed_sections": [
    "9EqJKdBOEYl-",
    "3TA90gu1fz_Z"
   ],
   "gpuType": "V28",
   "provenance": []
  },
  "kernelspec": {
   "display_name": "lipreading",
   "language": "python",
   "name": "python3"
  },
  "language_info": {
   "codemirror_mode": {
    "name": "ipython",
    "version": 3
   },
   "file_extension": ".py",
   "mimetype": "text/x-python",
   "name": "python",
   "nbconvert_exporter": "python",
   "pygments_lexer": "ipython3",
   "version": "3.10.16"
  }
 },
 "nbformat": 4,
 "nbformat_minor": 0
}
