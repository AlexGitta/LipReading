{
 "cells": [
  {
   "cell_type": "markdown",
   "metadata": {
    "id": "XUsHudU_9Po4"
   },
   "source": [
    "# Lip Reading in TensorFlow\n",
    "commondsense baseline iseeeeeeeeeeeeeeeeeeeeeeeeeeeeeeeeeeeeeeeeeeeeeeeeeeeeeeeeeeeeeeee\n",
    "An attempt at using TensorFlow to analyse pixels in video files (without sound) of someone talking and produce an estimation of their speech.\n",
    "\n",
    "I decided to use the GRID dataset, which has a good variety of speakers, although the sentence format is quite formulaic. Though this may result in a degree of overfitting, human speech is a very wide dataset and focusing on just one speaker and sentence format enabled me to create a more effective model.\n",
    "\n",
    "The dataset can be downloaded here (speaker 20) -\n",
    "\n",
    "https://spandh.dcs.shef.ac.uk/gridcorpus/\n",
    "\n",
    "And I based my Neural Network on the one described in LipNet, which can be found here -\n",
    "\n",
    "https://arxiv.org/pdf/1611.01599\n",
    "\n"
   ]
  },
  {
   "cell_type": "code",
   "execution_count": 53,
   "metadata": {
    "id": "UukwPghV9J8P"
   },
   "outputs": [],
   "source": [
    "import os\n",
    "import glob\n",
    "import numpy as np\n",
    "import cv2\n",
    "import tensorflow as tf\n",
    "from tensorflow import keras\n",
    "import matplotlib.pyplot as plt\n",
    "from typing import List\n",
    "from typing import Tuple\n",
    "\n",
    "from keras.models import Sequential\n",
    "from keras.initializers import Orthogonal\n",
    "from keras.layers import Conv3D, LSTM, Dense, Dropout, Bidirectional, MaxPool3D, Activation, Reshape, SpatialDropout3D, BatchNormalization, TimeDistributed, Flatten\n",
    "from keras.callbacks import LearningRateScheduler, ModelCheckpoint\n",
    "from keras.optimizers import Adam"
   ]
  },
  {
   "cell_type": "code",
   "execution_count": 54,
   "metadata": {
    "colab": {
     "base_uri": "https://localhost:8080/"
    },
    "id": "KicQFHIZt3IC",
    "outputId": "048bb689-ab0e-4a96-e7e3-e9c21429e698"
   },
   "outputs": [
    {
     "data": {
      "text/plain": [
       "[]"
      ]
     },
     "execution_count": 54,
     "metadata": {},
     "output_type": "execute_result"
    }
   ],
   "source": [
    "os.environ[\"CUDA_VISIBLE_DEVICES\"] = \"0\"\n",
    "tf.config.list_physical_devices('GPU')"
   ]
  },
  {
   "cell_type": "code",
   "execution_count": 55,
   "metadata": {
    "colab": {
     "base_uri": "https://localhost:8080/"
    },
    "id": "Wb0Fbr0PZh0N",
    "outputId": "df0b4a67-5c22-4ac2-a120-db291d7dad82"
   },
   "outputs": [],
   "source": [
    "#physical_devices = tf.config.list_physical_devices('GPU')\n",
    "#if physical_devices:\n",
    " #   tf.config.experimental.set_memory_growth(physical_devices[0], True)\n",
    " #  print(\"GPU configured successfully\")\n",
    "#else:\n",
    "  #  print(\"No GPU found, using CPU\")"
   ]
  },
  {
   "cell_type": "markdown",
   "metadata": {
    "id": "9EqJKdBOEYl-"
   },
   "source": [
    "# Data Loading and Preprocessing"
   ]
  },
  {
   "cell_type": "code",
   "execution_count": 56,
   "metadata": {
    "id": "rH71Oul7LsFh"
   },
   "outputs": [],
   "source": [
    "def load_video(path:str) -> List[float]:\n",
    "\n",
    "    cap = cv2.VideoCapture(path)\n",
    "    frames = []   # create frames array\n",
    "    for _ in range(75):\n",
    "        ret, frame = cap.read()\n",
    "        if frame is None:  # Add check\n",
    "            raise ValueError(f\"Could not read frame from video: {path}\")\n",
    "        frame = tf.image.rgb_to_grayscale(frame)\n",
    "        frames.append(frame[200:246,110:250,:])\n",
    "    cap.release()\n",
    "\n",
    "    mean = tf.math.reduce_mean(frames)\n",
    "    std = tf.math.reduce_std(tf.cast(frames, tf.float32))\n",
    "    return tf.cast((frames - mean), tf.float32) / std # calculate mean and std deviation and scale image"
   ]
  },
  {
   "cell_type": "code",
   "execution_count": 57,
   "metadata": {},
   "outputs": [],
   "source": [
    "def load_video(path: str, target_frames: int = 75) -> List[float]:\n",
    "    cap = cv2.VideoCapture(path)\n",
    "    frames = []\n",
    "    \n",
    "    # Read available frames\n",
    "    while len(frames) < target_frames:\n",
    "        ret, frame = cap.read()\n",
    "        if not ret:\n",
    "            break\n",
    "        frame = tf.image.rgb_to_grayscale(frame)\n",
    "        frames.append(frame[200:246,110:250,:])\n",
    "    \n",
    "    cap.release()\n",
    "    \n",
    "    # Get frame shape from existing frame\n",
    "    frame_shape = frames[0].shape if frames else (46, 140, 1)\n",
    "    \n",
    "    # Pad with zeros up to target_frames\n",
    "    while len(frames) < target_frames:\n",
    "        frames.append(tf.zeros(frame_shape))\n",
    "        print(\"padded frames on video \", path)\n",
    "        \n",
    "    frames = [tf.cast(frame, tf.float32) for frame in frames]\n",
    "    frames_tensor = tf.stack(frames)\n",
    "    mean = tf.math.reduce_mean(frames_tensor)\n",
    "    std = tf.math.reduce_std(tf.cast(frames_tensor, tf.float32))\n",
    "    \n",
    "    return tf.cast((frames_tensor - mean), tf.float32) / std"
   ]
  },
  {
   "cell_type": "markdown",
   "metadata": {
    "id": "rYHrkRTUN_9i"
   },
   "source": [
    "Conversion functions taken from\n",
    "https://keras.io/examples/audio/ctc_asr/"
   ]
  },
  {
   "cell_type": "code",
   "execution_count": 58,
   "metadata": {
    "colab": {
     "base_uri": "https://localhost:8080/"
    },
    "collapsed": true,
    "id": "vvMPnd_QM9t3",
    "outputId": "961adbd3-3efc-4661-efc8-1dba9c2723a0"
   },
   "outputs": [
    {
     "name": "stdout",
     "output_type": "stream",
     "text": [
      "The vocabulary is: ['', 'a', 'b', 'c', 'd', 'e', 'f', 'g', 'h', 'i', 'j', 'k', 'l', 'm', 'n', 'o', 'p', 'q', 'r', 's', 't', 'u', 'v', 'w', 'x', 'y', 'z', \"'\", '?', '!', '1', '2', '3', '4', '5', '6', '7', '8', '9', ' '] (size =40)\n"
     ]
    }
   ],
   "source": [
    "characters = [x for x in \"abcdefghijklmnopqrstuvwxyz'?!123456789 \"]\n",
    "\n",
    "char_to_num = tf.keras.layers.StringLookup(vocabulary=characters, oov_token=\"\")\n",
    "num_to_char = tf.keras.layers.StringLookup(\n",
    "    vocabulary=char_to_num.get_vocabulary(), oov_token=\"\", invert=True\n",
    ")\n",
    "\n",
    "print(\n",
    "    f\"The vocabulary is: {char_to_num.get_vocabulary()} \"\n",
    "    f\"(size ={char_to_num.vocabulary_size()})\"\n",
    ")"
   ]
  },
  {
   "cell_type": "code",
   "execution_count": 59,
   "metadata": {
    "id": "_WVHLXo8PUD_"
   },
   "outputs": [],
   "source": [
    "def load_alignments(path:str) -> List[str]:\n",
    "    with open(path, 'r') as f:\n",
    "        lines = f.readlines()\n",
    "    tokens = []\n",
    "    for line in lines:\n",
    "        line = line.split()\n",
    "        if line[2] != 'sil':  # all lines that are not \"silence\"\n",
    "            tokens = [*tokens,' ',line[2]]\n",
    "    return char_to_num(tf.reshape(tf.strings.unicode_split(tokens, input_encoding='UTF-8'), (-1)))[1:]\n",
    "     # add to tokens array as numbers (using conversion function)"
   ]
  },
  {
   "cell_type": "code",
   "execution_count": 60,
   "metadata": {},
   "outputs": [],
   "source": [
    "import os\n",
    "\n",
    "def load_data(path: str):\n",
    "    path = bytes.decode(path.numpy())\n",
    "    file_name = path.split('/')[-1].split('.')[0]\n",
    "    video_path = os.path.join('.', 's20vids', f'{file_name}.mpg')\n",
    "    alignment_path = os.path.join('.', 'align', f'{file_name}.align')\n",
    "    \n",
    "    if not os.path.exists(video_path):\n",
    "        raise FileNotFoundError(f\"Video file not found: {video_path}\")\n",
    "    if not os.path.exists(alignment_path):\n",
    "        raise FileNotFoundError(f\"Alignment file not found: {alignment_path}\")\n",
    "    \n",
    "    frames = load_video(video_path)\n",
    "    alignments = load_alignments(alignment_path)\n",
    "    return frames, alignments"
   ]
  },
  {
   "cell_type": "code",
   "execution_count": 61,
   "metadata": {
    "id": "bZri1tW0QE6I"
   },
   "outputs": [],
   "source": [
    "testing = './s20vids/bbwk7p.mpg'"
   ]
  },
  {
   "cell_type": "code",
   "execution_count": 62,
   "metadata": {
    "colab": {
     "base_uri": "https://localhost:8080/"
    },
    "id": "WcC4dlwDQS5C",
    "outputId": "ba8921f4-5a19-458d-82be-9d5dd307f51d"
   },
   "outputs": [
    {
     "name": "stdout",
     "output_type": "stream",
     "text": [
      "(<tf.Tensor: shape=(75, 46, 140, 1), dtype=float32, numpy=\n",
      "array([[[[ 0.16874304],\n",
      "         [-0.1460227 ],\n",
      "         [-0.38209704],\n",
      "         ...,\n",
      "         [-1.3526248 ],\n",
      "         [-1.4050857 ],\n",
      "         [-1.1952419 ]],\n",
      "\n",
      "        [[ 0.14251256],\n",
      "         [-0.1460227 ],\n",
      "         [-0.38209704],\n",
      "         ...,\n",
      "         [-1.3526248 ],\n",
      "         [-1.4050857 ],\n",
      "         [-1.1952419 ]],\n",
      "\n",
      "        [[ 0.14251256],\n",
      "         [-0.1460227 ],\n",
      "         [-0.38209704],\n",
      "         ...,\n",
      "         [-1.3526248 ],\n",
      "         [-1.4050857 ],\n",
      "         [-1.1952419 ]],\n",
      "\n",
      "        ...,\n",
      "\n",
      "        [[-0.2509446 ],\n",
      "         [-0.2509446 ],\n",
      "         [-0.19848368],\n",
      "         ...,\n",
      "         [-1.3263943 ],\n",
      "         [-1.3526248 ],\n",
      "         [-1.1690114 ]],\n",
      "\n",
      "        [[-0.17225319],\n",
      "         [-0.19848368],\n",
      "         [-0.19848368],\n",
      "         ...,\n",
      "         [-1.3263943 ],\n",
      "         [-1.3526248 ],\n",
      "         [-1.1690114 ]],\n",
      "\n",
      "        [[-0.17225319],\n",
      "         [-0.17225319],\n",
      "         [-0.2509446 ],\n",
      "         ...,\n",
      "         [-1.3263943 ],\n",
      "         [-1.3263943 ],\n",
      "         [-1.1427809 ]]],\n",
      "\n",
      "\n",
      "       [[[ 0.06382112],\n",
      "         [-0.19848368],\n",
      "         [-0.43455797],\n",
      "         ...,\n",
      "         [-1.3788552 ],\n",
      "         [-1.3788552 ],\n",
      "         [-1.2214724 ]],\n",
      "\n",
      "        [[ 0.01136016],\n",
      "         [-0.19848368],\n",
      "         [-0.38209704],\n",
      "         ...,\n",
      "         [-1.3263943 ],\n",
      "         [-1.3526248 ],\n",
      "         [-1.2214724 ]],\n",
      "\n",
      "        [[-0.01487032],\n",
      "         [-0.19848368],\n",
      "         [-0.35586655],\n",
      "         ...,\n",
      "         [-1.3263943 ],\n",
      "         [-1.3526248 ],\n",
      "         [-1.1952419 ]],\n",
      "\n",
      "        ...,\n",
      "\n",
      "        [[-0.22471415],\n",
      "         [-0.22471415],\n",
      "         [-0.11979223],\n",
      "         ...,\n",
      "         [-1.3788552 ],\n",
      "         [-1.3788552 ],\n",
      "         [-1.1952419 ]],\n",
      "\n",
      "        [[-0.22471415],\n",
      "         [-0.22471415],\n",
      "         [-0.1460227 ],\n",
      "         ...,\n",
      "         [-1.3788552 ],\n",
      "         [-1.3001637 ],\n",
      "         [-1.1427809 ]],\n",
      "\n",
      "        [[-0.19848368],\n",
      "         [-0.19848368],\n",
      "         [-0.17225319],\n",
      "         ...,\n",
      "         [-1.3788552 ],\n",
      "         [-1.2739333 ],\n",
      "         [-1.1165504 ]]],\n",
      "\n",
      "\n",
      "       [[[ 0.03759064],\n",
      "         [-0.19848368],\n",
      "         [-0.43455797],\n",
      "         ...,\n",
      "         [-1.3788552 ],\n",
      "         [-1.3788552 ],\n",
      "         [-1.1952419 ]],\n",
      "\n",
      "        [[ 0.01136016],\n",
      "         [-0.17225319],\n",
      "         [-0.46078846],\n",
      "         ...,\n",
      "         [-1.3263943 ],\n",
      "         [-1.3788552 ],\n",
      "         [-1.1952419 ]],\n",
      "\n",
      "        [[-0.01487032],\n",
      "         [-0.22471415],\n",
      "         [-0.43455797],\n",
      "         ...,\n",
      "         [-1.3001637 ],\n",
      "         [-1.3263943 ],\n",
      "         [-1.2214724 ]],\n",
      "\n",
      "        ...,\n",
      "\n",
      "        [[-0.2509446 ],\n",
      "         [-0.2509446 ],\n",
      "         [-0.09356175],\n",
      "         ...,\n",
      "         [-1.3788552 ],\n",
      "         [-1.3263943 ],\n",
      "         [-1.1165504 ]],\n",
      "\n",
      "        [[-0.19848368],\n",
      "         [-0.19848368],\n",
      "         [-0.11979223],\n",
      "         ...,\n",
      "         [-1.3788552 ],\n",
      "         [-1.2214724 ],\n",
      "         [-1.09032   ]],\n",
      "\n",
      "        [[-0.19848368],\n",
      "         [-0.19848368],\n",
      "         [-0.17225319],\n",
      "         ...,\n",
      "         [-1.3788552 ],\n",
      "         [-1.2214724 ],\n",
      "         [-1.09032   ]]],\n",
      "\n",
      "\n",
      "       ...,\n",
      "\n",
      "\n",
      "       [[[ 0.221204  ],\n",
      "         [-0.09356175],\n",
      "         [-0.32963607],\n",
      "         ...,\n",
      "         [-1.4050857 ],\n",
      "         [-1.4313161 ],\n",
      "         [-1.3001637 ]],\n",
      "\n",
      "        [[ 0.221204  ],\n",
      "         [-0.09356175],\n",
      "         [-0.32963607],\n",
      "         ...,\n",
      "         [-1.4050857 ],\n",
      "         [-1.4313161 ],\n",
      "         [-1.3001637 ]],\n",
      "\n",
      "        [[ 0.19497351],\n",
      "         [-0.11979223],\n",
      "         [-0.32963607],\n",
      "         ...,\n",
      "         [-1.4050857 ],\n",
      "         [-1.4313161 ],\n",
      "         [-1.2477028 ]],\n",
      "\n",
      "        ...,\n",
      "\n",
      "        [[-0.17225319],\n",
      "         [-0.2509446 ],\n",
      "         [-0.1460227 ],\n",
      "         ...,\n",
      "         [-1.3526248 ],\n",
      "         [-1.4837772 ],\n",
      "         [-1.1952419 ]],\n",
      "\n",
      "        [[-0.17225319],\n",
      "         [-0.2509446 ],\n",
      "         [-0.17225319],\n",
      "         ...,\n",
      "         [-1.3526248 ],\n",
      "         [-1.4050857 ],\n",
      "         [-1.1690114 ]],\n",
      "\n",
      "        [[-0.17225319],\n",
      "         [-0.2509446 ],\n",
      "         [-0.19848368],\n",
      "         ...,\n",
      "         [-1.3526248 ],\n",
      "         [-1.3788552 ],\n",
      "         [-1.1427809 ]]],\n",
      "\n",
      "\n",
      "       [[[ 0.19497351],\n",
      "         [-0.09356175],\n",
      "         [-0.32963607],\n",
      "         ...,\n",
      "         [-1.3526248 ],\n",
      "         [-1.4050857 ],\n",
      "         [-1.3001637 ]],\n",
      "\n",
      "        [[ 0.19497351],\n",
      "         [-0.09356175],\n",
      "         [-0.32963607],\n",
      "         ...,\n",
      "         [-1.3526248 ],\n",
      "         [-1.4050857 ],\n",
      "         [-1.2739333 ]],\n",
      "\n",
      "        [[ 0.14251256],\n",
      "         [-0.11979223],\n",
      "         [-0.32963607],\n",
      "         ...,\n",
      "         [-1.3263943 ],\n",
      "         [-1.3788552 ],\n",
      "         [-1.2739333 ]],\n",
      "\n",
      "        ...,\n",
      "\n",
      "        [[-0.22471415],\n",
      "         [-0.2771751 ],\n",
      "         [-0.11979223],\n",
      "         ...,\n",
      "         [-1.3788552 ],\n",
      "         [-1.4837772 ],\n",
      "         [-1.1427809 ]],\n",
      "\n",
      "        [[-0.22471415],\n",
      "         [-0.2771751 ],\n",
      "         [-0.1460227 ],\n",
      "         ...,\n",
      "         [-1.3788552 ],\n",
      "         [-1.4050857 ],\n",
      "         [-1.1165504 ]],\n",
      "\n",
      "        [[-0.19848368],\n",
      "         [-0.22471415],\n",
      "         [-0.19848368],\n",
      "         ...,\n",
      "         [-1.3788552 ],\n",
      "         [-1.3788552 ],\n",
      "         [-1.0640895 ]]],\n",
      "\n",
      "\n",
      "       [[[ 0.19497351],\n",
      "         [-0.11979223],\n",
      "         [-0.32963607],\n",
      "         ...,\n",
      "         [-1.3263943 ],\n",
      "         [-1.4837772 ],\n",
      "         [-1.2739333 ]],\n",
      "\n",
      "        [[ 0.14251256],\n",
      "         [-0.1460227 ],\n",
      "         [-0.32963607],\n",
      "         ...,\n",
      "         [-1.3263943 ],\n",
      "         [-1.4050857 ],\n",
      "         [-1.2739333 ]],\n",
      "\n",
      "        [[ 0.06382112],\n",
      "         [-0.17225319],\n",
      "         [-0.35586655],\n",
      "         ...,\n",
      "         [-1.3263943 ],\n",
      "         [-1.4050857 ],\n",
      "         [-1.2214724 ]],\n",
      "\n",
      "        ...,\n",
      "\n",
      "        [[-0.22471415],\n",
      "         [-0.2771751 ],\n",
      "         [-0.1460227 ],\n",
      "         ...,\n",
      "         [-1.4050857 ],\n",
      "         [-1.3788552 ],\n",
      "         [-1.1690114 ]],\n",
      "\n",
      "        [[-0.22471415],\n",
      "         [-0.2771751 ],\n",
      "         [-0.19848368],\n",
      "         ...,\n",
      "         [-1.4050857 ],\n",
      "         [-1.3001637 ],\n",
      "         [-1.1165504 ]],\n",
      "\n",
      "        [[-0.19848368],\n",
      "         [-0.22471415],\n",
      "         [-0.2509446 ],\n",
      "         ...,\n",
      "         [-1.4050857 ],\n",
      "         [-1.3001637 ],\n",
      "         [-1.1165504 ]]]], dtype=float32)>, <tf.Tensor: shape=(28,), dtype=int64, numpy=\n",
      "array([ 2,  9, 14, 39,  2, 12, 21,  5, 39, 23,  9, 20,  8, 39, 11, 39, 19,\n",
      "        5, 22,  5, 14, 39, 16, 12,  5,  1, 19,  5], dtype=int64)>)\n"
     ]
    }
   ],
   "source": [
    "with tf.device('/CPU:0'):\n",
    "    print(load_data(tf.convert_to_tensor(testing))) # this returns the frames and alignments, ready for the NN\n",
    "                                      # note the shape"
   ]
  },
  {
   "cell_type": "code",
   "execution_count": 63,
   "metadata": {
    "id": "nK2c8uangJt7"
   },
   "outputs": [],
   "source": [
    "def mappable_function(path:str) ->List[Tuple[tf.Tensor, tf.Tensor]]:\n",
    "      result = tf.py_function(load_data, [path], (tf.float32, tf.int64))\n",
    "      return result #format data for tensorflow"
   ]
  },
  {
   "cell_type": "markdown",
   "metadata": {
    "id": "NZg1IZnZSl_J"
   },
   "source": [
    "### Using MatPlotLib to visualise frames\n",
    "\n",
    "As you can see, MPL can be used to show what the NN sees. I used this (and trial + error on as many clips as I had patience for ) to center the mouth in the image, as this is the only part of the face we are interested in."
   ]
  },
  {
   "cell_type": "code",
   "execution_count": 64,
   "metadata": {
    "colab": {
     "base_uri": "https://localhost:8080/",
     "height": 244
    },
    "id": "NMj_qwUqUTEH",
    "outputId": "c6afeed7-edf0-48f9-d87a-112544d7dc54"
   },
   "outputs": [
    {
     "data": {
      "text/plain": [
       "<matplotlib.image.AxesImage at 0x23b856f97e0>"
      ]
     },
     "execution_count": 64,
     "metadata": {},
     "output_type": "execute_result"
    },
    {
     "data": {
      "image/png": "[encoded data removed]",
      "text/plain": [
       "<Figure size 640x480 with 1 Axes>"
      ]
     },
     "metadata": {},
     "output_type": "display_data"
    }
   ],
   "source": [
    "frames, alignments = load_data(tf.convert_to_tensor(testing))\n",
    "plt.imshow(frames[34])"
   ]
  },
  {
   "cell_type": "code",
   "execution_count": 65,
   "metadata": {
    "colab": {
     "base_uri": "https://localhost:8080/"
    },
    "id": "ChnNxAAaoA6B",
    "outputId": "33449548-8766-41b7-fbf8-ffb8fbe1903e"
   },
   "outputs": [
    {
     "data": {
      "text/plain": [
       "<tf.Tensor: shape=(), dtype=string, numpy=b'bin blue with k seven please'>"
      ]
     },
     "execution_count": 65,
     "metadata": {},
     "output_type": "execute_result"
    }
   ],
   "source": [
    "tf.strings.reduce_join([bytes.decode(x) for x in num_to_char(alignments.numpy()).numpy()])"
   ]
  },
  {
   "cell_type": "markdown",
   "metadata": {
    "id": "3TA90gu1fz_Z"
   },
   "source": [
    "# Data Pipeline"
   ]
  },
  {
   "cell_type": "code",
   "execution_count": 66,
   "metadata": {
    "id": "OaeQv6x3f6Op"
   },
   "outputs": [
    {
     "name": "stdout",
     "output_type": "stream",
     "text": [
      "Found 999 video files\n",
      "Dataset file: ./s20vids/bbad3n.mpg\n",
      "Dataset file: ./s20vids/bbad4s.mpg\n",
      "Dataset file: ./s20vids/bbad5p.mpg\n",
      "Dataset file: ./s20vids/bbad6a.mpg\n",
      "Dataset file: ./s20vids/bbaj7n.mpg\n"
     ]
    }
   ],
   "source": [
    "def create_dataset_from_videos(directory):\n",
    "    # List all video files in the directory\n",
    "    video_files = glob.glob(os.path.join(directory, '*.mpg'))\n",
    "    \n",
    "    # Validate that video files are found\n",
    "    if not video_files:\n",
    "        raise FileNotFoundError(f\"No video files found in directory: {directory}\")\n",
    "    \n",
    "    # Convert file paths to Unix-style paths\n",
    "    video_files = [file.replace('\\\\', '/') for file in video_files]\n",
    "    \n",
    "    # Print the list of video files found\n",
    "    print(f\"Found {len(video_files)} video files\")\n",
    "    \n",
    "    # Create a TensorFlow dataset from the list of video files\n",
    "    dataset = tf.data.Dataset.from_tensor_slices(video_files)\n",
    "    \n",
    "    # Validate that the dataset is created correctly\n",
    "    for file in dataset.take(5):\n",
    "        print(f\"Dataset file: {file.numpy().decode('utf-8')}\")\n",
    "    \n",
    "    return dataset\n",
    "# Usage\n",
    "data = create_dataset_from_videos('./s20vids')\n",
    "data = data.shuffle(999, reshuffle_each_iteration=False)  # shuffle them\n",
    "data = data.map(mappable_function)   # use function to map them to TF format\n",
    "\n",
    " # setting data batches, 2 vids of 75 frames, 40 tokens\n",
    "data = data.padded_batch(2, padded_shapes=([75,None,None,None],[40]))\n",
    "data = data.prefetch(tf.data.AUTOTUNE)\n",
    "\n",
    "\n",
    " # split into training and test data\n",
    "train = data.take(300)\n",
    "test = data.skip(940)"
   ]
  },
  {
   "cell_type": "code",
   "execution_count": 67,
   "metadata": {
    "id": "yNEBPQpYkeWq"
   },
   "outputs": [],
   "source": [
    "frames, alignments = data.as_numpy_iterator().next()"
   ]
  },
  {
   "cell_type": "code",
   "execution_count": 68,
   "metadata": {
    "id": "fKlmu_F7klJ8"
   },
   "outputs": [],
   "source": [
    "test = data.as_numpy_iterator()"
   ]
  },
  {
   "cell_type": "code",
   "execution_count": 69,
   "metadata": {
    "colab": {
     "base_uri": "https://localhost:8080/"
    },
    "collapsed": true,
    "id": "mtj0N2UAlBqp",
    "outputId": "0f72a04d-03c4-4a94-bd20-4f04ab2ad3be"
   },
   "outputs": [
    {
     "data": {
      "text/plain": [
       "array([[[[[ 1.6146872 ],\n",
       "          [ 1.4925389 ],\n",
       "          [ 0.881797  ],\n",
       "          ...,\n",
       "          [-1.1641883 ],\n",
       "          [-1.2863367 ],\n",
       "          [-1.3168737 ]],\n",
       "\n",
       "         [[ 1.6146872 ],\n",
       "          [ 1.4925389 ],\n",
       "          [ 0.881797  ],\n",
       "          ...,\n",
       "          [-1.1641883 ],\n",
       "          [-1.2863367 ],\n",
       "          [-1.3168737 ]],\n",
       "\n",
       "         [[ 1.6146872 ],\n",
       "          [ 1.4925389 ],\n",
       "          [ 0.85125995],\n",
       "          ...,\n",
       "          [-1.1947254 ],\n",
       "          [-1.2863367 ],\n",
       "          [-1.3168737 ]],\n",
       "\n",
       "         ...,\n",
       "\n",
       "         [[ 0.17944387],\n",
       "          [ 0.17944387],\n",
       "          [ 0.33212933],\n",
       "          ...,\n",
       "          [-1.4695592 ],\n",
       "          [-1.5000963 ],\n",
       "          [-1.3779479 ]],\n",
       "\n",
       "         [[ 0.14890677],\n",
       "          [ 0.17944387],\n",
       "          [ 0.33212933],\n",
       "          ...,\n",
       "          [-1.5306333 ],\n",
       "          [-1.5000963 ],\n",
       "          [-1.3474108 ]],\n",
       "\n",
       "         [[ 0.11836968],\n",
       "          [ 0.14890677],\n",
       "          [ 0.30159223],\n",
       "          ...,\n",
       "          [-1.5306333 ],\n",
       "          [-1.4695592 ],\n",
       "          [-1.3168737 ]]],\n",
       "\n",
       "\n",
       "        [[[ 1.5841502 ],\n",
       "          [ 1.4314647 ],\n",
       "          [ 0.881797  ],\n",
       "          ...,\n",
       "          [-1.2557995 ],\n",
       "          [-1.3779479 ],\n",
       "          [-1.3779479 ]],\n",
       "\n",
       "         [[ 1.5841502 ],\n",
       "          [ 1.4314647 ],\n",
       "          [ 0.9428712 ],\n",
       "          ...,\n",
       "          [-1.1947254 ],\n",
       "          [-1.3779479 ],\n",
       "          [-1.3474108 ]],\n",
       "\n",
       "         [[ 1.5841502 ],\n",
       "          [ 1.4314647 ],\n",
       "          [ 0.9428712 ],\n",
       "          ...,\n",
       "          [-1.2557995 ],\n",
       "          [-1.3779479 ],\n",
       "          [-1.3474108 ]],\n",
       "\n",
       "         ...,\n",
       "\n",
       "         [[ 0.24051805],\n",
       "          [ 0.14890677],\n",
       "          [ 0.36266643],\n",
       "          ...,\n",
       "          [-1.4390221 ],\n",
       "          [-1.5306333 ],\n",
       "          [-1.4390221 ]],\n",
       "\n",
       "         [[ 0.20998096],\n",
       "          [ 0.24051805],\n",
       "          [ 0.36266643],\n",
       "          ...,\n",
       "          [-1.5000963 ],\n",
       "          [-1.5306333 ],\n",
       "          [-1.3474108 ]],\n",
       "\n",
       "         [[ 0.17944387],\n",
       "          [ 0.24051805],\n",
       "          [ 0.33212933],\n",
       "          ...,\n",
       "          [-1.5000963 ],\n",
       "          [-1.5000963 ],\n",
       "          [-1.2863367 ]]],\n",
       "\n",
       "\n",
       "        [[[ 1.5536131 ],\n",
       "          [ 1.3398534 ],\n",
       "          [ 0.881797  ],\n",
       "          ...,\n",
       "          [-1.2557995 ],\n",
       "          [-1.3474108 ],\n",
       "          [-1.3474108 ]],\n",
       "\n",
       "         [[ 1.5536131 ],\n",
       "          [ 1.3398534 ],\n",
       "          [ 0.9123341 ],\n",
       "          ...,\n",
       "          [-1.2252624 ],\n",
       "          [-1.3779479 ],\n",
       "          [-1.3474108 ]],\n",
       "\n",
       "         [[ 1.5536131 ],\n",
       "          [ 1.3398534 ],\n",
       "          [ 0.9123341 ],\n",
       "          ...,\n",
       "          [-1.2252624 ],\n",
       "          [-1.3779479 ],\n",
       "          [-1.3474108 ]],\n",
       "\n",
       "         ...,\n",
       "\n",
       "         [[ 0.20998096],\n",
       "          [ 0.14890677],\n",
       "          [ 0.4542777 ],\n",
       "          ...,\n",
       "          [-1.4695592 ],\n",
       "          [-1.5611705 ],\n",
       "          [-1.3474108 ]],\n",
       "\n",
       "         [[ 0.17944387],\n",
       "          [ 0.20998096],\n",
       "          [ 0.4542777 ],\n",
       "          ...,\n",
       "          [-1.5000963 ],\n",
       "          [-1.5611705 ],\n",
       "          [-1.3168737 ]],\n",
       "\n",
       "         [[ 0.14890677],\n",
       "          [ 0.20998096],\n",
       "          [ 0.33212933],\n",
       "          ...,\n",
       "          [-1.5000963 ],\n",
       "          [-1.5306333 ],\n",
       "          [-1.2557995 ]]],\n",
       "\n",
       "\n",
       "        ...,\n",
       "\n",
       "\n",
       "        [[[ 1.4314647 ],\n",
       "          [ 1.3703905 ],\n",
       "          [ 0.6375003 ],\n",
       "          ...,\n",
       "          [-1.408485  ],\n",
       "          [-1.3779479 ],\n",
       "          [-1.3168737 ]],\n",
       "\n",
       "         [[ 1.4314647 ],\n",
       "          [ 1.3703905 ],\n",
       "          [ 0.6375003 ],\n",
       "          ...,\n",
       "          [-1.408485  ],\n",
       "          [-1.3779479 ],\n",
       "          [-1.3168737 ]],\n",
       "\n",
       "         [[ 1.4009277 ],\n",
       "          [ 1.3093163 ],\n",
       "          [ 0.60696316],\n",
       "          ...,\n",
       "          [-1.408485  ],\n",
       "          [-1.3474108 ],\n",
       "          [-1.2863367 ]],\n",
       "\n",
       "         ...,\n",
       "\n",
       "         [[ 0.33212933],\n",
       "          [ 0.39320353],\n",
       "          [ 0.30159223],\n",
       "          ...,\n",
       "          [-1.3779479 ],\n",
       "          [-1.3168737 ],\n",
       "          [-1.3474108 ]],\n",
       "\n",
       "         [[ 0.27105513],\n",
       "          [ 0.36266643],\n",
       "          [ 0.27105513],\n",
       "          ...,\n",
       "          [-1.3474108 ],\n",
       "          [-1.2863367 ],\n",
       "          [-1.3474108 ]],\n",
       "\n",
       "         [[ 0.24051805],\n",
       "          [ 0.30159223],\n",
       "          [ 0.24051805],\n",
       "          ...,\n",
       "          [-1.3474108 ],\n",
       "          [-1.2863367 ],\n",
       "          [-1.3168737 ]]],\n",
       "\n",
       "\n",
       "        [[[ 1.3703905 ],\n",
       "          [ 1.2787793 ],\n",
       "          [ 0.60696316],\n",
       "          ...,\n",
       "          [-1.3779479 ],\n",
       "          [-1.3168737 ],\n",
       "          [-1.3474108 ]],\n",
       "\n",
       "         [[ 1.3703905 ],\n",
       "          [ 1.2787793 ],\n",
       "          [ 0.60696316],\n",
       "          ...,\n",
       "          [-1.3779479 ],\n",
       "          [-1.3474108 ],\n",
       "          [-1.3474108 ]],\n",
       "\n",
       "         [[ 1.2787793 ],\n",
       "          [ 1.2482421 ],\n",
       "          [ 0.5764261 ],\n",
       "          ...,\n",
       "          [-1.3779479 ],\n",
       "          [-1.3474108 ],\n",
       "          [-1.3168737 ]],\n",
       "\n",
       "         ...,\n",
       "\n",
       "         [[ 0.30159223],\n",
       "          [ 0.39320353],\n",
       "          [ 0.30159223],\n",
       "          ...,\n",
       "          [-1.3779479 ],\n",
       "          [-1.2863367 ],\n",
       "          [-1.3168737 ]],\n",
       "\n",
       "         [[ 0.24051805],\n",
       "          [ 0.36266643],\n",
       "          [ 0.27105513],\n",
       "          ...,\n",
       "          [-1.2557995 ],\n",
       "          [-1.2557995 ],\n",
       "          [-1.3168737 ]],\n",
       "\n",
       "         [[ 0.17944387],\n",
       "          [ 0.30159223],\n",
       "          [ 0.24051805],\n",
       "          ...,\n",
       "          [-1.2252624 ],\n",
       "          [-1.2557995 ],\n",
       "          [-1.2863367 ]]],\n",
       "\n",
       "\n",
       "        [[[ 1.3703905 ],\n",
       "          [ 1.2787793 ],\n",
       "          [ 0.5764261 ],\n",
       "          ...,\n",
       "          [-1.3168737 ],\n",
       "          [-1.3168737 ],\n",
       "          [-1.3168737 ]],\n",
       "\n",
       "         [[ 1.3703905 ],\n",
       "          [ 1.2787793 ],\n",
       "          [ 0.6375003 ],\n",
       "          ...,\n",
       "          [-1.3168737 ],\n",
       "          [-1.3474108 ],\n",
       "          [-1.2863367 ]],\n",
       "\n",
       "         [[ 1.2787793 ],\n",
       "          [ 1.2482421 ],\n",
       "          [ 0.66803735],\n",
       "          ...,\n",
       "          [-1.3474108 ],\n",
       "          [-1.3474108 ],\n",
       "          [-1.3168737 ]],\n",
       "\n",
       "         ...,\n",
       "\n",
       "         [[ 0.30159223],\n",
       "          [ 0.42374063],\n",
       "          [ 0.30159223],\n",
       "          ...,\n",
       "          [-1.3168737 ],\n",
       "          [-1.2557995 ],\n",
       "          [-1.3168737 ]],\n",
       "\n",
       "         [[ 0.27105513],\n",
       "          [ 0.42374063],\n",
       "          [ 0.27105513],\n",
       "          ...,\n",
       "          [-1.2252624 ],\n",
       "          [-1.2557995 ],\n",
       "          [-1.2863367 ]],\n",
       "\n",
       "         [[ 0.27105513],\n",
       "          [ 0.39320353],\n",
       "          [ 0.24051805],\n",
       "          ...,\n",
       "          [-1.1947254 ],\n",
       "          [-1.1947254 ],\n",
       "          [-1.2557995 ]]]],\n",
       "\n",
       "\n",
       "\n",
       "       [[[[ 1.2559924 ],\n",
       "          [ 1.2204653 ],\n",
       "          [ 1.1849383 ],\n",
       "          ...,\n",
       "          [-1.6217014 ],\n",
       "          [-1.5861744 ],\n",
       "          [-1.2664306 ]],\n",
       "\n",
       "         [[ 1.2559924 ],\n",
       "          [ 1.2204653 ],\n",
       "          [ 1.1494112 ],\n",
       "          ...,\n",
       "          [-1.6217014 ],\n",
       "          [-1.5861744 ],\n",
       "          [-1.2664306 ]],\n",
       "\n",
       "         [[ 1.2559924 ],\n",
       "          [ 1.2204653 ],\n",
       "          [ 1.1849383 ],\n",
       "          ...,\n",
       "          [-1.5151201 ],\n",
       "          [-1.5151201 ],\n",
       "          [-1.1598493 ]],\n",
       "\n",
       "         ...,\n",
       "\n",
       "         [[ 1.078357  ],\n",
       "          [ 1.078357  ],\n",
       "          [ 0.79414034],\n",
       "          ...,\n",
       "          [ 0.1546528 ],\n",
       "          [ 0.26123407],\n",
       "          [ 0.26123407]],\n",
       "\n",
       "         [[ 1.0428299 ],\n",
       "          [ 1.0073029 ],\n",
       "          [ 0.8651945 ],\n",
       "          ...,\n",
       "          [ 0.1546528 ],\n",
       "          [ 0.26123407],\n",
       "          [ 0.26123407]],\n",
       "\n",
       "         [[ 1.0073029 ],\n",
       "          [ 0.97177577],\n",
       "          [ 0.8651945 ],\n",
       "          ...,\n",
       "          [ 0.1546528 ],\n",
       "          [ 0.26123407],\n",
       "          [ 0.26123407]]],\n",
       "\n",
       "\n",
       "        [[[ 1.2204653 ],\n",
       "          [ 1.2559924 ],\n",
       "          [ 1.2204653 ],\n",
       "          ...,\n",
       "          [-1.7282827 ],\n",
       "          [-1.7282827 ],\n",
       "          [-1.444066  ]],\n",
       "\n",
       "         [[ 1.2204653 ],\n",
       "          [ 1.2559924 ],\n",
       "          [ 1.1494112 ],\n",
       "          ...,\n",
       "          [-1.7282827 ],\n",
       "          [-1.6927556 ],\n",
       "          [-1.4085389 ]],\n",
       "\n",
       "         [[ 1.2204653 ],\n",
       "          [ 1.2559924 ],\n",
       "          [ 1.1494112 ],\n",
       "          ...,\n",
       "          [-1.6572285 ],\n",
       "          [-1.5861744 ],\n",
       "          [-1.3019576 ]],\n",
       "\n",
       "         ...,\n",
       "\n",
       "         [[ 0.97177577],\n",
       "          [ 0.93624866],\n",
       "          [ 0.8296674 ],\n",
       "          ...,\n",
       "          [ 0.26123407],\n",
       "          [ 0.29676116],\n",
       "          [ 0.29676116]],\n",
       "\n",
       "         [[ 0.97177577],\n",
       "          [ 0.93624866],\n",
       "          [ 0.79414034],\n",
       "          ...,\n",
       "          [ 0.33228824],\n",
       "          [ 0.26123407],\n",
       "          [ 0.26123407]],\n",
       "\n",
       "         [[ 0.93624866],\n",
       "          [ 0.93624866],\n",
       "          [ 0.7586132 ],\n",
       "          ...,\n",
       "          [ 0.22570698],\n",
       "          [ 0.26123407],\n",
       "          [ 0.26123407]]],\n",
       "\n",
       "\n",
       "        [[[ 1.1849383 ],\n",
       "          [ 1.2204653 ],\n",
       "          [ 1.2915195 ],\n",
       "          ...,\n",
       "          [-1.6572285 ],\n",
       "          [-1.6927556 ],\n",
       "          [-1.479593  ]],\n",
       "\n",
       "         [[ 1.1849383 ],\n",
       "          [ 1.2204653 ],\n",
       "          [ 1.2559924 ],\n",
       "          ...,\n",
       "          [-1.6217014 ],\n",
       "          [-1.6927556 ],\n",
       "          [-1.4085389 ]],\n",
       "\n",
       "         [[ 1.1849383 ],\n",
       "          [ 1.2204653 ],\n",
       "          [ 1.2559924 ],\n",
       "          ...,\n",
       "          [-1.5506473 ],\n",
       "          [-1.5506473 ],\n",
       "          [-1.3374847 ]],\n",
       "\n",
       "         ...,\n",
       "\n",
       "         [[ 0.93624866],\n",
       "          [ 0.93624866],\n",
       "          [ 0.8296674 ],\n",
       "          ...,\n",
       "          [ 0.33228824],\n",
       "          [ 0.29676116],\n",
       "          [ 0.29676116]],\n",
       "\n",
       "         [[ 1.0073029 ],\n",
       "          [ 0.97177577],\n",
       "          [ 0.79414034],\n",
       "          ...,\n",
       "          [ 0.4033424 ],\n",
       "          [ 0.26123407],\n",
       "          [ 0.26123407]],\n",
       "\n",
       "         [[ 1.0073029 ],\n",
       "          [ 0.97177577],\n",
       "          [ 0.7586132 ],\n",
       "          ...,\n",
       "          [ 0.29676116],\n",
       "          [ 0.26123407],\n",
       "          [ 0.26123407]]],\n",
       "\n",
       "\n",
       "        ...,\n",
       "\n",
       "\n",
       "        [[[ 1.3625736 ],\n",
       "          [ 1.3270466 ],\n",
       "          [ 1.1849383 ],\n",
       "          ...,\n",
       "          [-1.9769722 ],\n",
       "          [-1.6572285 ],\n",
       "          [-1.6927556 ]],\n",
       "\n",
       "         [[ 1.3625736 ],\n",
       "          [ 1.3270466 ],\n",
       "          [ 1.2204653 ],\n",
       "          ...,\n",
       "          [-1.9059181 ],\n",
       "          [-1.6572285 ],\n",
       "          [-1.6927556 ]],\n",
       "\n",
       "         [[ 1.3625736 ],\n",
       "          [ 1.3270466 ],\n",
       "          [ 1.2559924 ],\n",
       "          ...,\n",
       "          [-1.6927556 ],\n",
       "          [-1.6217014 ],\n",
       "          [-1.6217014 ]],\n",
       "\n",
       "         ...,\n",
       "\n",
       "         [[ 1.0428299 ],\n",
       "          [ 1.0428299 ],\n",
       "          [ 0.9007216 ],\n",
       "          ...,\n",
       "          [ 0.11912572],\n",
       "          [ 0.26123407],\n",
       "          [ 0.26123407]],\n",
       "\n",
       "         [[ 1.078357  ],\n",
       "          [ 1.078357  ],\n",
       "          [ 0.93624866],\n",
       "          ...,\n",
       "          [ 0.22570698],\n",
       "          [ 0.26123407],\n",
       "          [ 0.26123407]],\n",
       "\n",
       "         [[ 1.0428299 ],\n",
       "          [ 1.0428299 ],\n",
       "          [ 0.9007216 ],\n",
       "          ...,\n",
       "          [ 0.1546528 ],\n",
       "          [ 0.26123407],\n",
       "          [ 0.26123407]]],\n",
       "\n",
       "\n",
       "        [[[ 1.3270466 ],\n",
       "          [ 1.2204653 ],\n",
       "          [ 1.3625736 ],\n",
       "          ...,\n",
       "          [-1.8348639 ],\n",
       "          [-1.5861744 ],\n",
       "          [-1.7638098 ]],\n",
       "\n",
       "         [[ 1.3270466 ],\n",
       "          [ 1.2204653 ],\n",
       "          [ 1.2559924 ],\n",
       "          ...,\n",
       "          [-1.7638098 ],\n",
       "          [-1.5861744 ],\n",
       "          [-1.6927556 ]],\n",
       "\n",
       "         [[ 1.3270466 ],\n",
       "          [ 1.2204653 ],\n",
       "          [ 1.2559924 ],\n",
       "          ...,\n",
       "          [-1.6217014 ],\n",
       "          [-1.5506473 ],\n",
       "          [-1.6572285 ]],\n",
       "\n",
       "         ...,\n",
       "\n",
       "         [[ 1.0073029 ],\n",
       "          [ 1.0428299 ],\n",
       "          [ 0.93624866],\n",
       "          ...,\n",
       "          [ 0.1546528 ],\n",
       "          [ 0.29676116],\n",
       "          [ 0.29676116]],\n",
       "\n",
       "         [[ 1.0428299 ],\n",
       "          [ 1.0428299 ],\n",
       "          [ 0.97177577],\n",
       "          ...,\n",
       "          [ 0.1901799 ],\n",
       "          [ 0.26123407],\n",
       "          [ 0.26123407]],\n",
       "\n",
       "         [[ 1.0428299 ],\n",
       "          [ 1.0073029 ],\n",
       "          [ 0.93624866],\n",
       "          ...,\n",
       "          [ 0.1546528 ],\n",
       "          [ 0.26123407],\n",
       "          [ 0.26123407]]],\n",
       "\n",
       "\n",
       "        [[[ 1.3270466 ],\n",
       "          [ 1.2559924 ],\n",
       "          [ 1.2559924 ],\n",
       "          ...,\n",
       "          [-1.8348639 ],\n",
       "          [-1.6217014 ],\n",
       "          [-1.7993368 ]],\n",
       "\n",
       "         [[ 1.3270466 ],\n",
       "          [ 1.2559924 ],\n",
       "          [ 1.2559924 ],\n",
       "          ...,\n",
       "          [-1.8348639 ],\n",
       "          [-1.5861744 ],\n",
       "          [-1.6927556 ]],\n",
       "\n",
       "         [[ 1.3270466 ],\n",
       "          [ 1.2559924 ],\n",
       "          [ 1.1849383 ],\n",
       "          ...,\n",
       "          [-1.6927556 ],\n",
       "          [-1.5506473 ],\n",
       "          [-1.6217014 ]],\n",
       "\n",
       "         ...,\n",
       "\n",
       "         [[ 0.97177577],\n",
       "          [ 1.0073029 ],\n",
       "          [ 0.9007216 ],\n",
       "          ...,\n",
       "          [ 0.1901799 ],\n",
       "          [ 0.33228824],\n",
       "          [ 0.33228824]],\n",
       "\n",
       "         [[ 1.0073029 ],\n",
       "          [ 1.0428299 ],\n",
       "          [ 0.97177577],\n",
       "          ...,\n",
       "          [ 0.26123407],\n",
       "          [ 0.29676116],\n",
       "          [ 0.29676116]],\n",
       "\n",
       "         [[ 1.0073029 ],\n",
       "          [ 1.0073029 ],\n",
       "          [ 0.93624866],\n",
       "          ...,\n",
       "          [ 0.1546528 ],\n",
       "          [ 0.29676116],\n",
       "          [ 0.29676116]]]]], dtype=float32)"
      ]
     },
     "execution_count": 69,
     "metadata": {},
     "output_type": "execute_result"
    }
   ],
   "source": [
    "val = test.next(); val[0]"
   ]
  },
  {
   "cell_type": "markdown",
   "metadata": {
    "id": "Gxm2wxwanY4H"
   },
   "source": [
    "Visualisation of video"
   ]
  },
  {
   "cell_type": "code",
   "execution_count": 70,
   "metadata": {
    "colab": {
     "base_uri": "https://localhost:8080/"
    },
    "id": "wbxZlW6ump8v",
    "outputId": "f0454186-46f3-4df2-fde8-f4163b8eb0c1"
   },
   "outputs": [
    {
     "data": {
      "text/plain": [
       "<matplotlib.image.AxesImage at 0x23b9a05b460>"
      ]
     },
     "execution_count": 70,
     "metadata": {},
     "output_type": "execute_result"
    },
    {
     "data": {
      "image/png": "[encoded data removed]",
      "text/plain": [
       "<Figure size 640x480 with 1 Axes>"
      ]
     },
     "metadata": {},
     "output_type": "display_data"
    }
   ],
   "source": [
    "plt.imshow(val[0][0][61])  # 0 for frames not alignments, 0 for video one of two, 6 for frame 6"
   ]
  },
  {
   "cell_type": "markdown",
   "metadata": {
    "id": "Y5mrKdDXndq4"
   },
   "source": [
    "Transcript of video"
   ]
  },
  {
   "cell_type": "code",
   "execution_count": 71,
   "metadata": {
    "colab": {
     "base_uri": "https://localhost:8080/"
    },
    "id": "OoFaPUJsnXSl",
    "outputId": "7da69ced-6fff-49ed-c023-d312e32a313f"
   },
   "outputs": [
    {
     "data": {
      "text/plain": [
       "<tf.Tensor: shape=(), dtype=string, numpy=b'lay blue in u six soon'>"
      ]
     },
     "execution_count": 71,
     "metadata": {},
     "output_type": "execute_result"
    }
   ],
   "source": [
    "tf.strings.reduce_join([num_to_char(word) for word in val[1][0]])"
   ]
  },
  {
   "cell_type": "markdown",
   "metadata": {
    "id": "CBSXuSuLnl1H"
   },
   "source": [
    "# Deep Learning"
   ]
  },
  {
   "cell_type": "markdown",
   "metadata": {
    "id": "e9xhKQOwsLE_"
   },
   "source": [
    "##Building the NN"
   ]
  },
  {
   "cell_type": "code",
   "execution_count": 72,
   "metadata": {
    "colab": {
     "base_uri": "https://localhost:8080/"
    },
    "id": "nO55HqhnKbEl",
    "outputId": "f659aed8-ad0d-48c8-b834-75994d814673"
   },
   "outputs": [
    {
     "name": "stdout",
     "output_type": "stream",
     "text": [
      "After First Conv3D: (None, 75, 23, 70, 128)\n",
      "After Second Conv3D: (None, 75, 11, 35, 256)\n",
      "After Third Conv3D: (None, 75, 5, 17, 75)\n",
      "After TimeDistributed Flatten: (None, 75, 6375)\n",
      "After First Bidirectional LSTM: (None, 75, 256)\n",
      "After Second Bidirectional LSTM: (None, 75, 256)\n",
      "After Dense Layer: (None, 75, 41)\n"
     ]
    }
   ],
   "source": [
    "\n",
    "model = Sequential()\n",
    "\n",
    "# First Conv3D Layer\n",
    "model.add(Conv3D(128, 3, input_shape=(75, 46, 140, 1), padding='same'))\n",
    "model.add(Activation('relu'))\n",
    "model.add(MaxPool3D((1, 2, 2)))\n",
    "print(f\"After First Conv3D: {model.output_shape}\")\n",
    "\n",
    "# Second Conv3D Layer\n",
    "model.add(Conv3D(256, 3, padding='same'))\n",
    "model.add(Activation('relu'))\n",
    "model.add(MaxPool3D((1, 2, 2)))\n",
    "print(f\"After Second Conv3D: {model.output_shape}\")\n",
    "\n",
    "# Third Conv3D Layer\n",
    "model.add(Conv3D(75, 3, padding='same'))\n",
    "model.add(Activation('relu'))\n",
    "model.add(MaxPool3D((1, 2, 2)))\n",
    "print(f\"After Third Conv3D: {model.output_shape}\")\n",
    "\n",
    "# TimeDistributed Flatten Layer\n",
    "model.add(TimeDistributed(Flatten()))\n",
    "print(f\"After TimeDistributed Flatten: {model.output_shape}\")\n",
    "\n",
    "# First Bidirectional LSTM Layer\n",
    "model.add(Bidirectional(LSTM(128, kernel_initializer=Orthogonal(), return_sequences=True)))\n",
    "print(f\"After First Bidirectional LSTM: {model.output_shape}\")\n",
    "model.add(Dropout(.5))\n",
    "\n",
    "# Second Bidirectional LSTM Layer\n",
    "model.add(Bidirectional(LSTM(128, kernel_initializer= Orthogonal(), return_sequences=True)))\n",
    "print(f\"After Second Bidirectional LSTM: {model.output_shape}\")\n",
    "model.add(Dropout(.5))\n",
    "\n",
    "# Dense Layer\n",
    "model.add(Dense(char_to_num.vocabulary_size() + 1, kernel_initializer='he_normal', activation='softmax'))\n",
    "print(f\"After Dense Layer: {model.output_shape}\")\n"
   ]
  },
  {
   "cell_type": "code",
   "execution_count": 73,
   "metadata": {
    "colab": {
     "base_uri": "https://localhost:8080/"
    },
    "collapsed": true,
    "id": "BCHNjII6pVIv",
    "outputId": "ee863137-1a3c-4d90-f6da-c52f119a8715"
   },
   "outputs": [
    {
     "name": "stdout",
     "output_type": "stream",
     "text": [
      "Model: \"sequential_1\"\n",
      "_________________________________________________________________\n",
      " Layer (type)                Output Shape              Param #   \n",
      "=================================================================\n",
      " conv3d_3 (Conv3D)           (None, 75, 46, 140, 128)  3584      \n",
      "                                                                 \n",
      " activation_3 (Activation)   (None, 75, 46, 140, 128)  0         \n",
      "                                                                 \n",
      " max_pooling3d_3 (MaxPooling  (None, 75, 23, 70, 128)  0         \n",
      " 3D)                                                             \n",
      "                                                                 \n",
      " conv3d_4 (Conv3D)           (None, 75, 23, 70, 256)   884992    \n",
      "                                                                 \n",
      " activation_4 (Activation)   (None, 75, 23, 70, 256)   0         \n",
      "                                                                 \n",
      " max_pooling3d_4 (MaxPooling  (None, 75, 11, 35, 256)  0         \n",
      " 3D)                                                             \n",
      "                                                                 \n",
      " conv3d_5 (Conv3D)           (None, 75, 11, 35, 75)    518475    \n",
      "                                                                 \n",
      " activation_5 (Activation)   (None, 75, 11, 35, 75)    0         \n",
      "                                                                 \n",
      " max_pooling3d_5 (MaxPooling  (None, 75, 5, 17, 75)    0         \n",
      " 3D)                                                             \n",
      "                                                                 \n",
      " time_distributed_1 (TimeDis  (None, 75, 6375)         0         \n",
      " tributed)                                                       \n",
      "                                                                 \n",
      " bidirectional_2 (Bidirectio  (None, 75, 256)          6660096   \n",
      " nal)                                                            \n",
      "                                                                 \n",
      " dropout_2 (Dropout)         (None, 75, 256)           0         \n",
      "                                                                 \n",
      " bidirectional_3 (Bidirectio  (None, 75, 256)          394240    \n",
      " nal)                                                            \n",
      "                                                                 \n",
      " dropout_3 (Dropout)         (None, 75, 256)           0         \n",
      "                                                                 \n",
      " dense_1 (Dense)             (None, 75, 41)            10537     \n",
      "                                                                 \n",
      "=================================================================\n",
      "Total params: 8,471,924\n",
      "Trainable params: 8,471,924\n",
      "Non-trainable params: 0\n",
      "_________________________________________________________________\n"
     ]
    }
   ],
   "source": [
    "model.summary()\n"
   ]
  },
  {
   "cell_type": "markdown",
   "metadata": {
    "id": "Ks6dgB8fsWHZ"
   },
   "source": [
    "###Untrained prediction"
   ]
  },
  {
   "cell_type": "code",
   "execution_count": 74,
   "metadata": {
    "colab": {
     "base_uri": "https://localhost:8080/"
    },
    "id": "Hp4JsDbUopAt",
    "outputId": "4c1fe145-b5e5-4a29-fc25-141a228264d7"
   },
   "outputs": [
    {
     "name": "stdout",
     "output_type": "stream",
     "text": [
      "1/1 [==============================] - 2s 2s/step\n"
     ]
    }
   ],
   "source": [
    "yhat = model.predict(val[0])"
   ]
  },
  {
   "cell_type": "code",
   "execution_count": 75,
   "metadata": {
    "colab": {
     "base_uri": "https://localhost:8080/"
    },
    "id": "WEjUaysao1Az",
    "outputId": "5e2435e1-6db8-47f4-9c67-cb3992964f8a"
   },
   "outputs": [
    {
     "data": {
      "text/plain": [
       "<tf.Tensor: shape=(), dtype=string, numpy=b'hvvvvvvvv888888888888888888888888888888888vvvvvvvvnnnnnnnnnnnnnnnnnnnnnnnnn'>"
      ]
     },
     "execution_count": 75,
     "metadata": {},
     "output_type": "execute_result"
    }
   ],
   "source": [
    "tf.strings.reduce_join([num_to_char(tf.argmax(x)) for x in yhat[0]])"
   ]
  },
  {
   "cell_type": "markdown",
   "metadata": {
    "id": "seddKs8NsaBn"
   },
   "source": [
    "As you can see, not a very succesful prediction"
   ]
  },
  {
   "cell_type": "markdown",
   "metadata": {
    "id": "Xao8vvYVuZd5"
   },
   "source": [
    "###Learning Rate and Loss Function"
   ]
  },
  {
   "cell_type": "code",
   "execution_count": 76,
   "metadata": {
    "id": "KTMjrHMkvM6u"
   },
   "outputs": [],
   "source": [
    "def scheduler(epoch, lr):\n",
    "    if epoch < 15:\n",
    "        return lr\n",
    "    else:\n",
    "        return lr * tf.math.exp(-0.1)"
   ]
  },
  {
   "cell_type": "code",
   "execution_count": 77,
   "metadata": {
    "id": "KeunCWVawGUK"
   },
   "outputs": [],
   "source": [
    "def CTCLoss(y_true, y_pred):\n",
    "    batch_len = tf.cast(tf.shape(y_true)[0], dtype=\"int64\")\n",
    "    input_length = tf.cast(tf.shape(y_pred)[1], dtype=\"int64\")\n",
    "    label_length = tf.cast(tf.shape(y_true)[1], dtype=\"int64\")\n",
    "\n",
    "    input_length = input_length * tf.ones(shape=(batch_len, 1), dtype=\"int64\")\n",
    "    label_length = label_length * tf.ones(shape=(batch_len, 1), dtype=\"int64\")\n",
    "\n",
    "    loss = tf.keras.backend.ctc_batch_cost(y_true, y_pred, input_length, label_length)\n",
    "    return loss"
   ]
  },
  {
   "cell_type": "code",
   "execution_count": 78,
   "metadata": {
    "id": "1Jo0GezSxgXc"
   },
   "outputs": [],
   "source": [
    "class ProduceExample(tf.keras.callbacks.Callback):\n",
    "    def __init__(self, dataset) -> None:\n",
    "        self.dataset = dataset.as_numpy_iterator()\n",
    "\n",
    "    def on_epoch_end(self, epoch, logs=None) -> None:\n",
    "        data = self.dataset.next()\n",
    "        yhat = self.model.predict(data[0])\n",
    "        decoded = tf.keras.backend.ctc_decode(yhat, [75,75], greedy=False)[0][0].numpy()\n",
    "        for x in range(len(yhat)):\n",
    "            print('Original:', tf.strings.reduce_join(num_to_char(data[1][x])).numpy().decode('utf-8'))\n",
    "            print('Prediction:', tf.strings.reduce_join(num_to_char(decoded[x])).numpy().decode('utf-8'))\n",
    "            print('~'*100)"
   ]
  },
  {
   "cell_type": "code",
   "execution_count": 79,
   "metadata": {
    "id": "0XRDX-Pwx6L1"
   },
   "outputs": [],
   "source": [
    "model.compile(optimizer=Adam(learning_rate=0.01), loss=CTCLoss)"
   ]
  },
  {
   "cell_type": "code",
   "execution_count": 80,
   "metadata": {
    "id": "clro-Wvp3H-5"
   },
   "outputs": [],
   "source": [
    "schedule_callback = LearningRateScheduler(scheduler)"
   ]
  },
  {
   "cell_type": "code",
   "execution_count": 81,
   "metadata": {},
   "outputs": [
    {
     "name": "stdout",
     "output_type": "stream",
     "text": [
      "Predictions (y_pred): [[[0.02467931 0.02435397 0.02414464 ... 0.02510434 0.02469499 0.02396649]\n",
      "  [0.02439123 0.02440335 0.02400845 ... 0.02529639 0.02459585 0.02399147]\n",
      "  [0.02413102 0.02447378 0.02387058 ... 0.02550313 0.0244965  0.02402019]\n",
      "  ...\n",
      "  [0.02265105 0.0240829  0.02342936 ... 0.02583648 0.02396933 0.02371926]\n",
      "  [0.02278348 0.02402114 0.0235079  ... 0.02561075 0.0239835  0.02380319]\n",
      "  [0.02300186 0.02393393 0.02357778 ... 0.0253785  0.02406007 0.02383433]]\n",
      "\n",
      " [[0.02481556 0.02408068 0.02374182 ... 0.0253479  0.02495728 0.02389795]\n",
      "  [0.024692   0.02418381 0.02361425 ... 0.02561785 0.02490691 0.02411662]\n",
      "  [0.02454705 0.0242548  0.02351696 ... 0.02585116 0.02483736 0.02433047]\n",
      "  ...\n",
      "  [0.02305362 0.02371968 0.02367161 ... 0.02646243 0.02502636 0.02401205]\n",
      "  [0.02308719 0.02375403 0.02382126 ... 0.02609038 0.02495541 0.02407641]\n",
      "  [0.02324656 0.02374974 0.02391729 ... 0.02566056 0.024886   0.02405657]]]\n",
      "Softmax sum along the last axis (should be 1): [[1.         1.         0.99999994 1.         1.0000001  1.\n",
      "  1.         0.9999999  1.0000001  1.         1.         1.\n",
      "  0.9999999  0.99999994 1.         1.0000001  1.         0.99999994\n",
      "  1.         1.0000001  1.         0.9999999  1.0000001  0.9999998\n",
      "  1.         1.0000001  0.99999994 0.99999994 1.0000001  0.9999999\n",
      "  1.         1.         1.         0.99999994 0.99999994 1.\n",
      "  1.0000001  1.         0.9999999  1.0000001  1.         1.\n",
      "  1.0000001  0.99999994 0.9999999  1.0000001  1.0000001  1.\n",
      "  0.99999994 1.0000001  0.99999994 1.0000001  0.99999994 0.9999999\n",
      "  1.         1.         1.         0.9999999  1.0000001  1.0000001\n",
      "  1.         1.0000001  1.0000001  1.         1.         1.\n",
      "  1.         1.         1.0000001  1.         1.         0.99999994\n",
      "  0.99999994 0.99999994 0.9999999 ]\n",
      " [0.99999994 0.9999999  1.         1.         1.         1.\n",
      "  1.         1.         1.0000001  0.9999998  1.         1.\n",
      "  1.         0.99999994 1.0000001  1.         1.0000001  1.0000001\n",
      "  1.         0.99999994 1.         1.0000001  1.         1.\n",
      "  1.         1.         1.         1.         1.         0.99999994\n",
      "  1.         0.99999994 1.0000001  1.0000001  1.         1.0000001\n",
      "  1.         0.99999994 0.9999999  0.99999994 1.         1.\n",
      "  1.         1.         1.         1.0000001  1.         0.99999994\n",
      "  0.99999994 1.         1.         0.9999999  0.99999994 0.9999999\n",
      "  1.         1.         0.99999994 1.0000001  0.99999994 1.\n",
      "  0.9999999  1.         1.         1.         0.99999994 0.99999994\n",
      "  1.         0.99999994 1.         0.99999994 0.99999994 1.\n",
      "  0.99999994 1.0000001  0.99999994]]\n",
      "No zero probabilities found in y_pred.\n",
      "Batch length: 2\n",
      "Input length (should match y_pred time steps): 75\n",
      "Label length (should match label sequence lengths): 40\n",
      "All label lengths are valid.\n",
      "Loss value for batch: [[238.70264]\n",
      " [232.81294]]\n"
     ]
    }
   ],
   "source": [
    "for batch in train.take(1):  # Take a single batch for debugging\n",
    "    x_input, y_true = batch\n",
    "    y_pred = model(x_input, training=False)\n",
    "    print(\"Predictions (y_pred):\", y_pred.numpy())  # Inspect predictions\n",
    "\n",
    "    # Check if y_pred sums to 1 along the last axis (softmax verification)\n",
    "    softmax_check = tf.reduce_sum(y_pred, axis=-1)\n",
    "    print(\"Softmax sum along the last axis (should be 1):\", softmax_check.numpy())\n",
    "    \n",
    "    # Check for zero probabilities in y_pred\n",
    "    zero_probs = tf.reduce_any(y_pred == 0, axis=-1)\n",
    "    if tf.reduce_any(zero_probs):\n",
    "        print(\"Found zero probabilities in y_pred!\")\n",
    "    else:\n",
    "        print(\"No zero probabilities found in y_pred.\")\n",
    "\n",
    "    # Debugging CTCLoss inputs\n",
    "    batch_len = tf.cast(tf.shape(y_true)[0], dtype=\"int64\")  # Batch size\n",
    "    input_length = tf.cast(tf.shape(y_pred)[1], dtype=\"int64\")  # Time steps of y_pred\n",
    "    label_length = tf.cast(tf.shape(y_true)[1], dtype=\"int64\")  # True label sequence length\n",
    "\n",
    "    print(\"Batch length:\", batch_len.numpy())\n",
    "    print(\"Input length (should match y_pred time steps):\", input_length.numpy())\n",
    "    print(\"Label length (should match label sequence lengths):\", label_length.numpy())\n",
    "\n",
    "    # Check if label_length <= input_length for all samples\n",
    "    if tf.reduce_any(label_length > input_length):\n",
    "        print(\"Error: Found label_length > input_length!\")\n",
    "    else:\n",
    "        print(\"All label lengths are valid.\")\n",
    "\n",
    "    # Compute the loss value for the batch\n",
    "    loss_value = CTCLoss(y_true, y_pred)\n",
    "    print(\"Loss value for batch:\", loss_value.numpy())"
   ]
  },
  {
   "cell_type": "code",
   "execution_count": 82,
   "metadata": {
    "id": "DF71RUoy3Qtx"
   },
   "outputs": [],
   "source": [
    "example_callback = ProduceExample(train)"
   ]
  },
  {
   "cell_type": "code",
   "execution_count": 83,
   "metadata": {},
   "outputs": [],
   "source": [
    "checkpoint_callback = ModelCheckpoint(os.path.join('models','checkpoint'), monitor='loss', save_weights_only=True) "
   ]
  },
  {
   "cell_type": "code",
   "execution_count": 84,
   "metadata": {
    "colab": {
     "base_uri": "https://localhost:8080/",
     "height": 321
    },
    "id": "VrlOoAfI3V4L",
    "outputId": "1adae8f6-7a22-4612-b9b0-49843cf83744"
   },
   "outputs": [
    {
     "name": "stdout",
     "output_type": "stream",
     "text": [
      "Epoch 1/5\n"
     ]
    },
    {
     "name": "stdout",
     "output_type": "stream",
     "text": [
      "  6/300 [..............................] - ETA: 2:03:11 - loss: 148.1499"
     ]
    },
    {
     "ename": "KeyboardInterrupt",
     "evalue": "",
     "output_type": "error",
     "traceback": [
      "\u001b[1;31m---------------------------------------------------------------------------\u001b[0m",
      "\u001b[1;31mKeyboardInterrupt\u001b[0m                         Traceback (most recent call last)",
      "Cell \u001b[1;32mIn[84], line 1\u001b[0m\n\u001b[1;32m----> 1\u001b[0m \u001b[43mmodel\u001b[49m\u001b[38;5;241;43m.\u001b[39;49m\u001b[43mfit\u001b[49m\u001b[43m(\u001b[49m\u001b[43mtrain\u001b[49m\u001b[43m,\u001b[49m\u001b[43m \u001b[49m\u001b[43mvalidation_data\u001b[49m\u001b[38;5;241;43m=\u001b[39;49m\u001b[43mtest\u001b[49m\u001b[43m,\u001b[49m\u001b[43m \u001b[49m\u001b[43mepochs\u001b[49m\u001b[43m \u001b[49m\u001b[38;5;241;43m=\u001b[39;49m\u001b[43m \u001b[49m\u001b[38;5;241;43m5\u001b[39;49m\u001b[43m,\u001b[49m\u001b[43m \u001b[49m\u001b[43mcallbacks\u001b[49m\u001b[38;5;241;43m=\u001b[39;49m\u001b[43m[\u001b[49m\u001b[43mcheckpoint_callback\u001b[49m\u001b[43m,\u001b[49m\u001b[43m \u001b[49m\u001b[43mschedule_callback\u001b[49m\u001b[43m,\u001b[49m\u001b[43m \u001b[49m\u001b[43mexample_callback\u001b[49m\u001b[43m]\u001b[49m\u001b[43m)\u001b[49m\n",
      "File \u001b[1;32mc:\\Users\\notal\\miniconda3\\envs\\lipsta\\lib\\site-packages\\keras\\utils\\traceback_utils.py:65\u001b[0m, in \u001b[0;36mfilter_traceback.<locals>.error_handler\u001b[1;34m(*args, **kwargs)\u001b[0m\n\u001b[0;32m     63\u001b[0m filtered_tb \u001b[38;5;241m=\u001b[39m \u001b[38;5;28;01mNone\u001b[39;00m\n\u001b[0;32m     64\u001b[0m \u001b[38;5;28;01mtry\u001b[39;00m:\n\u001b[1;32m---> 65\u001b[0m     \u001b[38;5;28;01mreturn\u001b[39;00m fn(\u001b[38;5;241m*\u001b[39margs, \u001b[38;5;241m*\u001b[39m\u001b[38;5;241m*\u001b[39mkwargs)\n\u001b[0;32m     66\u001b[0m \u001b[38;5;28;01mexcept\u001b[39;00m \u001b[38;5;167;01mException\u001b[39;00m \u001b[38;5;28;01mas\u001b[39;00m e:\n\u001b[0;32m     67\u001b[0m     filtered_tb \u001b[38;5;241m=\u001b[39m _process_traceback_frames(e\u001b[38;5;241m.\u001b[39m__traceback__)\n",
      "File \u001b[1;32mc:\\Users\\notal\\miniconda3\\envs\\lipsta\\lib\\site-packages\\keras\\engine\\training.py:1564\u001b[0m, in \u001b[0;36mModel.fit\u001b[1;34m(self, x, y, batch_size, epochs, verbose, callbacks, validation_split, validation_data, shuffle, class_weight, sample_weight, initial_epoch, steps_per_epoch, validation_steps, validation_batch_size, validation_freq, max_queue_size, workers, use_multiprocessing)\u001b[0m\n\u001b[0;32m   1556\u001b[0m \u001b[38;5;28;01mwith\u001b[39;00m tf\u001b[38;5;241m.\u001b[39mprofiler\u001b[38;5;241m.\u001b[39mexperimental\u001b[38;5;241m.\u001b[39mTrace(\n\u001b[0;32m   1557\u001b[0m     \u001b[38;5;124m\"\u001b[39m\u001b[38;5;124mtrain\u001b[39m\u001b[38;5;124m\"\u001b[39m,\n\u001b[0;32m   1558\u001b[0m     epoch_num\u001b[38;5;241m=\u001b[39mepoch,\n\u001b[1;32m   (...)\u001b[0m\n\u001b[0;32m   1561\u001b[0m     _r\u001b[38;5;241m=\u001b[39m\u001b[38;5;241m1\u001b[39m,\n\u001b[0;32m   1562\u001b[0m ):\n\u001b[0;32m   1563\u001b[0m     callbacks\u001b[38;5;241m.\u001b[39mon_train_batch_begin(step)\n\u001b[1;32m-> 1564\u001b[0m     tmp_logs \u001b[38;5;241m=\u001b[39m \u001b[38;5;28;43mself\u001b[39;49m\u001b[38;5;241;43m.\u001b[39;49m\u001b[43mtrain_function\u001b[49m\u001b[43m(\u001b[49m\u001b[43miterator\u001b[49m\u001b[43m)\u001b[49m\n\u001b[0;32m   1565\u001b[0m     \u001b[38;5;28;01mif\u001b[39;00m data_handler\u001b[38;5;241m.\u001b[39mshould_sync:\n\u001b[0;32m   1566\u001b[0m         context\u001b[38;5;241m.\u001b[39masync_wait()\n",
      "File \u001b[1;32mc:\\Users\\notal\\miniconda3\\envs\\lipsta\\lib\\site-packages\\tensorflow\\python\\util\\traceback_utils.py:150\u001b[0m, in \u001b[0;36mfilter_traceback.<locals>.error_handler\u001b[1;34m(*args, **kwargs)\u001b[0m\n\u001b[0;32m    148\u001b[0m filtered_tb \u001b[38;5;241m=\u001b[39m \u001b[38;5;28;01mNone\u001b[39;00m\n\u001b[0;32m    149\u001b[0m \u001b[38;5;28;01mtry\u001b[39;00m:\n\u001b[1;32m--> 150\u001b[0m   \u001b[38;5;28;01mreturn\u001b[39;00m fn(\u001b[38;5;241m*\u001b[39margs, \u001b[38;5;241m*\u001b[39m\u001b[38;5;241m*\u001b[39mkwargs)\n\u001b[0;32m    151\u001b[0m \u001b[38;5;28;01mexcept\u001b[39;00m \u001b[38;5;167;01mException\u001b[39;00m \u001b[38;5;28;01mas\u001b[39;00m e:\n\u001b[0;32m    152\u001b[0m   filtered_tb \u001b[38;5;241m=\u001b[39m _process_traceback_frames(e\u001b[38;5;241m.\u001b[39m__traceback__)\n",
      "File \u001b[1;32mc:\\Users\\notal\\miniconda3\\envs\\lipsta\\lib\\site-packages\\tensorflow\\python\\eager\\def_function.py:915\u001b[0m, in \u001b[0;36mFunction.__call__\u001b[1;34m(self, *args, **kwds)\u001b[0m\n\u001b[0;32m    912\u001b[0m compiler \u001b[38;5;241m=\u001b[39m \u001b[38;5;124m\"\u001b[39m\u001b[38;5;124mxla\u001b[39m\u001b[38;5;124m\"\u001b[39m \u001b[38;5;28;01mif\u001b[39;00m \u001b[38;5;28mself\u001b[39m\u001b[38;5;241m.\u001b[39m_jit_compile \u001b[38;5;28;01melse\u001b[39;00m \u001b[38;5;124m\"\u001b[39m\u001b[38;5;124mnonXla\u001b[39m\u001b[38;5;124m\"\u001b[39m\n\u001b[0;32m    914\u001b[0m \u001b[38;5;28;01mwith\u001b[39;00m OptionalXlaContext(\u001b[38;5;28mself\u001b[39m\u001b[38;5;241m.\u001b[39m_jit_compile):\n\u001b[1;32m--> 915\u001b[0m   result \u001b[38;5;241m=\u001b[39m \u001b[38;5;28mself\u001b[39m\u001b[38;5;241m.\u001b[39m_call(\u001b[38;5;241m*\u001b[39margs, \u001b[38;5;241m*\u001b[39m\u001b[38;5;241m*\u001b[39mkwds)\n\u001b[0;32m    917\u001b[0m new_tracing_count \u001b[38;5;241m=\u001b[39m \u001b[38;5;28mself\u001b[39m\u001b[38;5;241m.\u001b[39mexperimental_get_tracing_count()\n\u001b[0;32m    918\u001b[0m without_tracing \u001b[38;5;241m=\u001b[39m (tracing_count \u001b[38;5;241m==\u001b[39m new_tracing_count)\n",
      "File \u001b[1;32mc:\\Users\\notal\\miniconda3\\envs\\lipsta\\lib\\site-packages\\tensorflow\\python\\eager\\def_function.py:947\u001b[0m, in \u001b[0;36mFunction._call\u001b[1;34m(self, *args, **kwds)\u001b[0m\n\u001b[0;32m    944\u001b[0m   \u001b[38;5;28mself\u001b[39m\u001b[38;5;241m.\u001b[39m_lock\u001b[38;5;241m.\u001b[39mrelease()\n\u001b[0;32m    945\u001b[0m   \u001b[38;5;66;03m# In this case we have created variables on the first call, so we run the\u001b[39;00m\n\u001b[0;32m    946\u001b[0m   \u001b[38;5;66;03m# defunned version which is guaranteed to never create variables.\u001b[39;00m\n\u001b[1;32m--> 947\u001b[0m   \u001b[38;5;28;01mreturn\u001b[39;00m \u001b[38;5;28mself\u001b[39m\u001b[38;5;241m.\u001b[39m_stateless_fn(\u001b[38;5;241m*\u001b[39margs, \u001b[38;5;241m*\u001b[39m\u001b[38;5;241m*\u001b[39mkwds)  \u001b[38;5;66;03m# pylint: disable=not-callable\u001b[39;00m\n\u001b[0;32m    948\u001b[0m \u001b[38;5;28;01melif\u001b[39;00m \u001b[38;5;28mself\u001b[39m\u001b[38;5;241m.\u001b[39m_stateful_fn \u001b[38;5;129;01mis\u001b[39;00m \u001b[38;5;129;01mnot\u001b[39;00m \u001b[38;5;28;01mNone\u001b[39;00m:\n\u001b[0;32m    949\u001b[0m   \u001b[38;5;66;03m# Release the lock early so that multiple threads can perform the call\u001b[39;00m\n\u001b[0;32m    950\u001b[0m   \u001b[38;5;66;03m# in parallel.\u001b[39;00m\n\u001b[0;32m    951\u001b[0m   \u001b[38;5;28mself\u001b[39m\u001b[38;5;241m.\u001b[39m_lock\u001b[38;5;241m.\u001b[39mrelease()\n",
      "File \u001b[1;32mc:\\Users\\notal\\miniconda3\\envs\\lipsta\\lib\\site-packages\\tensorflow\\python\\eager\\function.py:2496\u001b[0m, in \u001b[0;36mFunction.__call__\u001b[1;34m(self, *args, **kwargs)\u001b[0m\n\u001b[0;32m   2493\u001b[0m \u001b[38;5;28;01mwith\u001b[39;00m \u001b[38;5;28mself\u001b[39m\u001b[38;5;241m.\u001b[39m_lock:\n\u001b[0;32m   2494\u001b[0m   (graph_function,\n\u001b[0;32m   2495\u001b[0m    filtered_flat_args) \u001b[38;5;241m=\u001b[39m \u001b[38;5;28mself\u001b[39m\u001b[38;5;241m.\u001b[39m_maybe_define_function(args, kwargs)\n\u001b[1;32m-> 2496\u001b[0m \u001b[38;5;28;01mreturn\u001b[39;00m \u001b[43mgraph_function\u001b[49m\u001b[38;5;241;43m.\u001b[39;49m\u001b[43m_call_flat\u001b[49m\u001b[43m(\u001b[49m\n\u001b[0;32m   2497\u001b[0m \u001b[43m    \u001b[49m\u001b[43mfiltered_flat_args\u001b[49m\u001b[43m,\u001b[49m\u001b[43m \u001b[49m\u001b[43mcaptured_inputs\u001b[49m\u001b[38;5;241;43m=\u001b[39;49m\u001b[43mgraph_function\u001b[49m\u001b[38;5;241;43m.\u001b[39;49m\u001b[43mcaptured_inputs\u001b[49m\u001b[43m)\u001b[49m\n",
      "File \u001b[1;32mc:\\Users\\notal\\miniconda3\\envs\\lipsta\\lib\\site-packages\\tensorflow\\python\\eager\\function.py:1862\u001b[0m, in \u001b[0;36mConcreteFunction._call_flat\u001b[1;34m(self, args, captured_inputs, cancellation_manager)\u001b[0m\n\u001b[0;32m   1858\u001b[0m possible_gradient_type \u001b[38;5;241m=\u001b[39m gradients_util\u001b[38;5;241m.\u001b[39mPossibleTapeGradientTypes(args)\n\u001b[0;32m   1859\u001b[0m \u001b[38;5;28;01mif\u001b[39;00m (possible_gradient_type \u001b[38;5;241m==\u001b[39m gradients_util\u001b[38;5;241m.\u001b[39mPOSSIBLE_GRADIENT_TYPES_NONE\n\u001b[0;32m   1860\u001b[0m     \u001b[38;5;129;01mand\u001b[39;00m executing_eagerly):\n\u001b[0;32m   1861\u001b[0m   \u001b[38;5;66;03m# No tape is watching; skip to running the function.\u001b[39;00m\n\u001b[1;32m-> 1862\u001b[0m   \u001b[38;5;28;01mreturn\u001b[39;00m \u001b[38;5;28mself\u001b[39m\u001b[38;5;241m.\u001b[39m_build_call_outputs(\u001b[38;5;28;43mself\u001b[39;49m\u001b[38;5;241;43m.\u001b[39;49m\u001b[43m_inference_function\u001b[49m\u001b[38;5;241;43m.\u001b[39;49m\u001b[43mcall\u001b[49m\u001b[43m(\u001b[49m\n\u001b[0;32m   1863\u001b[0m \u001b[43m      \u001b[49m\u001b[43mctx\u001b[49m\u001b[43m,\u001b[49m\u001b[43m \u001b[49m\u001b[43margs\u001b[49m\u001b[43m,\u001b[49m\u001b[43m \u001b[49m\u001b[43mcancellation_manager\u001b[49m\u001b[38;5;241;43m=\u001b[39;49m\u001b[43mcancellation_manager\u001b[49m\u001b[43m)\u001b[49m)\n\u001b[0;32m   1864\u001b[0m forward_backward \u001b[38;5;241m=\u001b[39m \u001b[38;5;28mself\u001b[39m\u001b[38;5;241m.\u001b[39m_select_forward_and_backward_functions(\n\u001b[0;32m   1865\u001b[0m     args,\n\u001b[0;32m   1866\u001b[0m     possible_gradient_type,\n\u001b[0;32m   1867\u001b[0m     executing_eagerly)\n\u001b[0;32m   1868\u001b[0m forward_function, args_with_tangents \u001b[38;5;241m=\u001b[39m forward_backward\u001b[38;5;241m.\u001b[39mforward()\n",
      "File \u001b[1;32mc:\\Users\\notal\\miniconda3\\envs\\lipsta\\lib\\site-packages\\tensorflow\\python\\eager\\function.py:499\u001b[0m, in \u001b[0;36m_EagerDefinedFunction.call\u001b[1;34m(self, ctx, args, cancellation_manager)\u001b[0m\n\u001b[0;32m    497\u001b[0m \u001b[38;5;28;01mwith\u001b[39;00m _InterpolateFunctionError(\u001b[38;5;28mself\u001b[39m):\n\u001b[0;32m    498\u001b[0m   \u001b[38;5;28;01mif\u001b[39;00m cancellation_manager \u001b[38;5;129;01mis\u001b[39;00m \u001b[38;5;28;01mNone\u001b[39;00m:\n\u001b[1;32m--> 499\u001b[0m     outputs \u001b[38;5;241m=\u001b[39m \u001b[43mexecute\u001b[49m\u001b[38;5;241;43m.\u001b[39;49m\u001b[43mexecute\u001b[49m\u001b[43m(\u001b[49m\n\u001b[0;32m    500\u001b[0m \u001b[43m        \u001b[49m\u001b[38;5;28;43mstr\u001b[39;49m\u001b[43m(\u001b[49m\u001b[38;5;28;43mself\u001b[39;49m\u001b[38;5;241;43m.\u001b[39;49m\u001b[43msignature\u001b[49m\u001b[38;5;241;43m.\u001b[39;49m\u001b[43mname\u001b[49m\u001b[43m)\u001b[49m\u001b[43m,\u001b[49m\n\u001b[0;32m    501\u001b[0m \u001b[43m        \u001b[49m\u001b[43mnum_outputs\u001b[49m\u001b[38;5;241;43m=\u001b[39;49m\u001b[38;5;28;43mself\u001b[39;49m\u001b[38;5;241;43m.\u001b[39;49m\u001b[43m_num_outputs\u001b[49m\u001b[43m,\u001b[49m\n\u001b[0;32m    502\u001b[0m \u001b[43m        \u001b[49m\u001b[43minputs\u001b[49m\u001b[38;5;241;43m=\u001b[39;49m\u001b[43margs\u001b[49m\u001b[43m,\u001b[49m\n\u001b[0;32m    503\u001b[0m \u001b[43m        \u001b[49m\u001b[43mattrs\u001b[49m\u001b[38;5;241;43m=\u001b[39;49m\u001b[43mattrs\u001b[49m\u001b[43m,\u001b[49m\n\u001b[0;32m    504\u001b[0m \u001b[43m        \u001b[49m\u001b[43mctx\u001b[49m\u001b[38;5;241;43m=\u001b[39;49m\u001b[43mctx\u001b[49m\u001b[43m)\u001b[49m\n\u001b[0;32m    505\u001b[0m   \u001b[38;5;28;01melse\u001b[39;00m:\n\u001b[0;32m    506\u001b[0m     outputs \u001b[38;5;241m=\u001b[39m execute\u001b[38;5;241m.\u001b[39mexecute_with_cancellation(\n\u001b[0;32m    507\u001b[0m         \u001b[38;5;28mstr\u001b[39m(\u001b[38;5;28mself\u001b[39m\u001b[38;5;241m.\u001b[39msignature\u001b[38;5;241m.\u001b[39mname),\n\u001b[0;32m    508\u001b[0m         num_outputs\u001b[38;5;241m=\u001b[39m\u001b[38;5;28mself\u001b[39m\u001b[38;5;241m.\u001b[39m_num_outputs,\n\u001b[1;32m   (...)\u001b[0m\n\u001b[0;32m    511\u001b[0m         ctx\u001b[38;5;241m=\u001b[39mctx,\n\u001b[0;32m    512\u001b[0m         cancellation_manager\u001b[38;5;241m=\u001b[39mcancellation_manager)\n",
      "File \u001b[1;32mc:\\Users\\notal\\miniconda3\\envs\\lipsta\\lib\\site-packages\\tensorflow\\python\\eager\\execute.py:54\u001b[0m, in \u001b[0;36mquick_execute\u001b[1;34m(op_name, num_outputs, inputs, attrs, ctx, name)\u001b[0m\n\u001b[0;32m     52\u001b[0m \u001b[38;5;28;01mtry\u001b[39;00m:\n\u001b[0;32m     53\u001b[0m   ctx\u001b[38;5;241m.\u001b[39mensure_initialized()\n\u001b[1;32m---> 54\u001b[0m   tensors \u001b[38;5;241m=\u001b[39m \u001b[43mpywrap_tfe\u001b[49m\u001b[38;5;241;43m.\u001b[39;49m\u001b[43mTFE_Py_Execute\u001b[49m\u001b[43m(\u001b[49m\u001b[43mctx\u001b[49m\u001b[38;5;241;43m.\u001b[39;49m\u001b[43m_handle\u001b[49m\u001b[43m,\u001b[49m\u001b[43m \u001b[49m\u001b[43mdevice_name\u001b[49m\u001b[43m,\u001b[49m\u001b[43m \u001b[49m\u001b[43mop_name\u001b[49m\u001b[43m,\u001b[49m\n\u001b[0;32m     55\u001b[0m \u001b[43m                                      \u001b[49m\u001b[43minputs\u001b[49m\u001b[43m,\u001b[49m\u001b[43m \u001b[49m\u001b[43mattrs\u001b[49m\u001b[43m,\u001b[49m\u001b[43m \u001b[49m\u001b[43mnum_outputs\u001b[49m\u001b[43m)\u001b[49m\n\u001b[0;32m     56\u001b[0m \u001b[38;5;28;01mexcept\u001b[39;00m core\u001b[38;5;241m.\u001b[39m_NotOkStatusException \u001b[38;5;28;01mas\u001b[39;00m e:\n\u001b[0;32m     57\u001b[0m   \u001b[38;5;28;01mif\u001b[39;00m name \u001b[38;5;129;01mis\u001b[39;00m \u001b[38;5;129;01mnot\u001b[39;00m \u001b[38;5;28;01mNone\u001b[39;00m:\n",
      "\u001b[1;31mKeyboardInterrupt\u001b[0m: "
     ]
    }
   ],
   "source": [
    "model.fit(train, validation_data=test, epochs = 5, callbacks=[checkpoint_callback, schedule_callback, example_callback])"
   ]
  }
 ],
 "metadata": {
  "accelerator": "TPU",
  "colab": {
   "collapsed_sections": [
    "9EqJKdBOEYl-",
    "3TA90gu1fz_Z"
   ],
   "gpuType": "V28",
   "provenance": []
  },
  "kernelspec": {
   "display_name": "lipsta",
   "language": "python",
   "name": "python3"
  },
  "language_info": {
   "codemirror_mode": {
    "name": "ipython",
    "version": 3
   },
   "file_extension": ".py",
   "mimetype": "text/x-python",
   "name": "python",
   "nbconvert_exporter": "python",
   "pygments_lexer": "ipython3",
   "version": "3.10.16"
  }
 },
 "nbformat": 4,
 "nbformat_minor": 0
}
